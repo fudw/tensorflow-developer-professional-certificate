{
  "nbformat": 4,
  "nbformat_minor": 0,
  "metadata": {
    "colab": {
      "name": "VIT-on-cifar100.ipynb",
      "provenance": [],
      "collapsed_sections": [],
      "authorship_tag": "ABX9TyMqFNxnpGF+HZ4EOk6Wbmkm",
      "include_colab_link": true
    },
    "kernelspec": {
      "name": "python3",
      "display_name": "Python 3"
    },
    "language_info": {
      "name": "python"
    },
    "accelerator": "GPU"
  },
  "cells": [
    {
      "cell_type": "markdown",
      "metadata": {
        "id": "view-in-github",
        "colab_type": "text"
      },
      "source": [
        "<a href=\"https://colab.research.google.com/github/fudw/tensorflow-developer-professional-certificate/blob/main/VIT_on_cifar100.ipynb\" target=\"_parent\"><img src=\"https://colab.research.google.com/assets/colab-badge.svg\" alt=\"Open In Colab\"/></a>"
      ]
    },
    {
      "cell_type": "code",
      "execution_count": 1,
      "metadata": {
        "colab": {
          "base_uri": "https://localhost:8080/"
        },
        "id": "5NpeO4uNNBF2",
        "outputId": "9f70561a-61fa-4894-f8a8-afa5c4fa7c28"
      },
      "outputs": [
        {
          "output_type": "stream",
          "name": "stdout",
          "text": [
            "Collecting tensorflow_addons\n",
            "  Downloading tensorflow_addons-0.16.1-cp37-cp37m-manylinux_2_12_x86_64.manylinux2010_x86_64.whl (1.1 MB)\n",
            "\u001b[?25l\r\u001b[K     |▎                               | 10 kB 24.0 MB/s eta 0:00:01\r\u001b[K     |▋                               | 20 kB 28.2 MB/s eta 0:00:01\r\u001b[K     |▉                               | 30 kB 26.6 MB/s eta 0:00:01\r\u001b[K     |█▏                              | 40 kB 12.2 MB/s eta 0:00:01\r\u001b[K     |█▌                              | 51 kB 11.1 MB/s eta 0:00:01\r\u001b[K     |█▊                              | 61 kB 12.9 MB/s eta 0:00:01\r\u001b[K     |██                              | 71 kB 13.1 MB/s eta 0:00:01\r\u001b[K     |██▍                             | 81 kB 12.9 MB/s eta 0:00:01\r\u001b[K     |██▋                             | 92 kB 14.1 MB/s eta 0:00:01\r\u001b[K     |███                             | 102 kB 12.6 MB/s eta 0:00:01\r\u001b[K     |███▏                            | 112 kB 12.6 MB/s eta 0:00:01\r\u001b[K     |███▌                            | 122 kB 12.6 MB/s eta 0:00:01\r\u001b[K     |███▉                            | 133 kB 12.6 MB/s eta 0:00:01\r\u001b[K     |████                            | 143 kB 12.6 MB/s eta 0:00:01\r\u001b[K     |████▍                           | 153 kB 12.6 MB/s eta 0:00:01\r\u001b[K     |████▊                           | 163 kB 12.6 MB/s eta 0:00:01\r\u001b[K     |█████                           | 174 kB 12.6 MB/s eta 0:00:01\r\u001b[K     |█████▎                          | 184 kB 12.6 MB/s eta 0:00:01\r\u001b[K     |█████▌                          | 194 kB 12.6 MB/s eta 0:00:01\r\u001b[K     |█████▉                          | 204 kB 12.6 MB/s eta 0:00:01\r\u001b[K     |██████▏                         | 215 kB 12.6 MB/s eta 0:00:01\r\u001b[K     |██████▍                         | 225 kB 12.6 MB/s eta 0:00:01\r\u001b[K     |██████▊                         | 235 kB 12.6 MB/s eta 0:00:01\r\u001b[K     |███████                         | 245 kB 12.6 MB/s eta 0:00:01\r\u001b[K     |███████▎                        | 256 kB 12.6 MB/s eta 0:00:01\r\u001b[K     |███████▋                        | 266 kB 12.6 MB/s eta 0:00:01\r\u001b[K     |███████▉                        | 276 kB 12.6 MB/s eta 0:00:01\r\u001b[K     |████████▏                       | 286 kB 12.6 MB/s eta 0:00:01\r\u001b[K     |████████▌                       | 296 kB 12.6 MB/s eta 0:00:01\r\u001b[K     |████████▊                       | 307 kB 12.6 MB/s eta 0:00:01\r\u001b[K     |█████████                       | 317 kB 12.6 MB/s eta 0:00:01\r\u001b[K     |█████████▍                      | 327 kB 12.6 MB/s eta 0:00:01\r\u001b[K     |█████████▋                      | 337 kB 12.6 MB/s eta 0:00:01\r\u001b[K     |██████████                      | 348 kB 12.6 MB/s eta 0:00:01\r\u001b[K     |██████████▏                     | 358 kB 12.6 MB/s eta 0:00:01\r\u001b[K     |██████████▌                     | 368 kB 12.6 MB/s eta 0:00:01\r\u001b[K     |██████████▉                     | 378 kB 12.6 MB/s eta 0:00:01\r\u001b[K     |███████████                     | 389 kB 12.6 MB/s eta 0:00:01\r\u001b[K     |███████████▍                    | 399 kB 12.6 MB/s eta 0:00:01\r\u001b[K     |███████████▊                    | 409 kB 12.6 MB/s eta 0:00:01\r\u001b[K     |████████████                    | 419 kB 12.6 MB/s eta 0:00:01\r\u001b[K     |████████████▎                   | 430 kB 12.6 MB/s eta 0:00:01\r\u001b[K     |████████████▌                   | 440 kB 12.6 MB/s eta 0:00:01\r\u001b[K     |████████████▉                   | 450 kB 12.6 MB/s eta 0:00:01\r\u001b[K     |█████████████▏                  | 460 kB 12.6 MB/s eta 0:00:01\r\u001b[K     |█████████████▍                  | 471 kB 12.6 MB/s eta 0:00:01\r\u001b[K     |█████████████▊                  | 481 kB 12.6 MB/s eta 0:00:01\r\u001b[K     |██████████████                  | 491 kB 12.6 MB/s eta 0:00:01\r\u001b[K     |██████████████▎                 | 501 kB 12.6 MB/s eta 0:00:01\r\u001b[K     |██████████████▋                 | 512 kB 12.6 MB/s eta 0:00:01\r\u001b[K     |██████████████▉                 | 522 kB 12.6 MB/s eta 0:00:01\r\u001b[K     |███████████████▏                | 532 kB 12.6 MB/s eta 0:00:01\r\u001b[K     |███████████████▌                | 542 kB 12.6 MB/s eta 0:00:01\r\u001b[K     |███████████████▊                | 552 kB 12.6 MB/s eta 0:00:01\r\u001b[K     |████████████████                | 563 kB 12.6 MB/s eta 0:00:01\r\u001b[K     |████████████████▍               | 573 kB 12.6 MB/s eta 0:00:01\r\u001b[K     |████████████████▋               | 583 kB 12.6 MB/s eta 0:00:01\r\u001b[K     |█████████████████               | 593 kB 12.6 MB/s eta 0:00:01\r\u001b[K     |█████████████████▏              | 604 kB 12.6 MB/s eta 0:00:01\r\u001b[K     |█████████████████▌              | 614 kB 12.6 MB/s eta 0:00:01\r\u001b[K     |█████████████████▉              | 624 kB 12.6 MB/s eta 0:00:01\r\u001b[K     |██████████████████              | 634 kB 12.6 MB/s eta 0:00:01\r\u001b[K     |██████████████████▍             | 645 kB 12.6 MB/s eta 0:00:01\r\u001b[K     |██████████████████▊             | 655 kB 12.6 MB/s eta 0:00:01\r\u001b[K     |███████████████████             | 665 kB 12.6 MB/s eta 0:00:01\r\u001b[K     |███████████████████▎            | 675 kB 12.6 MB/s eta 0:00:01\r\u001b[K     |███████████████████▌            | 686 kB 12.6 MB/s eta 0:00:01\r\u001b[K     |███████████████████▉            | 696 kB 12.6 MB/s eta 0:00:01\r\u001b[K     |████████████████████▏           | 706 kB 12.6 MB/s eta 0:00:01\r\u001b[K     |████████████████████▍           | 716 kB 12.6 MB/s eta 0:00:01\r\u001b[K     |████████████████████▊           | 727 kB 12.6 MB/s eta 0:00:01\r\u001b[K     |█████████████████████           | 737 kB 12.6 MB/s eta 0:00:01\r\u001b[K     |█████████████████████▎          | 747 kB 12.6 MB/s eta 0:00:01\r\u001b[K     |█████████████████████▋          | 757 kB 12.6 MB/s eta 0:00:01\r\u001b[K     |█████████████████████▉          | 768 kB 12.6 MB/s eta 0:00:01\r\u001b[K     |██████████████████████▏         | 778 kB 12.6 MB/s eta 0:00:01\r\u001b[K     |██████████████████████▌         | 788 kB 12.6 MB/s eta 0:00:01\r\u001b[K     |██████████████████████▊         | 798 kB 12.6 MB/s eta 0:00:01\r\u001b[K     |███████████████████████         | 808 kB 12.6 MB/s eta 0:00:01\r\u001b[K     |███████████████████████▍        | 819 kB 12.6 MB/s eta 0:00:01\r\u001b[K     |███████████████████████▋        | 829 kB 12.6 MB/s eta 0:00:01\r\u001b[K     |████████████████████████        | 839 kB 12.6 MB/s eta 0:00:01\r\u001b[K     |████████████████████████▏       | 849 kB 12.6 MB/s eta 0:00:01\r\u001b[K     |████████████████████████▌       | 860 kB 12.6 MB/s eta 0:00:01\r\u001b[K     |████████████████████████▉       | 870 kB 12.6 MB/s eta 0:00:01\r\u001b[K     |█████████████████████████       | 880 kB 12.6 MB/s eta 0:00:01\r\u001b[K     |█████████████████████████▍      | 890 kB 12.6 MB/s eta 0:00:01\r\u001b[K     |█████████████████████████▊      | 901 kB 12.6 MB/s eta 0:00:01\r\u001b[K     |██████████████████████████      | 911 kB 12.6 MB/s eta 0:00:01\r\u001b[K     |██████████████████████████▎     | 921 kB 12.6 MB/s eta 0:00:01\r\u001b[K     |██████████████████████████▌     | 931 kB 12.6 MB/s eta 0:00:01\r\u001b[K     |██████████████████████████▉     | 942 kB 12.6 MB/s eta 0:00:01\r\u001b[K     |███████████████████████████▏    | 952 kB 12.6 MB/s eta 0:00:01\r\u001b[K     |███████████████████████████▍    | 962 kB 12.6 MB/s eta 0:00:01\r\u001b[K     |███████████████████████████▊    | 972 kB 12.6 MB/s eta 0:00:01\r\u001b[K     |████████████████████████████    | 983 kB 12.6 MB/s eta 0:00:01\r\u001b[K     |████████████████████████████▎   | 993 kB 12.6 MB/s eta 0:00:01\r\u001b[K     |████████████████████████████▋   | 1.0 MB 12.6 MB/s eta 0:00:01\r\u001b[K     |████████████████████████████▉   | 1.0 MB 12.6 MB/s eta 0:00:01\r\u001b[K     |█████████████████████████████▏  | 1.0 MB 12.6 MB/s eta 0:00:01\r\u001b[K     |█████████████████████████████▌  | 1.0 MB 12.6 MB/s eta 0:00:01\r\u001b[K     |█████████████████████████████▊  | 1.0 MB 12.6 MB/s eta 0:00:01\r\u001b[K     |██████████████████████████████  | 1.1 MB 12.6 MB/s eta 0:00:01\r\u001b[K     |██████████████████████████████▍ | 1.1 MB 12.6 MB/s eta 0:00:01\r\u001b[K     |██████████████████████████████▋ | 1.1 MB 12.6 MB/s eta 0:00:01\r\u001b[K     |███████████████████████████████ | 1.1 MB 12.6 MB/s eta 0:00:01\r\u001b[K     |███████████████████████████████▏| 1.1 MB 12.6 MB/s eta 0:00:01\r\u001b[K     |███████████████████████████████▌| 1.1 MB 12.6 MB/s eta 0:00:01\r\u001b[K     |███████████████████████████████▉| 1.1 MB 12.6 MB/s eta 0:00:01\r\u001b[K     |████████████████████████████████| 1.1 MB 12.6 MB/s \n",
            "\u001b[?25hRequirement already satisfied: typeguard>=2.7 in /usr/local/lib/python3.7/dist-packages (from tensorflow_addons) (2.7.1)\n",
            "Installing collected packages: tensorflow-addons\n",
            "Successfully installed tensorflow-addons-0.16.1\n"
          ]
        }
      ],
      "source": [
        "% pip install tensorflow_addons\n",
        "import numpy as np\n",
        "import matplotlib.pyplot as plt\n",
        "import tensorflow as tf\n",
        "from tensorflow import keras\n",
        "from tensorflow.keras import layers\n",
        "import tensorflow_addons as tfa"
      ]
    },
    {
      "cell_type": "code",
      "source": [
        "(x_train, y_train), (x_test, y_test) = keras.datasets.cifar100.load_data()"
      ],
      "metadata": {
        "colab": {
          "base_uri": "https://localhost:8080/"
        },
        "id": "XAFmJuLsNpc_",
        "outputId": "69c7e5e6-6f67-4ca7-c669-f6a5154e0b43"
      },
      "execution_count": 2,
      "outputs": [
        {
          "output_type": "stream",
          "name": "stdout",
          "text": [
            "Downloading data from https://www.cs.toronto.edu/~kriz/cifar-100-python.tar.gz\n",
            "169009152/169001437 [==============================] - 6s 0us/step\n",
            "169017344/169001437 [==============================] - 6s 0us/step\n"
          ]
        }
      ]
    },
    {
      "cell_type": "code",
      "source": [
        "print(f\"x_train.shape {x_train.shape}, y_train.shape {y_train.shape}\")\n",
        "print(f\"x_test.shape {x_test.shape}, y_test.shape {y_test.shape}\")"
      ],
      "metadata": {
        "colab": {
          "base_uri": "https://localhost:8080/"
        },
        "id": "VaVW5BVrNy4_",
        "outputId": "eb911db1-883a-4c94-d4ec-aaa80c51ac71"
      },
      "execution_count": 3,
      "outputs": [
        {
          "output_type": "stream",
          "name": "stdout",
          "text": [
            "x_train.shape (50000, 32, 32, 3), y_train.shape (50000, 1)\n",
            "x_test.shape (10000, 32, 32, 3), y_test.shape (10000, 1)\n"
          ]
        }
      ]
    },
    {
      "cell_type": "code",
      "source": [
        "num_classes = 100\n",
        "input_shape = (32, 32, 3)\n",
        "learning_rate = 0.001\n",
        "weight_decay = 0.0001\n",
        "batch_size = 256\n",
        "image_size = 72\n",
        "patch_size = 6\n",
        "num_patches = (image_size // patch_size) ** 2\n",
        "projection_dim = 64\n",
        "num_heads = 4\n",
        "transformer_units = [projection_dim * 2, projection_dim]\n",
        "transformer_layers = 8\n",
        "mlp_head_units = [2048, 1024]"
      ],
      "metadata": {
        "id": "gojZZ2mAOB-Q"
      },
      "execution_count": 4,
      "outputs": []
    },
    {
      "cell_type": "code",
      "source": [
        "data_augmentation = keras.Sequential(\n",
        "    [\n",
        "        layers.Normalization(),\n",
        "        layers.Resizing(image_size, image_size),\n",
        "        layers.RandomFlip(\"horizontal\"),\n",
        "        layers.RandomRotation(factor=0.02),\n",
        "        layers.RandomZoom(height_factor=0.2, width_factor=0.2),\n",
        "    ],\n",
        "    name=\"data_augmentation\",\n",
        ")\n",
        "data_augmentation.layers[0].adapt(x_train)"
      ],
      "metadata": {
        "id": "sziD7gw2PCLx"
      },
      "execution_count": 5,
      "outputs": []
    },
    {
      "cell_type": "code",
      "source": [
        "def mlp(x, hidden_units, dropout_rate):\n",
        "    for units in hidden_units:\n",
        "        x = layers.Dense(units, activation=tf.nn.gelu)(x)\n",
        "        x = layers.Dropout(dropout_rate)(x)\n",
        "    return x"
      ],
      "metadata": {
        "id": "rPjISRYGP3tQ"
      },
      "execution_count": 6,
      "outputs": []
    },
    {
      "cell_type": "code",
      "source": [
        "class Patches(layers.Layer):\n",
        "    def __init__(self, patch_size):\n",
        "        super().__init__()\n",
        "        self.patch_size = patch_size\n",
        "\n",
        "    def call(self, images):\n",
        "        batch_size = tf.shape(images)[0]\n",
        "        patches = tf.image.extract_patches(\n",
        "            images=images,\n",
        "            sizes=[1, self.patch_size, self.patch_size, 1],\n",
        "            strides=[1, self.patch_size, self.patch_size, 1],\n",
        "            rates=[1, 1, 1, 1],\n",
        "            padding=\"VALID\",\n",
        "        )\n",
        "        patch_dims = patches.shape[-1]\n",
        "        patches = tf.reshape(patches, [batch_size, -1, patch_dims])\n",
        "        return patches"
      ],
      "metadata": {
        "id": "Ssn4mz_fQZ3P"
      },
      "execution_count": 7,
      "outputs": []
    },
    {
      "cell_type": "code",
      "source": [
        "plt.figure(figsize=(4, 4))\n",
        "image = x_train[np.random.choice(range(x_train.shape[0]))]\n",
        "plt.imshow(image.astype(\"uint8\"))\n",
        "plt.axis(\"off\")\n",
        "\n",
        "resized_image = tf.image.resize(\n",
        "    tf.convert_to_tensor([image]), \n",
        "    size=(image_size, image_size),\n",
        ")\n",
        "patches = Patches(patch_size)(resized_image)\n",
        "print(f\"Image size {image_size}x{image_size}\")\n",
        "print(f\"Patch size {patch_size}x{patch_size}\")\n",
        "print(f\"Patches per image {patches.shape[1]}\")\n",
        "print(f\"Elements per patch {patches.shape[-1]}\")\n",
        "\n",
        "n = int(np.sqrt(patches.shape[1]))\n",
        "plt.figure(figsize=(4, 4))\n",
        "for i, patch in enumerate(patches[0]):\n",
        "    ax = plt.subplot(n, n, i + 1)\n",
        "    patch_image = tf.reshape(patch, (patch_size, patch_size, 3))\n",
        "    plt.imshow(patch_image.numpy().astype(\"uint8\"))\n",
        "    plt.axis(\"off\")"
      ],
      "metadata": {
        "colab": {
          "base_uri": "https://localhost:8080/",
          "height": 548
        },
        "id": "wb_4UrKaVoEb",
        "outputId": "30c42860-cbb8-420e-dd70-d841c50e3f1f"
      },
      "execution_count": 8,
      "outputs": [
        {
          "output_type": "stream",
          "name": "stdout",
          "text": [
            "Image size 72x72\n",
            "Patch size 6x6\n",
            "Patches per image 144\n",
            "Elements per patch 108\n"
          ]
        },
        {
          "output_type": "display_data",
          "data": {
            "text/plain": [
              "<Figure size 288x288 with 1 Axes>"
            ],
            "image/png": "[encoded data removed]"
          },
          "metadata": {
            "needs_background": "light"
          }
        },
        {
          "output_type": "display_data",
          "data": {
            "text/plain": [
              "<Figure size 288x288 with 144 Axes>"
            ],
            "image/png": "[encoded data removed]"
          },
          "metadata": {
            "needs_background": "light"
          }
        }
      ]
    },
    {
      "cell_type": "code",
      "source": [
        "class PatchEncoder(layers.Layer):\n",
        "    def __init__(self, num_patches, projection_dim):\n",
        "        super().__init__()\n",
        "        self.num_patches = num_patches\n",
        "        self.projection = layers.Dense(units=projection_dim)\n",
        "        self.position_embedding = layers.Embedding(\n",
        "            input_dim=num_patches, \n",
        "            output_dim=projection_dim,\n",
        "        )\n",
        "\n",
        "    def call(self, patch):\n",
        "        positions = tf.range(start=0, limit=self.num_patches, delta=1)\n",
        "        encoded = self.projection(patch) + self.position_embedding(positions)\n",
        "        return encoded"
      ],
      "metadata": {
        "id": "GZpsG362c51A"
      },
      "execution_count": 9,
      "outputs": []
    },
    {
      "cell_type": "code",
      "source": [
        "def create_vit_classifier():\n",
        "    inputs = layers.Input(shape=input_shape)\n",
        "    augmented = data_augmentation(inputs)\n",
        "    patches = Patches(patch_size)(augmented)\n",
        "    encoded_patches = PatchEncoder(num_patches, projection_dim)(patches)\n",
        "\n",
        "    for _ in range(transformer_layers):\n",
        "        x1 = layers.LayerNormalization(epsilon=1e-6)(encoded_patches)\n",
        "        attention_output = layers.MultiHeadAttention(\n",
        "            num_heads=num_heads,\n",
        "            key_dim=projection_dim,\n",
        "            dropout=0.1,\n",
        "        )(x1, x1)\n",
        "        x2 = layers.Add()([attention_output, encoded_patches])\n",
        "        x3 = layers.LayerNormalization(epsilon=1e-6)(x2)\n",
        "        x3 = mlp(x3, hidden_units=transformer_units, dropout_rate=0.1)\n",
        "        encoded_patches = layers.Add()([x3, x2])\n",
        "\n",
        "    representation = layers.LayerNormalization(epsilon=1e-6)(encoded_patches)\n",
        "    representation = layers.Flatten()(representation)\n",
        "    representation = layers.Dropout(0.5)(representation)\n",
        "    features = mlp(\n",
        "        representation, \n",
        "        hidden_units=mlp_head_units, \n",
        "        dropout_rate=0.5,\n",
        "    )\n",
        "    logits = layers.Dense(num_classes)(features)\n",
        "    model = keras.Model(inputs=inputs, outputs=logits)\n",
        "    return model"
      ],
      "metadata": {
        "id": "7TN3aVv6WCZv"
      },
      "execution_count": 10,
      "outputs": []
    },
    {
      "cell_type": "code",
      "source": [
        "def train_and_test_model(model, num_epochs):\n",
        "    optimizer = tfa.optimizers.AdamW(\n",
        "        learning_rate=learning_rate,\n",
        "        weight_decay=weight_decay,\n",
        "    )\n",
        "    model.compile(\n",
        "        optimizer=optimizer,\n",
        "        loss=keras.losses.SparseCategoricalCrossentropy(from_logits=True),\n",
        "        metrics=[\n",
        "            keras.metrics.SparseCategoricalAccuracy(name=\"accuracy\"),\n",
        "            keras.metrics.SparseTopKCategoricalAccuracy(\n",
        "                k=5,\n",
        "                name=\"top-5-accuracy\",\n",
        "            ),\n",
        "        ]\n",
        "    )\n",
        "    checkpoint_path = \"tmp/checkpoint\"\n",
        "    checkpoint_callback = keras.callbacks.ModelCheckpoint(\n",
        "        checkpoint_path,\n",
        "        monitor=\"val_accuracy\",\n",
        "        save_best_only=True,\n",
        "        save_weights_only=True,\n",
        "    )\n",
        "\n",
        "    history = model.fit(\n",
        "        x=x_train,\n",
        "        y=y_train,\n",
        "        batch_size=batch_size,\n",
        "        epochs=num_epochs,\n",
        "        validation_split=0.1,\n",
        "        callbacks=[checkpoint_callback],\n",
        "    )\n",
        "\n",
        "    model.load_weights(checkpoint_path)\n",
        "    _, accuracy, top_5_accuracy = model.evaluate(x_test, y_test)\n",
        "    print(f\"Test accuracy {round(accuracy * 100, 2)}%\")\n",
        "    print(f\"Test top-5 accuracy {round(top_5_accuracy * 100, 2)}%\")\n",
        "\n",
        "    return history"
      ],
      "metadata": {
        "id": "NUfZNJrBgIXH"
      },
      "execution_count": 11,
      "outputs": []
    },
    {
      "cell_type": "code",
      "source": [
        "vit_classifier = create_vit_classifier()\n",
        "vit_classifier.summary()"
      ],
      "metadata": {
        "id": "78R4N46ujh1_",
        "colab": {
          "base_uri": "https://localhost:8080/"
        },
        "outputId": "8bf52fad-f6dd-4ee9-a736-2e3440b5f2c3"
      },
      "execution_count": 12,
      "outputs": [
        {
          "output_type": "stream",
          "name": "stdout",
          "text": [
            "Model: \"model\"\n",
            "__________________________________________________________________________________________________\n",
            " Layer (type)                   Output Shape         Param #     Connected to                     \n",
            "==================================================================================================\n",
            " input_1 (InputLayer)           [(None, 32, 32, 3)]  0           []                               \n",
            "                                                                                                  \n",
            " data_augmentation (Sequential)  (None, 72, 72, 3)   7           ['input_1[0][0]']                \n",
            "                                                                                                  \n",
            " patches_1 (Patches)            (None, None, 108)    0           ['data_augmentation[0][0]']      \n",
            "                                                                                                  \n",
            " patch_encoder (PatchEncoder)   (None, 144, 64)      16192       ['patches_1[0][0]']              \n",
            "                                                                                                  \n",
            " layer_normalization (LayerNorm  (None, 144, 64)     128         ['patch_encoder[0][0]']          \n",
            " alization)                                                                                       \n",
            "                                                                                                  \n",
            " multi_head_attention (MultiHea  (None, 144, 64)     66368       ['layer_normalization[0][0]',    \n",
            " dAttention)                                                      'layer_normalization[0][0]']    \n",
            "                                                                                                  \n",
            " add (Add)                      (None, 144, 64)      0           ['multi_head_attention[0][0]',   \n",
            "                                                                  'patch_encoder[0][0]']          \n",
            "                                                                                                  \n",
            " layer_normalization_1 (LayerNo  (None, 144, 64)     128         ['add[0][0]']                    \n",
            " rmalization)                                                                                     \n",
            "                                                                                                  \n",
            " dense_1 (Dense)                (None, 144, 128)     8320        ['layer_normalization_1[0][0]']  \n",
            "                                                                                                  \n",
            " dropout (Dropout)              (None, 144, 128)     0           ['dense_1[0][0]']                \n",
            "                                                                                                  \n",
            " dense_2 (Dense)                (None, 144, 64)      8256        ['dropout[0][0]']                \n",
            "                                                                                                  \n",
            " dropout_1 (Dropout)            (None, 144, 64)      0           ['dense_2[0][0]']                \n",
            "                                                                                                  \n",
            " add_1 (Add)                    (None, 144, 64)      0           ['dropout_1[0][0]',              \n",
            "                                                                  'add[0][0]']                    \n",
            "                                                                                                  \n",
            " layer_normalization_2 (LayerNo  (None, 144, 64)     128         ['add_1[0][0]']                  \n",
            " rmalization)                                                                                     \n",
            "                                                                                                  \n",
            " multi_head_attention_1 (MultiH  (None, 144, 64)     66368       ['layer_normalization_2[0][0]',  \n",
            " eadAttention)                                                    'layer_normalization_2[0][0]']  \n",
            "                                                                                                  \n",
            " add_2 (Add)                    (None, 144, 64)      0           ['multi_head_attention_1[0][0]', \n",
            "                                                                  'add_1[0][0]']                  \n",
            "                                                                                                  \n",
            " layer_normalization_3 (LayerNo  (None, 144, 64)     128         ['add_2[0][0]']                  \n",
            " rmalization)                                                                                     \n",
            "                                                                                                  \n",
            " dense_3 (Dense)                (None, 144, 128)     8320        ['layer_normalization_3[0][0]']  \n",
            "                                                                                                  \n",
            " dropout_2 (Dropout)            (None, 144, 128)     0           ['dense_3[0][0]']                \n",
            "                                                                                                  \n",
            " dense_4 (Dense)                (None, 144, 64)      8256        ['dropout_2[0][0]']              \n",
            "                                                                                                  \n",
            " dropout_3 (Dropout)            (None, 144, 64)      0           ['dense_4[0][0]']                \n",
            "                                                                                                  \n",
            " add_3 (Add)                    (None, 144, 64)      0           ['dropout_3[0][0]',              \n",
            "                                                                  'add_2[0][0]']                  \n",
            "                                                                                                  \n",
            " layer_normalization_4 (LayerNo  (None, 144, 64)     128         ['add_3[0][0]']                  \n",
            " rmalization)                                                                                     \n",
            "                                                                                                  \n",
            " multi_head_attention_2 (MultiH  (None, 144, 64)     66368       ['layer_normalization_4[0][0]',  \n",
            " eadAttention)                                                    'layer_normalization_4[0][0]']  \n",
            "                                                                                                  \n",
            " add_4 (Add)                    (None, 144, 64)      0           ['multi_head_attention_2[0][0]', \n",
            "                                                                  'add_3[0][0]']                  \n",
            "                                                                                                  \n",
            " layer_normalization_5 (LayerNo  (None, 144, 64)     128         ['add_4[0][0]']                  \n",
            " rmalization)                                                                                     \n",
            "                                                                                                  \n",
            " dense_5 (Dense)                (None, 144, 128)     8320        ['layer_normalization_5[0][0]']  \n",
            "                                                                                                  \n",
            " dropout_4 (Dropout)            (None, 144, 128)     0           ['dense_5[0][0]']                \n",
            "                                                                                                  \n",
            " dense_6 (Dense)                (None, 144, 64)      8256        ['dropout_4[0][0]']              \n",
            "                                                                                                  \n",
            " dropout_5 (Dropout)            (None, 144, 64)      0           ['dense_6[0][0]']                \n",
            "                                                                                                  \n",
            " add_5 (Add)                    (None, 144, 64)      0           ['dropout_5[0][0]',              \n",
            "                                                                  'add_4[0][0]']                  \n",
            "                                                                                                  \n",
            " layer_normalization_6 (LayerNo  (None, 144, 64)     128         ['add_5[0][0]']                  \n",
            " rmalization)                                                                                     \n",
            "                                                                                                  \n",
            " multi_head_attention_3 (MultiH  (None, 144, 64)     66368       ['layer_normalization_6[0][0]',  \n",
            " eadAttention)                                                    'layer_normalization_6[0][0]']  \n",
            "                                                                                                  \n",
            " add_6 (Add)                    (None, 144, 64)      0           ['multi_head_attention_3[0][0]', \n",
            "                                                                  'add_5[0][0]']                  \n",
            "                                                                                                  \n",
            " layer_normalization_7 (LayerNo  (None, 144, 64)     128         ['add_6[0][0]']                  \n",
            " rmalization)                                                                                     \n",
            "                                                                                                  \n",
            " dense_7 (Dense)                (None, 144, 128)     8320        ['layer_normalization_7[0][0]']  \n",
            "                                                                                                  \n",
            " dropout_6 (Dropout)            (None, 144, 128)     0           ['dense_7[0][0]']                \n",
            "                                                                                                  \n",
            " dense_8 (Dense)                (None, 144, 64)      8256        ['dropout_6[0][0]']              \n",
            "                                                                                                  \n",
            " dropout_7 (Dropout)            (None, 144, 64)      0           ['dense_8[0][0]']                \n",
            "                                                                                                  \n",
            " add_7 (Add)                    (None, 144, 64)      0           ['dropout_7[0][0]',              \n",
            "                                                                  'add_6[0][0]']                  \n",
            "                                                                                                  \n",
            " layer_normalization_8 (LayerNo  (None, 144, 64)     128         ['add_7[0][0]']                  \n",
            " rmalization)                                                                                     \n",
            "                                                                                                  \n",
            " multi_head_attention_4 (MultiH  (None, 144, 64)     66368       ['layer_normalization_8[0][0]',  \n",
            " eadAttention)                                                    'layer_normalization_8[0][0]']  \n",
            "                                                                                                  \n",
            " add_8 (Add)                    (None, 144, 64)      0           ['multi_head_attention_4[0][0]', \n",
            "                                                                  'add_7[0][0]']                  \n",
            "                                                                                                  \n",
            " layer_normalization_9 (LayerNo  (None, 144, 64)     128         ['add_8[0][0]']                  \n",
            " rmalization)                                                                                     \n",
            "                                                                                                  \n",
            " dense_9 (Dense)                (None, 144, 128)     8320        ['layer_normalization_9[0][0]']  \n",
            "                                                                                                  \n",
            " dropout_8 (Dropout)            (None, 144, 128)     0           ['dense_9[0][0]']                \n",
            "                                                                                                  \n",
            " dense_10 (Dense)               (None, 144, 64)      8256        ['dropout_8[0][0]']              \n",
            "                                                                                                  \n",
            " dropout_9 (Dropout)            (None, 144, 64)      0           ['dense_10[0][0]']               \n",
            "                                                                                                  \n",
            " add_9 (Add)                    (None, 144, 64)      0           ['dropout_9[0][0]',              \n",
            "                                                                  'add_8[0][0]']                  \n",
            "                                                                                                  \n",
            " layer_normalization_10 (LayerN  (None, 144, 64)     128         ['add_9[0][0]']                  \n",
            " ormalization)                                                                                    \n",
            "                                                                                                  \n",
            " multi_head_attention_5 (MultiH  (None, 144, 64)     66368       ['layer_normalization_10[0][0]', \n",
            " eadAttention)                                                    'layer_normalization_10[0][0]'] \n",
            "                                                                                                  \n",
            " add_10 (Add)                   (None, 144, 64)      0           ['multi_head_attention_5[0][0]', \n",
            "                                                                  'add_9[0][0]']                  \n",
            "                                                                                                  \n",
            " layer_normalization_11 (LayerN  (None, 144, 64)     128         ['add_10[0][0]']                 \n",
            " ormalization)                                                                                    \n",
            "                                                                                                  \n",
            " dense_11 (Dense)               (None, 144, 128)     8320        ['layer_normalization_11[0][0]'] \n",
            "                                                                                                  \n",
            " dropout_10 (Dropout)           (None, 144, 128)     0           ['dense_11[0][0]']               \n",
            "                                                                                                  \n",
            " dense_12 (Dense)               (None, 144, 64)      8256        ['dropout_10[0][0]']             \n",
            "                                                                                                  \n",
            " dropout_11 (Dropout)           (None, 144, 64)      0           ['dense_12[0][0]']               \n",
            "                                                                                                  \n",
            " add_11 (Add)                   (None, 144, 64)      0           ['dropout_11[0][0]',             \n",
            "                                                                  'add_10[0][0]']                 \n",
            "                                                                                                  \n",
            " layer_normalization_12 (LayerN  (None, 144, 64)     128         ['add_11[0][0]']                 \n",
            " ormalization)                                                                                    \n",
            "                                                                                                  \n",
            " multi_head_attention_6 (MultiH  (None, 144, 64)     66368       ['layer_normalization_12[0][0]', \n",
            " eadAttention)                                                    'layer_normalization_12[0][0]'] \n",
            "                                                                                                  \n",
            " add_12 (Add)                   (None, 144, 64)      0           ['multi_head_attention_6[0][0]', \n",
            "                                                                  'add_11[0][0]']                 \n",
            "                                                                                                  \n",
            " layer_normalization_13 (LayerN  (None, 144, 64)     128         ['add_12[0][0]']                 \n",
            " ormalization)                                                                                    \n",
            "                                                                                                  \n",
            " dense_13 (Dense)               (None, 144, 128)     8320        ['layer_normalization_13[0][0]'] \n",
            "                                                                                                  \n",
            " dropout_12 (Dropout)           (None, 144, 128)     0           ['dense_13[0][0]']               \n",
            "                                                                                                  \n",
            " dense_14 (Dense)               (None, 144, 64)      8256        ['dropout_12[0][0]']             \n",
            "                                                                                                  \n",
            " dropout_13 (Dropout)           (None, 144, 64)      0           ['dense_14[0][0]']               \n",
            "                                                                                                  \n",
            " add_13 (Add)                   (None, 144, 64)      0           ['dropout_13[0][0]',             \n",
            "                                                                  'add_12[0][0]']                 \n",
            "                                                                                                  \n",
            " layer_normalization_14 (LayerN  (None, 144, 64)     128         ['add_13[0][0]']                 \n",
            " ormalization)                                                                                    \n",
            "                                                                                                  \n",
            " multi_head_attention_7 (MultiH  (None, 144, 64)     66368       ['layer_normalization_14[0][0]', \n",
            " eadAttention)                                                    'layer_normalization_14[0][0]'] \n",
            "                                                                                                  \n",
            " add_14 (Add)                   (None, 144, 64)      0           ['multi_head_attention_7[0][0]', \n",
            "                                                                  'add_13[0][0]']                 \n",
            "                                                                                                  \n",
            " layer_normalization_15 (LayerN  (None, 144, 64)     128         ['add_14[0][0]']                 \n",
            " ormalization)                                                                                    \n",
            "                                                                                                  \n",
            " dense_15 (Dense)               (None, 144, 128)     8320        ['layer_normalization_15[0][0]'] \n",
            "                                                                                                  \n",
            " dropout_14 (Dropout)           (None, 144, 128)     0           ['dense_15[0][0]']               \n",
            "                                                                                                  \n",
            " dense_16 (Dense)               (None, 144, 64)      8256        ['dropout_14[0][0]']             \n",
            "                                                                                                  \n",
            " dropout_15 (Dropout)           (None, 144, 64)      0           ['dense_16[0][0]']               \n",
            "                                                                                                  \n",
            " add_15 (Add)                   (None, 144, 64)      0           ['dropout_15[0][0]',             \n",
            "                                                                  'add_14[0][0]']                 \n",
            "                                                                                                  \n",
            " layer_normalization_16 (LayerN  (None, 144, 64)     128         ['add_15[0][0]']                 \n",
            " ormalization)                                                                                    \n",
            "                                                                                                  \n",
            " flatten (Flatten)              (None, 9216)         0           ['layer_normalization_16[0][0]'] \n",
            "                                                                                                  \n",
            " dropout_16 (Dropout)           (None, 9216)         0           ['flatten[0][0]']                \n",
            "                                                                                                  \n",
            " dense_17 (Dense)               (None, 2048)         18876416    ['dropout_16[0][0]']             \n",
            "                                                                                                  \n",
            " dropout_17 (Dropout)           (None, 2048)         0           ['dense_17[0][0]']               \n",
            "                                                                                                  \n",
            " dense_18 (Dense)               (None, 1024)         2098176     ['dropout_17[0][0]']             \n",
            "                                                                                                  \n",
            " dropout_18 (Dropout)           (None, 1024)         0           ['dense_18[0][0]']               \n",
            "                                                                                                  \n",
            " dense_19 (Dense)               (None, 100)          102500      ['dropout_18[0][0]']             \n",
            "                                                                                                  \n",
            "==================================================================================================\n",
            "Total params: 21,759,019\n",
            "Trainable params: 21,759,012\n",
            "Non-trainable params: 7\n",
            "__________________________________________________________________________________________________\n"
          ]
        }
      ]
    },
    {
      "cell_type": "code",
      "source": [
        "history = train_and_test_model(vit_classifier, 50)"
      ],
      "metadata": {
        "id": "KXCSELNywfbC",
        "colab": {
          "base_uri": "https://localhost:8080/"
        },
        "outputId": "1ddcbcba-d7e3-4d91-8b82-613878c236bd"
      },
      "execution_count": 13,
      "outputs": [
        {
          "output_type": "stream",
          "name": "stdout",
          "text": [
            "Epoch 1/50\n",
            "176/176 [==============================] - 168s 866ms/step - loss: 4.4547 - accuracy: 0.0471 - top-5-accuracy: 0.1686 - val_loss: 3.8952 - val_accuracy: 0.1070 - val_top-5-accuracy: 0.3204\n",
            "Epoch 2/50\n",
            "176/176 [==============================] - 150s 855ms/step - loss: 3.9382 - accuracy: 0.0951 - top-5-accuracy: 0.2928 - val_loss: 3.6086 - val_accuracy: 0.1452 - val_top-5-accuracy: 0.3962\n",
            "Epoch 3/50\n",
            "176/176 [==============================] - 150s 854ms/step - loss: 3.6885 - accuracy: 0.1353 - top-5-accuracy: 0.3724 - val_loss: 3.3383 - val_accuracy: 0.2000 - val_top-5-accuracy: 0.4718\n",
            "Epoch 4/50\n",
            "176/176 [==============================] - 150s 854ms/step - loss: 3.5081 - accuracy: 0.1632 - top-5-accuracy: 0.4211 - val_loss: 3.2273 - val_accuracy: 0.2226 - val_top-5-accuracy: 0.5086\n",
            "Epoch 5/50\n",
            "176/176 [==============================] - 150s 855ms/step - loss: 3.3677 - accuracy: 0.1882 - top-5-accuracy: 0.4625 - val_loss: 3.0624 - val_accuracy: 0.2522 - val_top-5-accuracy: 0.5430\n",
            "Epoch 6/50\n",
            "176/176 [==============================] - 150s 855ms/step - loss: 3.2258 - accuracy: 0.2119 - top-5-accuracy: 0.5014 - val_loss: 2.9289 - val_accuracy: 0.2718 - val_top-5-accuracy: 0.5722\n",
            "Epoch 7/50\n",
            "176/176 [==============================] - 150s 855ms/step - loss: 3.1235 - accuracy: 0.2330 - top-5-accuracy: 0.5286 - val_loss: 2.8363 - val_accuracy: 0.2968 - val_top-5-accuracy: 0.5942\n",
            "Epoch 8/50\n",
            "176/176 [==============================] - 150s 855ms/step - loss: 2.9899 - accuracy: 0.2564 - top-5-accuracy: 0.5599 - val_loss: 2.7829 - val_accuracy: 0.3012 - val_top-5-accuracy: 0.6032\n",
            "Epoch 9/50\n",
            "176/176 [==============================] - 150s 855ms/step - loss: 2.8878 - accuracy: 0.2788 - top-5-accuracy: 0.5836 - val_loss: 2.6428 - val_accuracy: 0.3330 - val_top-5-accuracy: 0.6366\n",
            "Epoch 10/50\n",
            "176/176 [==============================] - 150s 855ms/step - loss: 2.7798 - accuracy: 0.3002 - top-5-accuracy: 0.6066 - val_loss: 2.5756 - val_accuracy: 0.3440 - val_top-5-accuracy: 0.6492\n",
            "Epoch 11/50\n",
            "176/176 [==============================] - 150s 855ms/step - loss: 2.6925 - accuracy: 0.3183 - top-5-accuracy: 0.6288 - val_loss: 2.5093 - val_accuracy: 0.3626 - val_top-5-accuracy: 0.6580\n",
            "Epoch 12/50\n",
            "176/176 [==============================] - 150s 855ms/step - loss: 2.6083 - accuracy: 0.3333 - top-5-accuracy: 0.6483 - val_loss: 2.4092 - val_accuracy: 0.3830 - val_top-5-accuracy: 0.6836\n",
            "Epoch 13/50\n",
            "176/176 [==============================] - 150s 855ms/step - loss: 2.5356 - accuracy: 0.3486 - top-5-accuracy: 0.6653 - val_loss: 2.3400 - val_accuracy: 0.3928 - val_top-5-accuracy: 0.7016\n",
            "Epoch 14/50\n",
            "176/176 [==============================] - 151s 856ms/step - loss: 2.4648 - accuracy: 0.3651 - top-5-accuracy: 0.6815 - val_loss: 2.3186 - val_accuracy: 0.4014 - val_top-5-accuracy: 0.7016\n",
            "Epoch 15/50\n",
            "176/176 [==============================] - 150s 855ms/step - loss: 2.3914 - accuracy: 0.3803 - top-5-accuracy: 0.6968 - val_loss: 2.2834 - val_accuracy: 0.4058 - val_top-5-accuracy: 0.7036\n",
            "Epoch 16/50\n",
            "176/176 [==============================] - 151s 856ms/step - loss: 2.3324 - accuracy: 0.3919 - top-5-accuracy: 0.7072 - val_loss: 2.2059 - val_accuracy: 0.4284 - val_top-5-accuracy: 0.7264\n",
            "Epoch 17/50\n",
            "176/176 [==============================] - 151s 855ms/step - loss: 2.2692 - accuracy: 0.4065 - top-5-accuracy: 0.7192 - val_loss: 2.1617 - val_accuracy: 0.4380 - val_top-5-accuracy: 0.7402\n",
            "Epoch 18/50\n",
            "176/176 [==============================] - 150s 851ms/step - loss: 2.2058 - accuracy: 0.4173 - top-5-accuracy: 0.7338 - val_loss: 2.1620 - val_accuracy: 0.4362 - val_top-5-accuracy: 0.7382\n",
            "Epoch 19/50\n",
            "176/176 [==============================] - 150s 855ms/step - loss: 2.1465 - accuracy: 0.4323 - top-5-accuracy: 0.7455 - val_loss: 2.1349 - val_accuracy: 0.4480 - val_top-5-accuracy: 0.7460\n",
            "Epoch 20/50\n",
            "176/176 [==============================] - 150s 854ms/step - loss: 2.0977 - accuracy: 0.4404 - top-5-accuracy: 0.7587 - val_loss: 2.1158 - val_accuracy: 0.4494 - val_top-5-accuracy: 0.7478\n",
            "Epoch 21/50\n",
            "176/176 [==============================] - 150s 854ms/step - loss: 2.0495 - accuracy: 0.4532 - top-5-accuracy: 0.7639 - val_loss: 2.0742 - val_accuracy: 0.4556 - val_top-5-accuracy: 0.7588\n",
            "Epoch 22/50\n",
            "176/176 [==============================] - 151s 855ms/step - loss: 2.0045 - accuracy: 0.4629 - top-5-accuracy: 0.7747 - val_loss: 2.0821 - val_accuracy: 0.4608 - val_top-5-accuracy: 0.7516\n",
            "Epoch 23/50\n",
            "176/176 [==============================] - 150s 855ms/step - loss: 1.9573 - accuracy: 0.4741 - top-5-accuracy: 0.7820 - val_loss: 2.0109 - val_accuracy: 0.4710 - val_top-5-accuracy: 0.7684\n",
            "Epoch 24/50\n",
            "176/176 [==============================] - 150s 855ms/step - loss: 1.9024 - accuracy: 0.4858 - top-5-accuracy: 0.7915 - val_loss: 2.0009 - val_accuracy: 0.4820 - val_top-5-accuracy: 0.7708\n",
            "Epoch 25/50\n",
            "176/176 [==============================] - 150s 850ms/step - loss: 1.8609 - accuracy: 0.4931 - top-5-accuracy: 0.8000 - val_loss: 1.9912 - val_accuracy: 0.4764 - val_top-5-accuracy: 0.7750\n",
            "Epoch 26/50\n",
            "176/176 [==============================] - 150s 855ms/step - loss: 1.8088 - accuracy: 0.5031 - top-5-accuracy: 0.8107 - val_loss: 1.9676 - val_accuracy: 0.4866 - val_top-5-accuracy: 0.7772\n",
            "Epoch 27/50\n",
            "176/176 [==============================] - 150s 852ms/step - loss: 1.7638 - accuracy: 0.5134 - top-5-accuracy: 0.8186 - val_loss: 1.9798 - val_accuracy: 0.4858 - val_top-5-accuracy: 0.7688\n",
            "Epoch 28/50\n",
            "176/176 [==============================] - 151s 857ms/step - loss: 1.7340 - accuracy: 0.5245 - top-5-accuracy: 0.8249 - val_loss: 1.9551 - val_accuracy: 0.4920 - val_top-5-accuracy: 0.7784\n",
            "Epoch 29/50\n",
            "176/176 [==============================] - 151s 857ms/step - loss: 1.7081 - accuracy: 0.5320 - top-5-accuracy: 0.8273 - val_loss: 1.9157 - val_accuracy: 0.4974 - val_top-5-accuracy: 0.7794\n",
            "Epoch 30/50\n",
            "176/176 [==============================] - 151s 857ms/step - loss: 1.6507 - accuracy: 0.5423 - top-5-accuracy: 0.8384 - val_loss: 1.9316 - val_accuracy: 0.4992 - val_top-5-accuracy: 0.7844\n",
            "Epoch 31/50\n",
            "176/176 [==============================] - 151s 857ms/step - loss: 1.6354 - accuracy: 0.5450 - top-5-accuracy: 0.8413 - val_loss: 1.9225 - val_accuracy: 0.5022 - val_top-5-accuracy: 0.7846\n",
            "Epoch 32/50\n",
            "176/176 [==============================] - 151s 857ms/step - loss: 1.5946 - accuracy: 0.5554 - top-5-accuracy: 0.8484 - val_loss: 1.9128 - val_accuracy: 0.5090 - val_top-5-accuracy: 0.7844\n",
            "Epoch 33/50\n",
            "176/176 [==============================] - 150s 852ms/step - loss: 1.5673 - accuracy: 0.5632 - top-5-accuracy: 0.8540 - val_loss: 1.9240 - val_accuracy: 0.5046 - val_top-5-accuracy: 0.7846\n",
            "Epoch 34/50\n",
            "176/176 [==============================] - 150s 852ms/step - loss: 1.5273 - accuracy: 0.5719 - top-5-accuracy: 0.8596 - val_loss: 1.9210 - val_accuracy: 0.5032 - val_top-5-accuracy: 0.7960\n",
            "Epoch 35/50\n",
            "176/176 [==============================] - 150s 852ms/step - loss: 1.4931 - accuracy: 0.5795 - top-5-accuracy: 0.8649 - val_loss: 1.9331 - val_accuracy: 0.4942 - val_top-5-accuracy: 0.7866\n",
            "Epoch 36/50\n",
            "176/176 [==============================] - 151s 856ms/step - loss: 1.4820 - accuracy: 0.5826 - top-5-accuracy: 0.8685 - val_loss: 1.9012 - val_accuracy: 0.5144 - val_top-5-accuracy: 0.7910\n",
            "Epoch 37/50\n",
            "176/176 [==============================] - 150s 852ms/step - loss: 1.4444 - accuracy: 0.5898 - top-5-accuracy: 0.8730 - val_loss: 1.8924 - val_accuracy: 0.5096 - val_top-5-accuracy: 0.8022\n",
            "Epoch 38/50\n",
            "176/176 [==============================] - 150s 852ms/step - loss: 1.4150 - accuracy: 0.5980 - top-5-accuracy: 0.8771 - val_loss: 1.8915 - val_accuracy: 0.5064 - val_top-5-accuracy: 0.7908\n",
            "Epoch 39/50\n",
            "176/176 [==============================] - 150s 852ms/step - loss: 1.3925 - accuracy: 0.6003 - top-5-accuracy: 0.8833 - val_loss: 1.8889 - val_accuracy: 0.5136 - val_top-5-accuracy: 0.7986\n",
            "Epoch 40/50\n",
            "176/176 [==============================] - 151s 859ms/step - loss: 1.3629 - accuracy: 0.6095 - top-5-accuracy: 0.8877 - val_loss: 1.8692 - val_accuracy: 0.5218 - val_top-5-accuracy: 0.7988\n",
            "Epoch 41/50\n",
            "176/176 [==============================] - 151s 860ms/step - loss: 1.3606 - accuracy: 0.6092 - top-5-accuracy: 0.8873 - val_loss: 1.8645 - val_accuracy: 0.5240 - val_top-5-accuracy: 0.7994\n",
            "Epoch 42/50\n",
            "176/176 [==============================] - 151s 856ms/step - loss: 1.3293 - accuracy: 0.6196 - top-5-accuracy: 0.8923 - val_loss: 1.8876 - val_accuracy: 0.5160 - val_top-5-accuracy: 0.7944\n",
            "Epoch 43/50\n",
            "176/176 [==============================] - 150s 854ms/step - loss: 1.3098 - accuracy: 0.6268 - top-5-accuracy: 0.8937 - val_loss: 1.8813 - val_accuracy: 0.5158 - val_top-5-accuracy: 0.8006\n",
            "Epoch 44/50\n",
            "176/176 [==============================] - 150s 854ms/step - loss: 1.2794 - accuracy: 0.6303 - top-5-accuracy: 0.8994 - val_loss: 1.8774 - val_accuracy: 0.5176 - val_top-5-accuracy: 0.7964\n",
            "Epoch 45/50\n",
            "176/176 [==============================] - 152s 861ms/step - loss: 1.2517 - accuracy: 0.6388 - top-5-accuracy: 0.9028 - val_loss: 1.8338 - val_accuracy: 0.5274 - val_top-5-accuracy: 0.8078\n",
            "Epoch 46/50\n",
            "176/176 [==============================] - 151s 856ms/step - loss: 1.2484 - accuracy: 0.6392 - top-5-accuracy: 0.9033 - val_loss: 1.8610 - val_accuracy: 0.5220 - val_top-5-accuracy: 0.8022\n",
            "Epoch 47/50\n",
            "176/176 [==============================] - 150s 855ms/step - loss: 1.2272 - accuracy: 0.6464 - top-5-accuracy: 0.9058 - val_loss: 1.8702 - val_accuracy: 0.5192 - val_top-5-accuracy: 0.8032\n",
            "Epoch 48/50\n",
            "176/176 [==============================] - 150s 855ms/step - loss: 1.2027 - accuracy: 0.6516 - top-5-accuracy: 0.9088 - val_loss: 1.8941 - val_accuracy: 0.5182 - val_top-5-accuracy: 0.8070\n",
            "Epoch 49/50\n",
            "176/176 [==============================] - 151s 860ms/step - loss: 1.1789 - accuracy: 0.6541 - top-5-accuracy: 0.9134 - val_loss: 1.8835 - val_accuracy: 0.5298 - val_top-5-accuracy: 0.8004\n",
            "Epoch 50/50\n",
            "176/176 [==============================] - 151s 860ms/step - loss: 1.1782 - accuracy: 0.6564 - top-5-accuracy: 0.9141 - val_loss: 1.8765 - val_accuracy: 0.5346 - val_top-5-accuracy: 0.8082\n",
            "313/313 [==============================] - 17s 55ms/step - loss: 1.8276 - accuracy: 0.5346 - top-5-accuracy: 0.8120\n",
            "Test accuracy 53.46%\n",
            "Test top-t accuracy 81.2%\n"
          ]
        }
      ]
    },
    {
      "cell_type": "code",
      "source": [
        ""
      ],
      "metadata": {
        "id": "LNSppo2ew4CE"
      },
      "execution_count": null,
      "outputs": []
    }
  ]
}