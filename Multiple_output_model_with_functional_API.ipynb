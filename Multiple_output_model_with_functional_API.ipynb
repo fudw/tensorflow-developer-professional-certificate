{
  "nbformat": 4,
  "nbformat_minor": 0,
  "metadata": {
    "colab": {
      "name": "C1W1_Assignment.json",
      "provenance": [],
      "toc_visible": true,
      "include_colab_link": true
    },
    "kernelspec": {
      "display_name": "Python 3",
      "language": "python",
      "name": "python3"
    },
    "language_info": {
      "codemirror_mode": {
        "name": "ipython",
        "version": 3
      },
      "file_extension": ".py",
      "mimetype": "text/x-python",
      "name": "python",
      "nbconvert_exporter": "python",
      "pygments_lexer": "ipython3",
      "version": "3.7.6"
    },
    "accelerator": "GPU"
  },
  "cells": [
    {
      "cell_type": "markdown",
      "metadata": {
        "id": "view-in-github",
        "colab_type": "text"
      },
      "source": [
        "<a href=\"https://colab.research.google.com/github/hakureikaze/tfDevProCert/blob/main/Multiple_output_model_with_functional_API.ipynb\" target=\"_parent\"><img src=\"https://colab.research.google.com/assets/colab-badge.svg\" alt=\"Open In Colab\"/></a>"
      ]
    },
    {
      "cell_type": "markdown",
      "metadata": {
        "id": "ZL_6GK8qX35J"
      },
      "source": [
        "\n",
        "\n",
        "# Week 1: Multiple Output Models using the Keras Functional API\n",
        "\n",
        "Welcome to the first programming assignment of the course! Your task will be to use the Keras functional API to train a model to predict two outputs. For this lab, you will use the **[Wine Quality Dataset](https://archive.ics.uci.edu/ml/datasets/Wine+Quality)** from the **UCI machine learning repository**. It has separate datasets for red wine and white wine.\n",
        "\n",
        "Normally, the wines are classified into one of the quality ratings specified in the attributes. In this exercise, you will combine the two datasets to predict the wine quality and whether the wine is red or white solely from the attributes. \n",
        "\n",
        "You will model wine quality estimations as a regression problem and wine type detection as a binary classification problem.\n",
        "\n",
        "#### Please complete sections that are marked **(TODO)**"
      ]
    },
    {
      "cell_type": "markdown",
      "metadata": {
        "id": "obdcD6urYBY9"
      },
      "source": [
        "## Imports"
      ]
    },
    {
      "cell_type": "code",
      "metadata": {
        "id": "t8N3pcTQ5oQI"
      },
      "source": [
        "import tensorflow as tf\n",
        "from tensorflow.keras.models import Model\n",
        "from tensorflow.keras.layers import Dense, Input\n",
        "\n",
        "import numpy as np\n",
        "import matplotlib.pyplot as plt\n",
        "import pandas as pd\n",
        "from sklearn.model_selection import train_test_split\n",
        "from sklearn.metrics import confusion_matrix\n",
        "import itertools\n",
        "\n",
        "import utils"
      ],
      "execution_count": null,
      "outputs": []
    },
    {
      "cell_type": "markdown",
      "metadata": {
        "id": "gQMERzWQYpgm"
      },
      "source": [
        "## Load Dataset\n",
        "\n",
        "\n",
        "You will now download the dataset from the [UCI Machine Learning Repository](https://archive.ics.uci.edu/ml/index.php). \n",
        "\n",
        "### Pre-process the white wine dataset (TODO)\n",
        "You will add a new column named `is_red` in your dataframe to indicate if the wine is white or red. \n",
        "- In the white wine dataset, you will fill the column `is_red` with  zeros (0)."
      ]
    },
    {
      "cell_type": "code",
      "metadata": {
        "deletable": false,
        "id": "2qYAjKXCd4RH",
        "nbgrader": {
          "cell_type": "code",
          "checksum": "cb9f284ba6255170fe04a309a407d72d",
          "grade": false,
          "grade_id": "cell-e5bfa0f152d9a21f",
          "locked": false,
          "schema_version": 3,
          "solution": true,
          "task": false
        },
        "colab": {
          "base_uri": "https://localhost:8080/"
        },
        "outputId": "c454f832-0418-4a49-ef71-04672ef8d38a"
      },
      "source": [
        "# Please uncomment all lines in this cell and replace those marked with `# YOUR CODE HERE`.\n",
        "# You can select all lines in this code cell with Ctrl+A (Windows/Linux) or Cmd+A (Mac), then press Ctrl+/ (Windows/Linux) or Cmd+/ (Mac) to uncomment.\n",
        "\n",
        "\n",
        "\n",
        "# URL of the white wine dataset\n",
        "URL = 'http://archive.ics.uci.edu/ml/machine-learning-databases/wine-quality/winequality-white.csv'\n",
        "\n",
        "# load the dataset from the URL\n",
        "white_df = pd.read_csv(URL, sep=\";\")\n",
        "\n",
        "# fill the `is_red` column with zeros.\n",
        "white_df[\"is_red\"] = np.zeros(white_df.shape[0]).astype(int)\n",
        "\n",
        "# keep only the first of duplicate items\n",
        "white_df = white_df.drop_duplicates(keep='first')\n"
      ],
      "execution_count": null,
      "outputs": [
        {
          "output_type": "stream",
          "text": [
            "(4898, 12)\n",
            "3961\n"
          ],
          "name": "stdout"
        }
      ]
    },
    {
      "cell_type": "code",
      "metadata": {
        "deletable": false,
        "editable": false,
        "nbgrader": {
          "cell_type": "code",
          "checksum": "defe38d6ec58fd31cd67b89e46c4373f",
          "grade": true,
          "grade_id": "cell-30575e713b55fc51",
          "locked": true,
          "points": 1,
          "schema_version": 3,
          "solution": false,
          "task": false
        },
        "id": "bpPxek2arYGC",
        "colab": {
          "base_uri": "https://localhost:8080/"
        },
        "outputId": "3ceefeb6-bcec-4e5f-9b55-01fdb674a67e"
      },
      "source": [
        "# You can click `File -> Open` in the menu above and open the `utils.py` file \n",
        "# in case you want to inspect the unit tests being used for each graded function.\n",
        "\n",
        "utils.test_white_df(white_df)\n"
      ],
      "execution_count": null,
      "outputs": [
        {
          "output_type": "stream",
          "text": [
            "\u001b[92m All public tests passed\n"
          ],
          "name": "stdout"
        }
      ]
    },
    {
      "cell_type": "code",
      "metadata": {
        "id": "OQHK0ohBQRCk",
        "colab": {
          "base_uri": "https://localhost:8080/"
        },
        "outputId": "f054dd0c-b7a2-4bf3-c7d8-761e093d3bfe"
      },
      "source": [
        "print(white_df.alcohol[0])\n",
        "print(white_df.alcohol[100])\n",
        "\n",
        "# EXPECTED OUTPUT\n",
        "# 8.8\n",
        "# 9.1"
      ],
      "execution_count": null,
      "outputs": [
        {
          "output_type": "stream",
          "text": [
            "8.8\n",
            "9.1\n"
          ],
          "name": "stdout"
        }
      ]
    },
    {
      "cell_type": "markdown",
      "metadata": {
        "id": "lPiwi6tIrYGD"
      },
      "source": [
        "### Pre-process the red wine dataset (TODO)\n",
        "- In the red wine dataset, you will fill in the column `is_red` with ones (1)."
      ]
    },
    {
      "cell_type": "code",
      "metadata": {
        "deletable": false,
        "id": "8y3QxKwBed8v",
        "nbgrader": {
          "cell_type": "code",
          "checksum": "be72275f78e2c2d0038dde9aa63f8d4f",
          "grade": false,
          "grade_id": "cell-e47a40f306593274",
          "locked": false,
          "schema_version": 3,
          "solution": true,
          "task": false
        }
      },
      "source": [
        "# Please uncomment all lines in this cell and replace those marked with `# YOUR CODE HERE`.\n",
        "# You can select all lines in this code cell with Ctrl+A (Windows/Linux) or Cmd+A (Mac), then press Ctrl+/ (Windows/Linux) or Cmd+/ (Mac) to uncomment.\n",
        "\n",
        "\n",
        "\n",
        "# URL of the red wine dataset\n",
        "URL = 'http://archive.ics.uci.edu/ml/machine-learning-databases/wine-quality/winequality-red.csv'\n",
        "\n",
        "# load the dataset from the URL\n",
        "red_df = pd.read_csv(URL, sep=\";\")\n",
        "\n",
        "# fill the `is_red` column with ones.\n",
        "red_df[\"is_red\"] = np.ones(len(red_df)).astype(int)\n",
        "\n",
        "# keep only the first of duplicate items\n",
        "red_df = red_df.drop_duplicates(keep='first')\n"
      ],
      "execution_count": null,
      "outputs": []
    },
    {
      "cell_type": "code",
      "metadata": {
        "deletable": false,
        "editable": false,
        "nbgrader": {
          "cell_type": "code",
          "checksum": "d8e0c91b0fd668b63ba74a8f2f958b59",
          "grade": true,
          "grade_id": "cell-2a75937adcc0c25b",
          "locked": true,
          "points": 1,
          "schema_version": 3,
          "solution": false,
          "task": false
        },
        "id": "rCanSmtqrYGE",
        "colab": {
          "base_uri": "https://localhost:8080/"
        },
        "outputId": "5dd7142b-bd35-44e9-8b33-72c666c1c12d"
      },
      "source": [
        "utils.test_red_df(red_df)\n"
      ],
      "execution_count": null,
      "outputs": [
        {
          "output_type": "stream",
          "text": [
            "\u001b[92m All public tests passed\n"
          ],
          "name": "stdout"
        }
      ]
    },
    {
      "cell_type": "code",
      "metadata": {
        "id": "zsB3LUzNQpo_",
        "colab": {
          "base_uri": "https://localhost:8080/"
        },
        "outputId": "0c7b2417-1eb6-4c12-8efd-755eac1582f3"
      },
      "source": [
        "print(red_df.alcohol[0])\n",
        "print(red_df.alcohol[100])\n",
        "\n",
        "# EXPECTED OUTPUT\n",
        "# 9.4\n",
        "# 10.2"
      ],
      "execution_count": null,
      "outputs": [
        {
          "output_type": "stream",
          "text": [
            "9.4\n",
            "10.2\n"
          ],
          "name": "stdout"
        }
      ]
    },
    {
      "cell_type": "markdown",
      "metadata": {
        "id": "2G8B-NYuM6-f"
      },
      "source": [
        "### Concatenate the datasets\n",
        "\n",
        "Next, concatenate the red and white wine dataframes."
      ]
    },
    {
      "cell_type": "code",
      "metadata": {
        "id": "YpQrOjJbfN3m"
      },
      "source": [
        "df = pd.concat([red_df, white_df], ignore_index=True)"
      ],
      "execution_count": null,
      "outputs": []
    },
    {
      "cell_type": "code",
      "metadata": {
        "id": "Se2dTmThQyjb",
        "colab": {
          "base_uri": "https://localhost:8080/"
        },
        "outputId": "399fdb41-150a-4a95-e9e6-0d187ecc9adb"
      },
      "source": [
        "print(df.alcohol[0])\n",
        "print(df.alcohol[100])\n",
        "\n",
        "# EXPECTED OUTPUT\n",
        "# 9.4\n",
        "# 9.5"
      ],
      "execution_count": null,
      "outputs": [
        {
          "output_type": "stream",
          "text": [
            "9.4\n",
            "9.5\n"
          ],
          "name": "stdout"
        }
      ]
    },
    {
      "cell_type": "code",
      "metadata": {
        "id": "wx6y3rPpQv4k"
      },
      "source": [
        "# NOTE: In a real-world scenario, you should shuffle the data.\n",
        "# YOU ARE NOT going to do that here because we want to test\n",
        "# with deterministic data. But if you want the code to do it,\n",
        "# it's in the commented line below:\n",
        "\n",
        "#df = df.iloc[np.random.permutation(len(df))]"
      ],
      "execution_count": null,
      "outputs": []
    },
    {
      "cell_type": "markdown",
      "metadata": {
        "id": "-EqIcbg5M_n1"
      },
      "source": [
        "This will chart the quality of the wines."
      ]
    },
    {
      "cell_type": "code",
      "metadata": {
        "id": "IsvK0-Sgy17C",
        "colab": {
          "base_uri": "https://localhost:8080/",
          "height": 265
        },
        "outputId": "8f47f17b-8350-41ee-aff3-626524df8c08"
      },
      "source": [
        "df['quality'].hist(bins=20);"
      ],
      "execution_count": null,
      "outputs": [
        {
          "output_type": "display_data",
          "data": {
            "image/png": "[encoded data removed]",
            "text/plain": [
              "<Figure size 432x288 with 1 Axes>"
            ]
          },
          "metadata": {
            "tags": [],
            "needs_background": "light"
          }
        }
      ]
    },
    {
      "cell_type": "markdown",
      "metadata": {
        "id": "Nut1rmYLzf-p"
      },
      "source": [
        "### Imbalanced data (TODO)\n",
        "You can see from the plot above that the wine quality dataset is imbalanced. \n",
        "- Since there are very few observations with quality equal to 3, 4, 8 and 9, you can drop these observations from your dataset. \n",
        "- You can do this by removing data belonging to all classes except those > 4 and < 8."
      ]
    },
    {
      "cell_type": "code",
      "metadata": {
        "deletable": false,
        "id": "doH9_-gnf3sz",
        "nbgrader": {
          "cell_type": "code",
          "checksum": "d9ba9fc3a3ca02ccc567be33652b80fe",
          "grade": false,
          "grade_id": "cell-6a3e9db696f6827b",
          "locked": false,
          "schema_version": 3,
          "solution": true,
          "task": false
        }
      },
      "source": [
        "# Please uncomment all lines in this cell and replace those marked with `# YOUR CODE HERE`.\n",
        "# You can select all lines in this code cell with Ctrl+A (Windows/Linux) or Cmd+A (Mac), then press Ctrl+/ (Windows/Linux) or Cmd+/ (Mac) to uncomment.\n",
        "\n",
        "\n",
        "\n",
        "# get data with wine quality greater than 4 and less than 8\n",
        "df = df[(df['quality'] > 4) & (df['quality'] < 8 )]\n",
        "\n",
        "# reset index and drop the old one\n",
        "df = df.reset_index(drop=True)"
      ],
      "execution_count": null,
      "outputs": []
    },
    {
      "cell_type": "code",
      "metadata": {
        "deletable": false,
        "editable": false,
        "nbgrader": {
          "cell_type": "code",
          "checksum": "281e1d86a4803560ed5892cd7eda4c01",
          "grade": true,
          "grade_id": "cell-aed3da719d4682c7",
          "locked": true,
          "points": 1,
          "schema_version": 3,
          "solution": false,
          "task": false
        },
        "id": "o2ZPqzxvrYGN",
        "colab": {
          "base_uri": "https://localhost:8080/"
        },
        "outputId": "a816691e-04eb-474d-deea-572d07a63508"
      },
      "source": [
        "utils.test_df_drop(df)\n",
        "\n"
      ],
      "execution_count": null,
      "outputs": [
        {
          "output_type": "stream",
          "text": [
            "\u001b[92m All public tests passed\n"
          ],
          "name": "stdout"
        }
      ]
    },
    {
      "cell_type": "code",
      "metadata": {
        "id": "xNR1iAlMRPXO",
        "colab": {
          "base_uri": "https://localhost:8080/"
        },
        "outputId": "6e3c8da8-4a11-479f-e430-d61275f6b8a1"
      },
      "source": [
        "print(df.alcohol[0])\n",
        "print(df.alcohol[100])\n",
        "\n",
        "# EXPECTED OUTPUT\n",
        "# 9.4\n",
        "# 10.9"
      ],
      "execution_count": null,
      "outputs": [
        {
          "output_type": "stream",
          "text": [
            "9.4\n",
            "10.9\n"
          ],
          "name": "stdout"
        }
      ]
    },
    {
      "cell_type": "markdown",
      "metadata": {
        "id": "cwhuRpnVRTzG"
      },
      "source": [
        "You can plot again to see the new range of data and quality"
      ]
    },
    {
      "cell_type": "code",
      "metadata": {
        "id": "857ygzZiLgGg",
        "colab": {
          "base_uri": "https://localhost:8080/",
          "height": 265
        },
        "outputId": "5698b711-e306-45d1-a0fa-bca2609e97f2"
      },
      "source": [
        "df['quality'].hist(bins=20);"
      ],
      "execution_count": null,
      "outputs": [
        {
          "output_type": "display_data",
          "data": {
            "image/png": "[encoded data removed]",
            "text/plain": [
              "<Figure size 432x288 with 1 Axes>"
            ]
          },
          "metadata": {
            "tags": [],
            "needs_background": "light"
          }
        }
      ]
    },
    {
      "cell_type": "markdown",
      "metadata": {
        "id": "n3k0vqSsp84t"
      },
      "source": [
        "### Train Test Split (TODO)\n",
        "\n",
        "Next, you can split the datasets into training, test and validation datasets.\n",
        "- The data frame should be split 80:20 into `train` and `test` sets.\n",
        "- The resulting `train` should then be split 80:20 into `train` and `val` sets.\n",
        "- The `train_test_split` parameter `test_size` takes a float value that ranges between 0. and 1, and represents the proportion of the dataset that is allocated to the test set.  The rest of the data is allocated to the training set."
      ]
    },
    {
      "cell_type": "code",
      "metadata": {
        "deletable": false,
        "id": "PAVIf2-fgRVY",
        "nbgrader": {
          "cell_type": "code",
          "checksum": "7f5738f4fb51d65adc9a8acbdf2b9970",
          "grade": false,
          "grade_id": "cell-91946cadf745206b",
          "locked": false,
          "schema_version": 3,
          "solution": true,
          "task": false
        }
      },
      "source": [
        "# Please uncomment all lines in this cell and replace those marked with `# YOUR CODE HERE`.\n",
        "# You can select all lines in this code cell with Ctrl+A (Windows/Linux) or Cmd+A (Mac), then press Ctrl+/ (Windows/Linux) or Cmd+/ (Mac) to uncomment.\n",
        "\n",
        "\n",
        "\n",
        "# Please do not change the random_state parameter. This is needed for grading.\n",
        "\n",
        "# split df into 80:20 train and test sets\n",
        "train, test = train_test_split(df, test_size=0.2, random_state = 1)\n",
        "                               \n",
        "# split train into 80:20 train and val sets\n",
        "train, val = train_test_split(train, test_size=0.2, random_state = 1)"
      ],
      "execution_count": null,
      "outputs": []
    },
    {
      "cell_type": "code",
      "metadata": {
        "deletable": false,
        "editable": false,
        "id": "57h9LcEzRWpk",
        "nbgrader": {
          "cell_type": "code",
          "checksum": "42adbe9e66efac7c7a5f8cd73ac92f22",
          "grade": true,
          "grade_id": "cell-64b8b38cd0b965f6",
          "locked": true,
          "points": 1,
          "schema_version": 3,
          "solution": false,
          "task": false
        },
        "colab": {
          "base_uri": "https://localhost:8080/"
        },
        "outputId": "730ab8c9-6c69-4c04-8059-144e7c1ef80f"
      },
      "source": [
        "utils.test_data_sizes(train.size, test.size, val.size)\n",
        "\n"
      ],
      "execution_count": null,
      "outputs": [
        {
          "output_type": "stream",
          "text": [
            "\u001b[92m All public tests passed\n"
          ],
          "name": "stdout"
        }
      ]
    },
    {
      "cell_type": "markdown",
      "metadata": {
        "id": "RwTNu4KFqG-K"
      },
      "source": [
        "Here's where you can explore the training stats. You can pop the labels 'is_red' and 'quality' from the data as these will be used as the labels\n"
      ]
    },
    {
      "cell_type": "code",
      "metadata": {
        "id": "Y_afyhhHM6WQ",
        "colab": {
          "base_uri": "https://localhost:8080/"
        },
        "outputId": "62fdebef-06eb-4d36-d378-2d570bd0a6c8"
      },
      "source": [
        "train_stats = train.describe()\n",
        "#print(train_stats)\n",
        "train_stats.pop('is_red')\n",
        "train_stats.pop('quality')\n",
        "train_stats = train_stats.transpose()"
      ],
      "execution_count": null,
      "outputs": [
        {
          "output_type": "stream",
          "text": [
            "       fixed acidity  volatile acidity  ...      quality       is_red\n",
            "count    3155.000000       3155.000000  ...  3155.000000  3155.000000\n",
            "mean        7.221616          0.338929  ...     5.813629     0.255784\n",
            "std         1.325297          0.162476  ...     0.701121     0.436370\n",
            "min         3.800000          0.080000  ...     5.000000     0.000000\n",
            "25%         6.400000          0.230000  ...     5.000000     0.000000\n",
            "50%         7.000000          0.290000  ...     6.000000     0.000000\n",
            "75%         7.700000          0.400000  ...     6.000000     1.000000\n",
            "max        15.600000          1.240000  ...     7.000000     1.000000\n",
            "\n",
            "[8 rows x 13 columns]\n"
          ],
          "name": "stdout"
        }
      ]
    },
    {
      "cell_type": "markdown",
      "metadata": {
        "id": "ahvbYm4fNqSt"
      },
      "source": [
        "Explore the training stats!"
      ]
    },
    {
      "cell_type": "code",
      "metadata": {
        "id": "n_gAtPjZ0otF",
        "colab": {
          "base_uri": "https://localhost:8080/",
          "height": 390
        },
        "outputId": "47245d5f-2b8e-43bf-82cb-5572b715d99e"
      },
      "source": [
        "train_stats"
      ],
      "execution_count": null,
      "outputs": [
        {
          "output_type": "execute_result",
          "data": {
            "text/html": [
              "<div>\n",
              "<style scoped>\n",
              "    .dataframe tbody tr th:only-of-type {\n",
              "        vertical-align: middle;\n",
              "    }\n",
              "\n",
              "    .dataframe tbody tr th {\n",
              "        vertical-align: top;\n",
              "    }\n",
              "\n",
              "    .dataframe thead th {\n",
              "        text-align: right;\n",
              "    }\n",
              "</style>\n",
              "<table border=\"1\" class=\"dataframe\">\n",
              "  <thead>\n",
              "    <tr style=\"text-align: right;\">\n",
              "      <th></th>\n",
              "      <th>count</th>\n",
              "      <th>mean</th>\n",
              "      <th>std</th>\n",
              "      <th>min</th>\n",
              "      <th>25%</th>\n",
              "      <th>50%</th>\n",
              "      <th>75%</th>\n",
              "      <th>max</th>\n",
              "    </tr>\n",
              "  </thead>\n",
              "  <tbody>\n",
              "    <tr>\n",
              "      <th>fixed acidity</th>\n",
              "      <td>3155.0</td>\n",
              "      <td>7.221616</td>\n",
              "      <td>1.325297</td>\n",
              "      <td>3.80000</td>\n",
              "      <td>6.40000</td>\n",
              "      <td>7.00000</td>\n",
              "      <td>7.7000</td>\n",
              "      <td>15.60000</td>\n",
              "    </tr>\n",
              "    <tr>\n",
              "      <th>volatile acidity</th>\n",
              "      <td>3155.0</td>\n",
              "      <td>0.338929</td>\n",
              "      <td>0.162476</td>\n",
              "      <td>0.08000</td>\n",
              "      <td>0.23000</td>\n",
              "      <td>0.29000</td>\n",
              "      <td>0.4000</td>\n",
              "      <td>1.24000</td>\n",
              "    </tr>\n",
              "    <tr>\n",
              "      <th>citric acid</th>\n",
              "      <td>3155.0</td>\n",
              "      <td>0.321569</td>\n",
              "      <td>0.147970</td>\n",
              "      <td>0.00000</td>\n",
              "      <td>0.25000</td>\n",
              "      <td>0.31000</td>\n",
              "      <td>0.4000</td>\n",
              "      <td>1.66000</td>\n",
              "    </tr>\n",
              "    <tr>\n",
              "      <th>residual sugar</th>\n",
              "      <td>3155.0</td>\n",
              "      <td>5.155911</td>\n",
              "      <td>4.639632</td>\n",
              "      <td>0.60000</td>\n",
              "      <td>1.80000</td>\n",
              "      <td>2.80000</td>\n",
              "      <td>7.6500</td>\n",
              "      <td>65.80000</td>\n",
              "    </tr>\n",
              "    <tr>\n",
              "      <th>chlorides</th>\n",
              "      <td>3155.0</td>\n",
              "      <td>0.056976</td>\n",
              "      <td>0.036802</td>\n",
              "      <td>0.01200</td>\n",
              "      <td>0.03800</td>\n",
              "      <td>0.04700</td>\n",
              "      <td>0.0660</td>\n",
              "      <td>0.61100</td>\n",
              "    </tr>\n",
              "    <tr>\n",
              "      <th>free sulfur dioxide</th>\n",
              "      <td>3155.0</td>\n",
              "      <td>30.388590</td>\n",
              "      <td>17.236784</td>\n",
              "      <td>1.00000</td>\n",
              "      <td>17.00000</td>\n",
              "      <td>28.00000</td>\n",
              "      <td>41.0000</td>\n",
              "      <td>131.00000</td>\n",
              "    </tr>\n",
              "    <tr>\n",
              "      <th>total sulfur dioxide</th>\n",
              "      <td>3155.0</td>\n",
              "      <td>115.062282</td>\n",
              "      <td>56.706617</td>\n",
              "      <td>6.00000</td>\n",
              "      <td>75.00000</td>\n",
              "      <td>117.00000</td>\n",
              "      <td>156.0000</td>\n",
              "      <td>344.00000</td>\n",
              "    </tr>\n",
              "    <tr>\n",
              "      <th>density</th>\n",
              "      <td>3155.0</td>\n",
              "      <td>0.994633</td>\n",
              "      <td>0.003005</td>\n",
              "      <td>0.98711</td>\n",
              "      <td>0.99232</td>\n",
              "      <td>0.99481</td>\n",
              "      <td>0.9968</td>\n",
              "      <td>1.03898</td>\n",
              "    </tr>\n",
              "    <tr>\n",
              "      <th>pH</th>\n",
              "      <td>3155.0</td>\n",
              "      <td>3.223201</td>\n",
              "      <td>0.161272</td>\n",
              "      <td>2.72000</td>\n",
              "      <td>3.11000</td>\n",
              "      <td>3.21000</td>\n",
              "      <td>3.3300</td>\n",
              "      <td>4.01000</td>\n",
              "    </tr>\n",
              "    <tr>\n",
              "      <th>sulphates</th>\n",
              "      <td>3155.0</td>\n",
              "      <td>0.534051</td>\n",
              "      <td>0.149149</td>\n",
              "      <td>0.22000</td>\n",
              "      <td>0.43000</td>\n",
              "      <td>0.51000</td>\n",
              "      <td>0.6000</td>\n",
              "      <td>1.95000</td>\n",
              "    </tr>\n",
              "    <tr>\n",
              "      <th>alcohol</th>\n",
              "      <td>3155.0</td>\n",
              "      <td>10.504466</td>\n",
              "      <td>1.154654</td>\n",
              "      <td>8.50000</td>\n",
              "      <td>9.50000</td>\n",
              "      <td>10.30000</td>\n",
              "      <td>11.3000</td>\n",
              "      <td>14.00000</td>\n",
              "    </tr>\n",
              "  </tbody>\n",
              "</table>\n",
              "</div>"
            ],
            "text/plain": [
              "                       count        mean  ...       75%        max\n",
              "fixed acidity         3155.0    7.221616  ...    7.7000   15.60000\n",
              "volatile acidity      3155.0    0.338929  ...    0.4000    1.24000\n",
              "citric acid           3155.0    0.321569  ...    0.4000    1.66000\n",
              "residual sugar        3155.0    5.155911  ...    7.6500   65.80000\n",
              "chlorides             3155.0    0.056976  ...    0.0660    0.61100\n",
              "free sulfur dioxide   3155.0   30.388590  ...   41.0000  131.00000\n",
              "total sulfur dioxide  3155.0  115.062282  ...  156.0000  344.00000\n",
              "density               3155.0    0.994633  ...    0.9968    1.03898\n",
              "pH                    3155.0    3.223201  ...    3.3300    4.01000\n",
              "sulphates             3155.0    0.534051  ...    0.6000    1.95000\n",
              "alcohol               3155.0   10.504466  ...   11.3000   14.00000\n",
              "\n",
              "[11 rows x 8 columns]"
            ]
          },
          "metadata": {
            "tags": []
          },
          "execution_count": 28
        }
      ]
    },
    {
      "cell_type": "markdown",
      "metadata": {
        "id": "bGPvt9jir_HC"
      },
      "source": [
        "### Get the labels (TODO)\n",
        "\n",
        "The features and labels are currently in the same dataframe.\n",
        "- You will want to store the label columns `is_red` and `quality` separately from the feature columns.  \n",
        "- The following function, `format_output`, gets these two columns from the dataframe (it's given to you).\n",
        "- `format_output` also formats the data into numpy arrays. \n",
        "- Please use the `format_output` and apply it to the `train`, `val` and `test` sets to get dataframes for the labels."
      ]
    },
    {
      "cell_type": "code",
      "metadata": {
        "id": "Z_fs14XQqZVP"
      },
      "source": [
        "def format_output(data):\n",
        "    is_red = data.pop('is_red')\n",
        "    is_red = np.array(is_red)\n",
        "    quality = data.pop('quality')\n",
        "    quality = np.array(quality)\n",
        "    return (quality, is_red)"
      ],
      "execution_count": null,
      "outputs": []
    },
    {
      "cell_type": "code",
      "metadata": {
        "deletable": false,
        "id": "8L3ZZe1fQicm",
        "nbgrader": {
          "cell_type": "code",
          "checksum": "7a86809e54895a816434c48dc903f55d",
          "grade": false,
          "grade_id": "cell-5c30fa2c2a354b0f",
          "locked": false,
          "schema_version": 3,
          "solution": true,
          "task": false
        }
      },
      "source": [
        "# Please uncomment all lines in this cell and replace those marked with `# YOUR CODE HERE`.\n",
        "# You can select all lines in this code cell with Ctrl+A (Windows/Linux) or Cmd+A (Mac), then press Ctrl+/ (Windows/Linux) or Cmd+/ (Mac) to uncomment.\n",
        "\n",
        "\n",
        "\n",
        "# format the output of the train set\n",
        "train_Y = format_output(train)\n",
        "\n",
        "# format the output of the val set\n",
        "val_Y = format_output(val)\n",
        "    \n",
        "# format the output of the test set\n",
        "test_Y = format_output(test)"
      ],
      "execution_count": null,
      "outputs": []
    },
    {
      "cell_type": "code",
      "metadata": {
        "deletable": false,
        "editable": false,
        "nbgrader": {
          "cell_type": "code",
          "checksum": "359cabbafaed14ec9bbc1e57a7b6f32c",
          "grade": true,
          "grade_id": "cell-4977d8befb80f56b",
          "locked": true,
          "points": 1,
          "schema_version": 3,
          "solution": false,
          "task": false
        },
        "id": "teRNmBLorYGR",
        "colab": {
          "base_uri": "https://localhost:8080/"
        },
        "outputId": "e2f6592b-72d8-4264-be56-06a71ccee905"
      },
      "source": [
        "utils.test_format_output(df, train_Y, val_Y, test_Y)"
      ],
      "execution_count": null,
      "outputs": [
        {
          "output_type": "stream",
          "text": [
            "\u001b[92m All public tests passed\n"
          ],
          "name": "stdout"
        }
      ]
    },
    {
      "cell_type": "markdown",
      "metadata": {
        "id": "SJ2RRf3RrYGS"
      },
      "source": [
        "Notice that after you get the labels, the `train`, `val` and `test` dataframes no longer contain the label columns, and contain just the feature columns.\n",
        "- This is because you used `.pop` in the `format_output` function."
      ]
    },
    {
      "cell_type": "code",
      "metadata": {
        "id": "8mUumfU3rYGS",
        "colab": {
          "base_uri": "https://localhost:8080/",
          "height": 221
        },
        "outputId": "9b352b03-5ca6-4342-ab0c-6a6cf8faf507"
      },
      "source": [
        "train.head()"
      ],
      "execution_count": null,
      "outputs": [
        {
          "output_type": "execute_result",
          "data": {
            "text/html": [
              "<div>\n",
              "<style scoped>\n",
              "    .dataframe tbody tr th:only-of-type {\n",
              "        vertical-align: middle;\n",
              "    }\n",
              "\n",
              "    .dataframe tbody tr th {\n",
              "        vertical-align: top;\n",
              "    }\n",
              "\n",
              "    .dataframe thead th {\n",
              "        text-align: right;\n",
              "    }\n",
              "</style>\n",
              "<table border=\"1\" class=\"dataframe\">\n",
              "  <thead>\n",
              "    <tr style=\"text-align: right;\">\n",
              "      <th></th>\n",
              "      <th>fixed acidity</th>\n",
              "      <th>volatile acidity</th>\n",
              "      <th>citric acid</th>\n",
              "      <th>residual sugar</th>\n",
              "      <th>chlorides</th>\n",
              "      <th>free sulfur dioxide</th>\n",
              "      <th>total sulfur dioxide</th>\n",
              "      <th>density</th>\n",
              "      <th>pH</th>\n",
              "      <th>sulphates</th>\n",
              "      <th>alcohol</th>\n",
              "    </tr>\n",
              "  </thead>\n",
              "  <tbody>\n",
              "    <tr>\n",
              "      <th>225</th>\n",
              "      <td>7.5</td>\n",
              "      <td>0.65</td>\n",
              "      <td>0.18</td>\n",
              "      <td>7.0</td>\n",
              "      <td>0.088</td>\n",
              "      <td>27.0</td>\n",
              "      <td>94.0</td>\n",
              "      <td>0.99915</td>\n",
              "      <td>3.38</td>\n",
              "      <td>0.77</td>\n",
              "      <td>9.4</td>\n",
              "    </tr>\n",
              "    <tr>\n",
              "      <th>3557</th>\n",
              "      <td>6.3</td>\n",
              "      <td>0.27</td>\n",
              "      <td>0.29</td>\n",
              "      <td>12.2</td>\n",
              "      <td>0.044</td>\n",
              "      <td>59.0</td>\n",
              "      <td>196.0</td>\n",
              "      <td>0.99782</td>\n",
              "      <td>3.14</td>\n",
              "      <td>0.40</td>\n",
              "      <td>8.8</td>\n",
              "    </tr>\n",
              "    <tr>\n",
              "      <th>3825</th>\n",
              "      <td>8.8</td>\n",
              "      <td>0.27</td>\n",
              "      <td>0.25</td>\n",
              "      <td>5.0</td>\n",
              "      <td>0.024</td>\n",
              "      <td>52.0</td>\n",
              "      <td>99.0</td>\n",
              "      <td>0.99250</td>\n",
              "      <td>2.87</td>\n",
              "      <td>0.49</td>\n",
              "      <td>11.4</td>\n",
              "    </tr>\n",
              "    <tr>\n",
              "      <th>1740</th>\n",
              "      <td>6.4</td>\n",
              "      <td>0.45</td>\n",
              "      <td>0.07</td>\n",
              "      <td>1.1</td>\n",
              "      <td>0.030</td>\n",
              "      <td>10.0</td>\n",
              "      <td>131.0</td>\n",
              "      <td>0.99050</td>\n",
              "      <td>2.97</td>\n",
              "      <td>0.28</td>\n",
              "      <td>10.8</td>\n",
              "    </tr>\n",
              "    <tr>\n",
              "      <th>1221</th>\n",
              "      <td>7.2</td>\n",
              "      <td>0.53</td>\n",
              "      <td>0.13</td>\n",
              "      <td>2.0</td>\n",
              "      <td>0.058</td>\n",
              "      <td>18.0</td>\n",
              "      <td>22.0</td>\n",
              "      <td>0.99573</td>\n",
              "      <td>3.21</td>\n",
              "      <td>0.68</td>\n",
              "      <td>9.9</td>\n",
              "    </tr>\n",
              "  </tbody>\n",
              "</table>\n",
              "</div>"
            ],
            "text/plain": [
              "      fixed acidity  volatile acidity  citric acid  ...    pH  sulphates  alcohol\n",
              "225             7.5              0.65         0.18  ...  3.38       0.77      9.4\n",
              "3557            6.3              0.27         0.29  ...  3.14       0.40      8.8\n",
              "3825            8.8              0.27         0.25  ...  2.87       0.49     11.4\n",
              "1740            6.4              0.45         0.07  ...  2.97       0.28     10.8\n",
              "1221            7.2              0.53         0.13  ...  3.21       0.68      9.9\n",
              "\n",
              "[5 rows x 11 columns]"
            ]
          },
          "metadata": {
            "tags": []
          },
          "execution_count": 33
        }
      ]
    },
    {
      "cell_type": "code",
      "metadata": {
        "colab": {
          "base_uri": "https://localhost:8080/"
        },
        "id": "_atsp7oAOctA",
        "outputId": "41689bd7-e553-4877-a95e-5ff6fa4c89f9"
      },
      "source": [
        "train.shape"
      ],
      "execution_count": null,
      "outputs": [
        {
          "output_type": "execute_result",
          "data": {
            "text/plain": [
              "(3155, 11)"
            ]
          },
          "metadata": {
            "tags": []
          },
          "execution_count": 41
        }
      ]
    },
    {
      "cell_type": "markdown",
      "metadata": {
        "id": "hEdbrruAsN1D"
      },
      "source": [
        "### Normalize the data (TODO)\n",
        "\n",
        "Next, you can normalize the data, x, using the formula:\n",
        "$$x_{norm} = \\frac{x - \\mu}{\\sigma}$$\n",
        "- The `norm` function is defined for you.\n",
        "- Please apply the `norm` function to normalize the dataframes that contains the feature columns of `train`, `val` and `test` sets."
      ]
    },
    {
      "cell_type": "code",
      "metadata": {
        "id": "WWiZPAHCLjUs"
      },
      "source": [
        "def norm(x):\n",
        "    return (x - train_stats['mean']) / train_stats['std']"
      ],
      "execution_count": null,
      "outputs": []
    },
    {
      "cell_type": "code",
      "metadata": {
        "deletable": false,
        "id": "JEaOi2I2Lk69",
        "nbgrader": {
          "cell_type": "code",
          "checksum": "6bc0cdcb563d192f271067aa3373ff32",
          "grade": false,
          "grade_id": "cell-d8416d975c371095",
          "locked": false,
          "schema_version": 3,
          "solution": true,
          "task": false
        }
      },
      "source": [
        "# Please uncomment all lines in this cell and replace those marked with `# YOUR CODE HERE`.\n",
        "# You can select all lines in this code cell with Ctrl+A (Windows/Linux) or Cmd+A (Mac), then press Ctrl+/ (Windows/Linux) or Cmd+/ (Mac) to uncomment.\n",
        "\n",
        "\n",
        "\n",
        "# normalize the train set\n",
        "norm_train_X = norm(train)\n",
        "    \n",
        "# normalize the val set\n",
        "norm_val_X = norm(val)\n",
        "    \n",
        "# normalize the test set\n",
        "norm_test_X = norm(test)"
      ],
      "execution_count": null,
      "outputs": []
    },
    {
      "cell_type": "code",
      "metadata": {
        "deletable": false,
        "editable": false,
        "nbgrader": {
          "cell_type": "code",
          "checksum": "4f567db45bf40191601780379cc100b8",
          "grade": true,
          "grade_id": "cell-97fad979d157529b",
          "locked": true,
          "points": 1,
          "schema_version": 3,
          "solution": false,
          "task": false
        },
        "id": "bMhRgPsIrYGU",
        "colab": {
          "base_uri": "https://localhost:8080/"
        },
        "outputId": "45b2b3ae-d1de-451d-8100-ae934884d07a"
      },
      "source": [
        "utils.test_norm(norm_train_X, norm_val_X, norm_test_X, train, val, test)\n"
      ],
      "execution_count": null,
      "outputs": [
        {
          "output_type": "stream",
          "text": [
            "\u001b[92m All public tests passed\n"
          ],
          "name": "stdout"
        }
      ]
    },
    {
      "cell_type": "markdown",
      "metadata": {
        "id": "hzykDwQhsaPO"
      },
      "source": [
        "## Define the Model (TODO)\n",
        "\n",
        "Define the model using the functional API. The base model will be 2 `Dense` layers of 128 neurons each, and have the `'relu'` activation.\n",
        "- Check out the documentation for [tf.keras.layers.Dense](https://www.tensorflow.org/api_docs/python/tf/keras/layers/Dense)"
      ]
    },
    {
      "cell_type": "code",
      "metadata": {
        "deletable": false,
        "id": "Rhcns3oTFkM6",
        "nbgrader": {
          "cell_type": "code",
          "checksum": "74b031247e569526552bf13a034a1c07",
          "grade": false,
          "grade_id": "cell-73fceedad1fe351c",
          "locked": false,
          "schema_version": 3,
          "solution": true,
          "task": false
        }
      },
      "source": [
        "# Please uncomment all lines in this cell and replace those marked with `# YOUR CODE HERE`.\n",
        "# You can select all lines in this code cell with Ctrl+A (Windows/Linux) or Cmd+A (Mac), then press Ctrl+/ (Windows/Linux) or Cmd+/ (Mac) to uncomment.\n",
        "\n",
        "\n",
        "\n",
        "def base_model(inputs):\n",
        "    \n",
        "    # connect a Dense layer with 128 neurons and a relu activation\n",
        "    x = Dense(128, activation='relu')(inputs)\n",
        "    \n",
        "    # connect another Dense layer with 128 neurons and a relu activation\n",
        "    x = Dense(128, activation='relu')(x)\n",
        "    return x\n",
        "  "
      ],
      "execution_count": null,
      "outputs": []
    },
    {
      "cell_type": "code",
      "metadata": {
        "deletable": false,
        "editable": false,
        "nbgrader": {
          "cell_type": "code",
          "checksum": "9255924b3def80f679616e4c851a43e1",
          "grade": true,
          "grade_id": "cell-54f742a133353d75",
          "locked": true,
          "points": 1,
          "schema_version": 3,
          "solution": false,
          "task": false
        },
        "id": "ERnm7qZ4rYGW"
      },
      "source": [
        "utils.test_base_model(base_model)"
      ],
      "execution_count": null,
      "outputs": []
    },
    {
      "cell_type": "markdown",
      "metadata": {
        "id": "xem_fcVws6Kz"
      },
      "source": [
        "# Define output layers of the model (TODO)\n",
        "\n",
        "You will add output layers to the base model. \n",
        "- The model will need two outputs.\n",
        "\n",
        "One output layer will predict wine quality, which is a numeric value.\n",
        "- Define a `Dense` layer with 1 neuron.\n",
        "- Since this is a regression output, the activation can be left as its default value `None`.\n",
        "\n",
        "The other output layer will predict the wine type, which is either red `1` or not red `0` (white).\n",
        "- Define a `Dense` layer with 1 neuron.\n",
        "- Since there are two possible categories, you can use a sigmoid activation for binary classification.\n",
        "\n",
        "Define the `Model`\n",
        "- Define the `Model` object, and set the following parameters:\n",
        "  - `inputs`: pass in the inputs to the model as a list.\n",
        "  - `outputs`: pass in a list of the outputs that you just defined: wine quality, then wine type.\n",
        "  - **Note**: please list the wine quality before wine type in the outputs, as this will affect the calculated loss if you choose the other order."
      ]
    },
    {
      "cell_type": "code",
      "metadata": {
        "deletable": false,
        "id": "n5UGF8PMVLPt",
        "nbgrader": {
          "cell_type": "code",
          "checksum": "76d35b90d20cdcbb22986cd8211057de",
          "grade": false,
          "grade_id": "cell-19e285f482f021fb",
          "locked": false,
          "schema_version": 3,
          "solution": true,
          "task": false
        }
      },
      "source": [
        "# Please uncomment all lines in this cell and replace those marked with `# YOUR CODE HERE`.\n",
        "# You can select all lines in this code cell with Ctrl+A (Windows/Linux) or Cmd+A (Mac), then press Ctrl+/ (Windows/Linux) or Cmd+/ (Mac) to uncomment.\n",
        "\n",
        "\n",
        "\n",
        "def final_model(inputs):\n",
        "    \n",
        "    # get the base model\n",
        "    x = base_model(inputs)\n",
        "\n",
        "    # connect the output Dense layer for regression\n",
        "    wine_quality = Dense(units='1', name='wine_quality')(x)\n",
        "\n",
        "    # connect the output Dense layer for classification. this will use a sigmoid activation.\n",
        "    wine_type = Dense(units='1', activation='sigmoid', name='wine_type')(x)\n",
        "\n",
        "    # define the model using the input and output layers\n",
        "    model = Model(inputs=[inputs], outputs=[wine_quality, wine_type])\n",
        "\n",
        "    return model"
      ],
      "execution_count": null,
      "outputs": []
    },
    {
      "cell_type": "code",
      "metadata": {
        "deletable": false,
        "editable": false,
        "nbgrader": {
          "cell_type": "code",
          "checksum": "89cbf89d8ab5e2e59ecf7f63f517520a",
          "grade": true,
          "grade_id": "cell-40d050f855c817d1",
          "locked": true,
          "points": 1,
          "schema_version": 3,
          "solution": false,
          "task": false
        },
        "id": "HUYU7QugrYGY"
      },
      "source": [
        "utils.test_final_model(final_model)"
      ],
      "execution_count": null,
      "outputs": []
    },
    {
      "cell_type": "markdown",
      "metadata": {
        "id": "5R0BMTsltZyu"
      },
      "source": [
        "## Compiling the Model\n",
        "\n",
        "Next, compile the model. When setting the loss parameter of `model.compile`, you're setting the loss for each of the two outputs (wine quality and wine type).\n",
        "\n",
        "To set more than one loss, use a dictionary of key-value pairs.\n",
        "- You can look at the docs for the losses [here](https://www.tensorflow.org/api_docs/python/tf/keras/losses#functions).\n",
        "    - **Note**: For the desired spelling, please look at the \"Functions\" section of the documentation and not the \"classes\" section on that same page.\n",
        "- wine_type: Since you will be performing binary classification on wine type, you should use the binary crossentropy loss function for it.  Please pass this in as a string.  \n",
        "  - **Hint**, this should be all lowercase.  In the documentation, you'll see this under the \"Functions\" section, not the \"Classes\" section.\n",
        "- wine_quality: since this is a regression output, use the mean squared error.  Please pass it in as a string, all lowercase.\n",
        "  - **Hint**: You may notice that there are two aliases for mean squared error.  Please use the shorter name.\n",
        "\n",
        "\n",
        "You will also set the metric for each of the two outputs.  Again, to set metrics for two or more outputs, use a dictionary with key value pairs.\n",
        "- The metrics documentation is linked [here](https://www.tensorflow.org/api_docs/python/tf/keras/metrics).\n",
        "- For the wine type, please set it to accuracy as a string, all lowercase.\n",
        "- For wine quality, please use the root mean squared error.  Instead of a string, you'll set it to an instance of the class [RootMeanSquaredError](https://www.tensorflow.org/api_docs/python/tf/keras/metrics/RootMeanSquaredError), which belongs to the tf.keras.metrics module.\n",
        "\n",
        "**Note**: If you see the error message \n",
        ">Exception: wine quality loss function is incorrect.\n",
        "\n",
        "- Please also check your other losses and metrics, as the error may be caused by the other three key-value pairs and not the wine quality loss."
      ]
    },
    {
      "cell_type": "code",
      "metadata": {
        "deletable": false,
        "id": "LK11duUbUjmh",
        "nbgrader": {
          "cell_type": "code",
          "checksum": "22f45067ca69eb2ccadb43874dbcc27b",
          "grade": false,
          "grade_id": "cell-81afdc4dcca51d5e",
          "locked": false,
          "schema_version": 3,
          "solution": true,
          "task": false
        }
      },
      "source": [
        "# Please uncomment all lines in this cell and replace those marked with `# YOUR CODE HERE`.\n",
        "# You can select all lines in this code cell with Ctrl+A (Windows/Linux) or Cmd+A (Mac), then press Ctrl+/ (Windows/Linux) or Cmd+/ (Mac) to uncomment.\n",
        "\n",
        "\n",
        "\n",
        "inputs = tf.keras.layers.Input(shape=(11,))\n",
        "rms = tf.keras.optimizers.RMSprop(lr=0.0001)\n",
        "model = final_model(inputs)\n",
        "\n",
        "model.compile(optimizer=rms, \n",
        "              loss = {'wine_type' : 'binary_crossentropy',\n",
        "                      'wine_quality' : 'mse'\n",
        "                     },\n",
        "              metrics = {'wine_type' : 'accuracy',\n",
        "                         'wine_quality': tf.keras.metrics.RootMeanSquaredError()\n",
        "                       }\n",
        "             )\n"
      ],
      "execution_count": null,
      "outputs": []
    },
    {
      "cell_type": "code",
      "metadata": {
        "deletable": false,
        "editable": false,
        "nbgrader": {
          "cell_type": "code",
          "checksum": "88e02238ea5e456ff65e835cc8158054",
          "grade": true,
          "grade_id": "cell-2eeeba02391c4632",
          "locked": true,
          "points": 1,
          "schema_version": 3,
          "solution": false,
          "task": false
        },
        "id": "GHQ-9s7hrYGZ"
      },
      "source": [
        "utils.test_model_compile(model)"
      ],
      "execution_count": null,
      "outputs": []
    },
    {
      "cell_type": "markdown",
      "metadata": {
        "id": "90MpAMpWuKm-"
      },
      "source": [
        "## Training the Model\n",
        "\n",
        "Fit the model to the training inputs and outputs. \n",
        "- Check the documentation for [model.fit](https://www.tensorflow.org/api_docs/python/tf/keras/Model#fit).\n",
        "- Remember to use the normalized training set as inputs. \n",
        "- For the validation data, please use the normalized validation set."
      ]
    },
    {
      "cell_type": "code",
      "metadata": {
        "deletable": false,
        "id": "_eiZkle4XwiY",
        "nbgrader": {
          "cell_type": "code",
          "checksum": "2ca7664be03bfd6fd3651ae44d17b793",
          "grade": false,
          "grade_id": "cell-0bb56262896f6680",
          "locked": false,
          "schema_version": 3,
          "solution": true,
          "task": false
        },
        "colab": {
          "base_uri": "https://localhost:8080/"
        },
        "outputId": "788386d8-3053-4197-a124-6c0a5f5bee55"
      },
      "source": [
        "# Please uncomment all lines in this cell and replace those marked with `# YOUR CODE HERE`.\n",
        "# You can select all lines in this code cell with Ctrl+A (Windows/Linux) or Cmd+A (Mac), then press Ctrl+/ (Windows/Linux) or Cmd+/ (Mac) to uncomment.\n",
        "\n",
        "\n",
        "\n",
        "history = model.fit(norm_train_X, train_Y,\n",
        "                    epochs = 180, validation_data=(norm_val_X, val_Y))"
      ],
      "execution_count": null,
      "outputs": [
        {
          "output_type": "stream",
          "text": [
            "Epoch 1/180\n",
            "99/99 [==============================] - 4s 7ms/step - loss: 28.2251 - wine_quality_loss: 27.5546 - wine_type_loss: 0.6705 - wine_quality_root_mean_squared_error: 5.2436 - wine_type_accuracy: 0.5696 - val_loss: 16.7609 - val_wine_quality_loss: 16.1271 - val_wine_type_loss: 0.6337 - val_wine_quality_root_mean_squared_error: 4.0159 - val_wine_type_accuracy: 0.7617\n",
            "Epoch 2/180\n",
            "99/99 [==============================] - 0s 4ms/step - loss: 13.4467 - wine_quality_loss: 12.8336 - wine_type_loss: 0.6131 - wine_quality_root_mean_squared_error: 3.5744 - wine_type_accuracy: 0.8172 - val_loss: 5.8249 - val_wine_quality_loss: 5.2797 - val_wine_type_loss: 0.5452 - val_wine_quality_root_mean_squared_error: 2.2978 - val_wine_type_accuracy: 0.9607\n",
            "Epoch 3/180\n",
            "99/99 [==============================] - 0s 4ms/step - loss: 4.8050 - wine_quality_loss: 4.2902 - wine_type_loss: 0.5148 - wine_quality_root_mean_squared_error: 2.0667 - wine_type_accuracy: 0.9637 - val_loss: 2.8644 - val_wine_quality_loss: 2.4400 - val_wine_type_loss: 0.4245 - val_wine_quality_root_mean_squared_error: 1.5620 - val_wine_type_accuracy: 0.9544\n",
            "Epoch 4/180\n",
            "99/99 [==============================] - 0s 4ms/step - loss: 2.9148 - wine_quality_loss: 2.5230 - wine_type_loss: 0.3918 - wine_quality_root_mean_squared_error: 1.5880 - wine_type_accuracy: 0.9498 - val_loss: 2.3174 - val_wine_quality_loss: 1.9910 - val_wine_type_loss: 0.3264 - val_wine_quality_root_mean_squared_error: 1.4110 - val_wine_type_accuracy: 0.9594\n",
            "Epoch 5/180\n",
            "99/99 [==============================] - 0s 4ms/step - loss: 2.3142 - wine_quality_loss: 2.0127 - wine_type_loss: 0.3014 - wine_quality_root_mean_squared_error: 1.4182 - wine_type_accuracy: 0.9580 - val_loss: 1.9971 - val_wine_quality_loss: 1.7419 - val_wine_type_loss: 0.2552 - val_wine_quality_root_mean_squared_error: 1.3198 - val_wine_type_accuracy: 0.9747\n",
            "Epoch 6/180\n",
            "99/99 [==============================] - 0s 4ms/step - loss: 1.8682 - wine_quality_loss: 1.6388 - wine_type_loss: 0.2294 - wine_quality_root_mean_squared_error: 1.2795 - wine_type_accuracy: 0.9802 - val_loss: 1.7514 - val_wine_quality_loss: 1.5549 - val_wine_type_loss: 0.1965 - val_wine_quality_root_mean_squared_error: 1.2470 - val_wine_type_accuracy: 0.9848\n",
            "Epoch 7/180\n",
            "99/99 [==============================] - 0s 4ms/step - loss: 1.6822 - wine_quality_loss: 1.4957 - wine_type_loss: 0.1865 - wine_quality_root_mean_squared_error: 1.2227 - wine_type_accuracy: 0.9782 - val_loss: 1.6005 - val_wine_quality_loss: 1.4452 - val_wine_type_loss: 0.1553 - val_wine_quality_root_mean_squared_error: 1.2022 - val_wine_type_accuracy: 0.9848\n",
            "Epoch 8/180\n",
            "99/99 [==============================] - 0s 4ms/step - loss: 1.6012 - wine_quality_loss: 1.4526 - wine_type_loss: 0.1486 - wine_quality_root_mean_squared_error: 1.2050 - wine_type_accuracy: 0.9860 - val_loss: 1.4686 - val_wine_quality_loss: 1.3426 - val_wine_type_loss: 0.1259 - val_wine_quality_root_mean_squared_error: 1.1587 - val_wine_type_accuracy: 0.9873\n",
            "Epoch 9/180\n",
            "99/99 [==============================] - 0s 4ms/step - loss: 1.4317 - wine_quality_loss: 1.3161 - wine_type_loss: 0.1156 - wine_quality_root_mean_squared_error: 1.1470 - wine_type_accuracy: 0.9877 - val_loss: 1.3639 - val_wine_quality_loss: 1.2589 - val_wine_type_loss: 0.1050 - val_wine_quality_root_mean_squared_error: 1.1220 - val_wine_type_accuracy: 0.9886\n",
            "Epoch 10/180\n",
            "99/99 [==============================] - 0s 4ms/step - loss: 1.3001 - wine_quality_loss: 1.1973 - wine_type_loss: 0.1028 - wine_quality_root_mean_squared_error: 1.0938 - wine_type_accuracy: 0.9854 - val_loss: 1.2850 - val_wine_quality_loss: 1.1956 - val_wine_type_loss: 0.0894 - val_wine_quality_root_mean_squared_error: 1.0934 - val_wine_type_accuracy: 0.9886\n",
            "Epoch 11/180\n",
            "99/99 [==============================] - 0s 4ms/step - loss: 1.2688 - wine_quality_loss: 1.1839 - wine_type_loss: 0.0850 - wine_quality_root_mean_squared_error: 1.0876 - wine_type_accuracy: 0.9869 - val_loss: 1.1878 - val_wine_quality_loss: 1.1101 - val_wine_type_loss: 0.0777 - val_wine_quality_root_mean_squared_error: 1.0536 - val_wine_type_accuracy: 0.9886\n",
            "Epoch 12/180\n",
            "99/99 [==============================] - 0s 4ms/step - loss: 1.1795 - wine_quality_loss: 1.0987 - wine_type_loss: 0.0808 - wine_quality_root_mean_squared_error: 1.0479 - wine_type_accuracy: 0.9884 - val_loss: 1.1194 - val_wine_quality_loss: 1.0502 - val_wine_type_loss: 0.0693 - val_wine_quality_root_mean_squared_error: 1.0248 - val_wine_type_accuracy: 0.9886\n",
            "Epoch 13/180\n",
            "99/99 [==============================] - 0s 4ms/step - loss: 1.1861 - wine_quality_loss: 1.1164 - wine_type_loss: 0.0697 - wine_quality_root_mean_squared_error: 1.0555 - wine_type_accuracy: 0.9879 - val_loss: 1.0494 - val_wine_quality_loss: 0.9866 - val_wine_type_loss: 0.0628 - val_wine_quality_root_mean_squared_error: 0.9933 - val_wine_type_accuracy: 0.9886\n",
            "Epoch 14/180\n",
            "99/99 [==============================] - 0s 4ms/step - loss: 1.0549 - wine_quality_loss: 0.9937 - wine_type_loss: 0.0612 - wine_quality_root_mean_squared_error: 0.9967 - wine_type_accuracy: 0.9892 - val_loss: 0.9826 - val_wine_quality_loss: 0.9247 - val_wine_type_loss: 0.0579 - val_wine_quality_root_mean_squared_error: 0.9616 - val_wine_type_accuracy: 0.9899\n",
            "Epoch 15/180\n",
            "99/99 [==============================] - 0s 4ms/step - loss: 0.9338 - wine_quality_loss: 0.8730 - wine_type_loss: 0.0608 - wine_quality_root_mean_squared_error: 0.9341 - wine_type_accuracy: 0.9883 - val_loss: 0.9342 - val_wine_quality_loss: 0.8806 - val_wine_type_loss: 0.0536 - val_wine_quality_root_mean_squared_error: 0.9384 - val_wine_type_accuracy: 0.9899\n",
            "Epoch 16/180\n",
            "99/99 [==============================] - 0s 4ms/step - loss: 0.8993 - wine_quality_loss: 0.8422 - wine_type_loss: 0.0571 - wine_quality_root_mean_squared_error: 0.9173 - wine_type_accuracy: 0.9891 - val_loss: 0.8810 - val_wine_quality_loss: 0.8305 - val_wine_type_loss: 0.0504 - val_wine_quality_root_mean_squared_error: 0.9113 - val_wine_type_accuracy: 0.9899\n",
            "Epoch 17/180\n",
            "99/99 [==============================] - 0s 4ms/step - loss: 0.8612 - wine_quality_loss: 0.8083 - wine_type_loss: 0.0529 - wine_quality_root_mean_squared_error: 0.8989 - wine_type_accuracy: 0.9910 - val_loss: 0.8419 - val_wine_quality_loss: 0.7941 - val_wine_type_loss: 0.0479 - val_wine_quality_root_mean_squared_error: 0.8911 - val_wine_type_accuracy: 0.9911\n",
            "Epoch 18/180\n",
            "99/99 [==============================] - 0s 4ms/step - loss: 0.8457 - wine_quality_loss: 0.7902 - wine_type_loss: 0.0556 - wine_quality_root_mean_squared_error: 0.8888 - wine_type_accuracy: 0.9886 - val_loss: 0.7919 - val_wine_quality_loss: 0.7462 - val_wine_type_loss: 0.0457 - val_wine_quality_root_mean_squared_error: 0.8638 - val_wine_type_accuracy: 0.9899\n",
            "Epoch 19/180\n",
            "99/99 [==============================] - 0s 4ms/step - loss: 0.8086 - wine_quality_loss: 0.7609 - wine_type_loss: 0.0477 - wine_quality_root_mean_squared_error: 0.8720 - wine_type_accuracy: 0.9918 - val_loss: 0.7518 - val_wine_quality_loss: 0.7077 - val_wine_type_loss: 0.0441 - val_wine_quality_root_mean_squared_error: 0.8413 - val_wine_type_accuracy: 0.9899\n",
            "Epoch 20/180\n",
            "99/99 [==============================] - 0s 4ms/step - loss: 0.7293 - wine_quality_loss: 0.6919 - wine_type_loss: 0.0374 - wine_quality_root_mean_squared_error: 0.8316 - wine_type_accuracy: 0.9927 - val_loss: 0.7159 - val_wine_quality_loss: 0.6734 - val_wine_type_loss: 0.0425 - val_wine_quality_root_mean_squared_error: 0.8206 - val_wine_type_accuracy: 0.9899\n",
            "Epoch 21/180\n",
            "99/99 [==============================] - 0s 4ms/step - loss: 0.7081 - wine_quality_loss: 0.6718 - wine_type_loss: 0.0363 - wine_quality_root_mean_squared_error: 0.8195 - wine_type_accuracy: 0.9929 - val_loss: 0.6881 - val_wine_quality_loss: 0.6467 - val_wine_type_loss: 0.0414 - val_wine_quality_root_mean_squared_error: 0.8042 - val_wine_type_accuracy: 0.9899\n",
            "Epoch 22/180\n",
            "99/99 [==============================] - 0s 4ms/step - loss: 0.6931 - wine_quality_loss: 0.6419 - wine_type_loss: 0.0511 - wine_quality_root_mean_squared_error: 0.8011 - wine_type_accuracy: 0.9930 - val_loss: 0.6570 - val_wine_quality_loss: 0.6167 - val_wine_type_loss: 0.0403 - val_wine_quality_root_mean_squared_error: 0.7853 - val_wine_type_accuracy: 0.9911\n",
            "Epoch 23/180\n",
            "99/99 [==============================] - 0s 4ms/step - loss: 0.6496 - wine_quality_loss: 0.6129 - wine_type_loss: 0.0367 - wine_quality_root_mean_squared_error: 0.7827 - wine_type_accuracy: 0.9935 - val_loss: 0.6267 - val_wine_quality_loss: 0.5874 - val_wine_type_loss: 0.0393 - val_wine_quality_root_mean_squared_error: 0.7664 - val_wine_type_accuracy: 0.9911\n",
            "Epoch 24/180\n",
            "99/99 [==============================] - 0s 4ms/step - loss: 0.6226 - wine_quality_loss: 0.5854 - wine_type_loss: 0.0372 - wine_quality_root_mean_squared_error: 0.7650 - wine_type_accuracy: 0.9946 - val_loss: 0.5987 - val_wine_quality_loss: 0.5602 - val_wine_type_loss: 0.0385 - val_wine_quality_root_mean_squared_error: 0.7485 - val_wine_type_accuracy: 0.9911\n",
            "Epoch 25/180\n",
            "99/99 [==============================] - 0s 4ms/step - loss: 0.5820 - wine_quality_loss: 0.5537 - wine_type_loss: 0.0283 - wine_quality_root_mean_squared_error: 0.7430 - wine_type_accuracy: 0.9936 - val_loss: 0.5855 - val_wine_quality_loss: 0.5477 - val_wine_type_loss: 0.0378 - val_wine_quality_root_mean_squared_error: 0.7401 - val_wine_type_accuracy: 0.9911\n",
            "Epoch 26/180\n",
            "99/99 [==============================] - 0s 4ms/step - loss: 0.5682 - wine_quality_loss: 0.5324 - wine_type_loss: 0.0358 - wine_quality_root_mean_squared_error: 0.7296 - wine_type_accuracy: 0.9938 - val_loss: 0.5556 - val_wine_quality_loss: 0.5184 - val_wine_type_loss: 0.0371 - val_wine_quality_root_mean_squared_error: 0.7200 - val_wine_type_accuracy: 0.9911\n",
            "Epoch 27/180\n",
            "99/99 [==============================] - 0s 4ms/step - loss: 0.5551 - wine_quality_loss: 0.5248 - wine_type_loss: 0.0302 - wine_quality_root_mean_squared_error: 0.7244 - wine_type_accuracy: 0.9935 - val_loss: 0.5338 - val_wine_quality_loss: 0.4972 - val_wine_type_loss: 0.0366 - val_wine_quality_root_mean_squared_error: 0.7051 - val_wine_type_accuracy: 0.9911\n",
            "Epoch 28/180\n",
            "99/99 [==============================] - 0s 4ms/step - loss: 0.5361 - wine_quality_loss: 0.5073 - wine_type_loss: 0.0288 - wine_quality_root_mean_squared_error: 0.7122 - wine_type_accuracy: 0.9947 - val_loss: 0.5170 - val_wine_quality_loss: 0.4809 - val_wine_type_loss: 0.0361 - val_wine_quality_root_mean_squared_error: 0.6935 - val_wine_type_accuracy: 0.9911\n",
            "Epoch 29/180\n",
            "99/99 [==============================] - 0s 4ms/step - loss: 0.5087 - wine_quality_loss: 0.4705 - wine_type_loss: 0.0382 - wine_quality_root_mean_squared_error: 0.6857 - wine_type_accuracy: 0.9910 - val_loss: 0.4969 - val_wine_quality_loss: 0.4614 - val_wine_type_loss: 0.0355 - val_wine_quality_root_mean_squared_error: 0.6793 - val_wine_type_accuracy: 0.9911\n",
            "Epoch 30/180\n",
            "99/99 [==============================] - 0s 4ms/step - loss: 0.5253 - wine_quality_loss: 0.4933 - wine_type_loss: 0.0320 - wine_quality_root_mean_squared_error: 0.7020 - wine_type_accuracy: 0.9938 - val_loss: 0.4903 - val_wine_quality_loss: 0.4551 - val_wine_type_loss: 0.0352 - val_wine_quality_root_mean_squared_error: 0.6746 - val_wine_type_accuracy: 0.9911\n",
            "Epoch 31/180\n",
            "99/99 [==============================] - 0s 4ms/step - loss: 0.4931 - wine_quality_loss: 0.4514 - wine_type_loss: 0.0417 - wine_quality_root_mean_squared_error: 0.6719 - wine_type_accuracy: 0.9922 - val_loss: 0.4735 - val_wine_quality_loss: 0.4387 - val_wine_type_loss: 0.0348 - val_wine_quality_root_mean_squared_error: 0.6624 - val_wine_type_accuracy: 0.9911\n",
            "Epoch 32/180\n",
            "99/99 [==============================] - 0s 4ms/step - loss: 0.4682 - wine_quality_loss: 0.4393 - wine_type_loss: 0.0288 - wine_quality_root_mean_squared_error: 0.6627 - wine_type_accuracy: 0.9958 - val_loss: 0.4543 - val_wine_quality_loss: 0.4200 - val_wine_type_loss: 0.0344 - val_wine_quality_root_mean_squared_error: 0.6481 - val_wine_type_accuracy: 0.9924\n",
            "Epoch 33/180\n",
            "99/99 [==============================] - 0s 4ms/step - loss: 0.4624 - wine_quality_loss: 0.4348 - wine_type_loss: 0.0277 - wine_quality_root_mean_squared_error: 0.6592 - wine_type_accuracy: 0.9931 - val_loss: 0.4405 - val_wine_quality_loss: 0.4064 - val_wine_type_loss: 0.0341 - val_wine_quality_root_mean_squared_error: 0.6375 - val_wine_type_accuracy: 0.9924\n",
            "Epoch 34/180\n",
            "99/99 [==============================] - 0s 4ms/step - loss: 0.4415 - wine_quality_loss: 0.4047 - wine_type_loss: 0.0369 - wine_quality_root_mean_squared_error: 0.6361 - wine_type_accuracy: 0.9924 - val_loss: 0.4318 - val_wine_quality_loss: 0.3981 - val_wine_type_loss: 0.0337 - val_wine_quality_root_mean_squared_error: 0.6310 - val_wine_type_accuracy: 0.9924\n",
            "Epoch 35/180\n",
            "99/99 [==============================] - 0s 4ms/step - loss: 0.4335 - wine_quality_loss: 0.4022 - wine_type_loss: 0.0313 - wine_quality_root_mean_squared_error: 0.6340 - wine_type_accuracy: 0.9949 - val_loss: 0.4251 - val_wine_quality_loss: 0.3915 - val_wine_type_loss: 0.0336 - val_wine_quality_root_mean_squared_error: 0.6257 - val_wine_type_accuracy: 0.9924\n",
            "Epoch 36/180\n",
            "99/99 [==============================] - 0s 4ms/step - loss: 0.4281 - wine_quality_loss: 0.3953 - wine_type_loss: 0.0328 - wine_quality_root_mean_squared_error: 0.6286 - wine_type_accuracy: 0.9956 - val_loss: 0.4133 - val_wine_quality_loss: 0.3801 - val_wine_type_loss: 0.0332 - val_wine_quality_root_mean_squared_error: 0.6165 - val_wine_type_accuracy: 0.9924\n",
            "Epoch 37/180\n",
            "99/99 [==============================] - 0s 5ms/step - loss: 0.4383 - wine_quality_loss: 0.4005 - wine_type_loss: 0.0379 - wine_quality_root_mean_squared_error: 0.6323 - wine_type_accuracy: 0.9937 - val_loss: 0.4015 - val_wine_quality_loss: 0.3686 - val_wine_type_loss: 0.0329 - val_wine_quality_root_mean_squared_error: 0.6071 - val_wine_type_accuracy: 0.9924\n",
            "Epoch 38/180\n",
            "99/99 [==============================] - 0s 4ms/step - loss: 0.4183 - wine_quality_loss: 0.3821 - wine_type_loss: 0.0362 - wine_quality_root_mean_squared_error: 0.6181 - wine_type_accuracy: 0.9928 - val_loss: 0.4035 - val_wine_quality_loss: 0.3708 - val_wine_type_loss: 0.0327 - val_wine_quality_root_mean_squared_error: 0.6089 - val_wine_type_accuracy: 0.9924\n",
            "Epoch 39/180\n",
            "99/99 [==============================] - 0s 4ms/step - loss: 0.4124 - wine_quality_loss: 0.3862 - wine_type_loss: 0.0263 - wine_quality_root_mean_squared_error: 0.6214 - wine_type_accuracy: 0.9940 - val_loss: 0.4036 - val_wine_quality_loss: 0.3711 - val_wine_type_loss: 0.0325 - val_wine_quality_root_mean_squared_error: 0.6092 - val_wine_type_accuracy: 0.9924\n",
            "Epoch 40/180\n",
            "99/99 [==============================] - 0s 4ms/step - loss: 0.4121 - wine_quality_loss: 0.3803 - wine_type_loss: 0.0318 - wine_quality_root_mean_squared_error: 0.6164 - wine_type_accuracy: 0.9941 - val_loss: 0.3895 - val_wine_quality_loss: 0.3572 - val_wine_type_loss: 0.0323 - val_wine_quality_root_mean_squared_error: 0.5977 - val_wine_type_accuracy: 0.9937\n",
            "Epoch 41/180\n",
            "99/99 [==============================] - 0s 4ms/step - loss: 0.3810 - wine_quality_loss: 0.3580 - wine_type_loss: 0.0231 - wine_quality_root_mean_squared_error: 0.5982 - wine_type_accuracy: 0.9954 - val_loss: 0.3806 - val_wine_quality_loss: 0.3485 - val_wine_type_loss: 0.0321 - val_wine_quality_root_mean_squared_error: 0.5904 - val_wine_type_accuracy: 0.9924\n",
            "Epoch 42/180\n",
            "99/99 [==============================] - 0s 4ms/step - loss: 0.3707 - wine_quality_loss: 0.3457 - wine_type_loss: 0.0250 - wine_quality_root_mean_squared_error: 0.5878 - wine_type_accuracy: 0.9958 - val_loss: 0.3812 - val_wine_quality_loss: 0.3491 - val_wine_type_loss: 0.0321 - val_wine_quality_root_mean_squared_error: 0.5909 - val_wine_type_accuracy: 0.9937\n",
            "Epoch 43/180\n",
            "99/99 [==============================] - 0s 4ms/step - loss: 0.3872 - wine_quality_loss: 0.3597 - wine_type_loss: 0.0275 - wine_quality_root_mean_squared_error: 0.5996 - wine_type_accuracy: 0.9936 - val_loss: 0.3734 - val_wine_quality_loss: 0.3416 - val_wine_type_loss: 0.0318 - val_wine_quality_root_mean_squared_error: 0.5845 - val_wine_type_accuracy: 0.9937\n",
            "Epoch 44/180\n",
            "99/99 [==============================] - 0s 4ms/step - loss: 0.3749 - wine_quality_loss: 0.3458 - wine_type_loss: 0.0291 - wine_quality_root_mean_squared_error: 0.5879 - wine_type_accuracy: 0.9944 - val_loss: 0.3727 - val_wine_quality_loss: 0.3411 - val_wine_type_loss: 0.0316 - val_wine_quality_root_mean_squared_error: 0.5840 - val_wine_type_accuracy: 0.9949\n",
            "Epoch 45/180\n",
            "99/99 [==============================] - 0s 4ms/step - loss: 0.3588 - wine_quality_loss: 0.3386 - wine_type_loss: 0.0201 - wine_quality_root_mean_squared_error: 0.5818 - wine_type_accuracy: 0.9967 - val_loss: 0.3680 - val_wine_quality_loss: 0.3365 - val_wine_type_loss: 0.0315 - val_wine_quality_root_mean_squared_error: 0.5801 - val_wine_type_accuracy: 0.9949\n",
            "Epoch 46/180\n",
            "99/99 [==============================] - 0s 4ms/step - loss: 0.3813 - wine_quality_loss: 0.3503 - wine_type_loss: 0.0310 - wine_quality_root_mean_squared_error: 0.5918 - wine_type_accuracy: 0.9949 - val_loss: 0.3629 - val_wine_quality_loss: 0.3313 - val_wine_type_loss: 0.0315 - val_wine_quality_root_mean_squared_error: 0.5756 - val_wine_type_accuracy: 0.9937\n",
            "Epoch 47/180\n",
            "99/99 [==============================] - 0s 4ms/step - loss: 0.3687 - wine_quality_loss: 0.3399 - wine_type_loss: 0.0288 - wine_quality_root_mean_squared_error: 0.5829 - wine_type_accuracy: 0.9941 - val_loss: 0.3585 - val_wine_quality_loss: 0.3272 - val_wine_type_loss: 0.0313 - val_wine_quality_root_mean_squared_error: 0.5720 - val_wine_type_accuracy: 0.9949\n",
            "Epoch 48/180\n",
            "99/99 [==============================] - 0s 4ms/step - loss: 0.3605 - wine_quality_loss: 0.3364 - wine_type_loss: 0.0241 - wine_quality_root_mean_squared_error: 0.5799 - wine_type_accuracy: 0.9955 - val_loss: 0.3680 - val_wine_quality_loss: 0.3368 - val_wine_type_loss: 0.0312 - val_wine_quality_root_mean_squared_error: 0.5804 - val_wine_type_accuracy: 0.9949\n",
            "Epoch 49/180\n",
            "99/99 [==============================] - 0s 4ms/step - loss: 0.3482 - wine_quality_loss: 0.3295 - wine_type_loss: 0.0186 - wine_quality_root_mean_squared_error: 0.5740 - wine_type_accuracy: 0.9973 - val_loss: 0.3569 - val_wine_quality_loss: 0.3260 - val_wine_type_loss: 0.0309 - val_wine_quality_root_mean_squared_error: 0.5709 - val_wine_type_accuracy: 0.9949\n",
            "Epoch 50/180\n",
            "99/99 [==============================] - 0s 4ms/step - loss: 0.3402 - wine_quality_loss: 0.3211 - wine_type_loss: 0.0191 - wine_quality_root_mean_squared_error: 0.5665 - wine_type_accuracy: 0.9954 - val_loss: 0.3559 - val_wine_quality_loss: 0.3250 - val_wine_type_loss: 0.0309 - val_wine_quality_root_mean_squared_error: 0.5701 - val_wine_type_accuracy: 0.9949\n",
            "Epoch 51/180\n",
            "99/99 [==============================] - 0s 4ms/step - loss: 0.3554 - wine_quality_loss: 0.3277 - wine_type_loss: 0.0277 - wine_quality_root_mean_squared_error: 0.5723 - wine_type_accuracy: 0.9953 - val_loss: 0.3687 - val_wine_quality_loss: 0.3379 - val_wine_type_loss: 0.0308 - val_wine_quality_root_mean_squared_error: 0.5813 - val_wine_type_accuracy: 0.9949\n",
            "Epoch 52/180\n",
            "99/99 [==============================] - 0s 4ms/step - loss: 0.3507 - wine_quality_loss: 0.3306 - wine_type_loss: 0.0201 - wine_quality_root_mean_squared_error: 0.5749 - wine_type_accuracy: 0.9959 - val_loss: 0.3494 - val_wine_quality_loss: 0.3187 - val_wine_type_loss: 0.0307 - val_wine_quality_root_mean_squared_error: 0.5646 - val_wine_type_accuracy: 0.9949\n",
            "Epoch 53/180\n",
            "99/99 [==============================] - 0s 4ms/step - loss: 0.3487 - wine_quality_loss: 0.3204 - wine_type_loss: 0.0283 - wine_quality_root_mean_squared_error: 0.5660 - wine_type_accuracy: 0.9961 - val_loss: 0.3500 - val_wine_quality_loss: 0.3193 - val_wine_type_loss: 0.0306 - val_wine_quality_root_mean_squared_error: 0.5651 - val_wine_type_accuracy: 0.9949\n",
            "Epoch 54/180\n",
            "99/99 [==============================] - 0s 4ms/step - loss: 0.3501 - wine_quality_loss: 0.3262 - wine_type_loss: 0.0240 - wine_quality_root_mean_squared_error: 0.5711 - wine_type_accuracy: 0.9965 - val_loss: 0.3515 - val_wine_quality_loss: 0.3210 - val_wine_type_loss: 0.0305 - val_wine_quality_root_mean_squared_error: 0.5666 - val_wine_type_accuracy: 0.9949\n",
            "Epoch 55/180\n",
            "99/99 [==============================] - 0s 4ms/step - loss: 0.3404 - wine_quality_loss: 0.3181 - wine_type_loss: 0.0223 - wine_quality_root_mean_squared_error: 0.5639 - wine_type_accuracy: 0.9958 - val_loss: 0.3450 - val_wine_quality_loss: 0.3146 - val_wine_type_loss: 0.0304 - val_wine_quality_root_mean_squared_error: 0.5609 - val_wine_type_accuracy: 0.9949\n",
            "Epoch 56/180\n",
            "99/99 [==============================] - 0s 4ms/step - loss: 0.3557 - wine_quality_loss: 0.3288 - wine_type_loss: 0.0270 - wine_quality_root_mean_squared_error: 0.5733 - wine_type_accuracy: 0.9954 - val_loss: 0.3463 - val_wine_quality_loss: 0.3160 - val_wine_type_loss: 0.0303 - val_wine_quality_root_mean_squared_error: 0.5621 - val_wine_type_accuracy: 0.9949\n",
            "Epoch 57/180\n",
            "99/99 [==============================] - 0s 4ms/step - loss: 0.3329 - wine_quality_loss: 0.3131 - wine_type_loss: 0.0198 - wine_quality_root_mean_squared_error: 0.5593 - wine_type_accuracy: 0.9959 - val_loss: 0.3485 - val_wine_quality_loss: 0.3184 - val_wine_type_loss: 0.0301 - val_wine_quality_root_mean_squared_error: 0.5643 - val_wine_type_accuracy: 0.9949\n",
            "Epoch 58/180\n",
            "99/99 [==============================] - 0s 5ms/step - loss: 0.3453 - wine_quality_loss: 0.3252 - wine_type_loss: 0.0201 - wine_quality_root_mean_squared_error: 0.5702 - wine_type_accuracy: 0.9958 - val_loss: 0.3460 - val_wine_quality_loss: 0.3161 - val_wine_type_loss: 0.0299 - val_wine_quality_root_mean_squared_error: 0.5622 - val_wine_type_accuracy: 0.9949\n",
            "Epoch 59/180\n",
            "99/99 [==============================] - 0s 4ms/step - loss: 0.3417 - wine_quality_loss: 0.3166 - wine_type_loss: 0.0251 - wine_quality_root_mean_squared_error: 0.5625 - wine_type_accuracy: 0.9955 - val_loss: 0.3429 - val_wine_quality_loss: 0.3130 - val_wine_type_loss: 0.0299 - val_wine_quality_root_mean_squared_error: 0.5595 - val_wine_type_accuracy: 0.9949\n",
            "Epoch 60/180\n",
            "99/99 [==============================] - 0s 4ms/step - loss: 0.3362 - wine_quality_loss: 0.3167 - wine_type_loss: 0.0195 - wine_quality_root_mean_squared_error: 0.5627 - wine_type_accuracy: 0.9964 - val_loss: 0.3422 - val_wine_quality_loss: 0.3123 - val_wine_type_loss: 0.0298 - val_wine_quality_root_mean_squared_error: 0.5589 - val_wine_type_accuracy: 0.9949\n",
            "Epoch 61/180\n",
            "99/99 [==============================] - 0s 4ms/step - loss: 0.3240 - wine_quality_loss: 0.3063 - wine_type_loss: 0.0176 - wine_quality_root_mean_squared_error: 0.5533 - wine_type_accuracy: 0.9950 - val_loss: 0.3447 - val_wine_quality_loss: 0.3149 - val_wine_type_loss: 0.0298 - val_wine_quality_root_mean_squared_error: 0.5611 - val_wine_type_accuracy: 0.9949\n",
            "Epoch 62/180\n",
            "99/99 [==============================] - 0s 4ms/step - loss: 0.3272 - wine_quality_loss: 0.3000 - wine_type_loss: 0.0271 - wine_quality_root_mean_squared_error: 0.5475 - wine_type_accuracy: 0.9950 - val_loss: 0.3438 - val_wine_quality_loss: 0.3142 - val_wine_type_loss: 0.0296 - val_wine_quality_root_mean_squared_error: 0.5606 - val_wine_type_accuracy: 0.9949\n",
            "Epoch 63/180\n",
            "99/99 [==============================] - 0s 4ms/step - loss: 0.3396 - wine_quality_loss: 0.3089 - wine_type_loss: 0.0307 - wine_quality_root_mean_squared_error: 0.5557 - wine_type_accuracy: 0.9947 - val_loss: 0.3427 - val_wine_quality_loss: 0.3133 - val_wine_type_loss: 0.0294 - val_wine_quality_root_mean_squared_error: 0.5597 - val_wine_type_accuracy: 0.9949\n",
            "Epoch 64/180\n",
            "99/99 [==============================] - 0s 4ms/step - loss: 0.3344 - wine_quality_loss: 0.3145 - wine_type_loss: 0.0199 - wine_quality_root_mean_squared_error: 0.5608 - wine_type_accuracy: 0.9962 - val_loss: 0.3482 - val_wine_quality_loss: 0.3187 - val_wine_type_loss: 0.0295 - val_wine_quality_root_mean_squared_error: 0.5645 - val_wine_type_accuracy: 0.9949\n",
            "Epoch 65/180\n",
            "99/99 [==============================] - 0s 4ms/step - loss: 0.3356 - wine_quality_loss: 0.3142 - wine_type_loss: 0.0214 - wine_quality_root_mean_squared_error: 0.5605 - wine_type_accuracy: 0.9968 - val_loss: 0.3372 - val_wine_quality_loss: 0.3079 - val_wine_type_loss: 0.0293 - val_wine_quality_root_mean_squared_error: 0.5549 - val_wine_type_accuracy: 0.9949\n",
            "Epoch 66/180\n",
            "99/99 [==============================] - 0s 4ms/step - loss: 0.3276 - wine_quality_loss: 0.3117 - wine_type_loss: 0.0159 - wine_quality_root_mean_squared_error: 0.5582 - wine_type_accuracy: 0.9972 - val_loss: 0.3395 - val_wine_quality_loss: 0.3103 - val_wine_type_loss: 0.0292 - val_wine_quality_root_mean_squared_error: 0.5570 - val_wine_type_accuracy: 0.9949\n",
            "Epoch 67/180\n",
            "99/99 [==============================] - 0s 4ms/step - loss: 0.3239 - wine_quality_loss: 0.3069 - wine_type_loss: 0.0171 - wine_quality_root_mean_squared_error: 0.5539 - wine_type_accuracy: 0.9961 - val_loss: 0.3366 - val_wine_quality_loss: 0.3073 - val_wine_type_loss: 0.0293 - val_wine_quality_root_mean_squared_error: 0.5543 - val_wine_type_accuracy: 0.9949\n",
            "Epoch 68/180\n",
            "99/99 [==============================] - 0s 4ms/step - loss: 0.3432 - wine_quality_loss: 0.3024 - wine_type_loss: 0.0408 - wine_quality_root_mean_squared_error: 0.5499 - wine_type_accuracy: 0.9925 - val_loss: 0.3376 - val_wine_quality_loss: 0.3083 - val_wine_type_loss: 0.0293 - val_wine_quality_root_mean_squared_error: 0.5552 - val_wine_type_accuracy: 0.9949\n",
            "Epoch 69/180\n",
            "99/99 [==============================] - 0s 5ms/step - loss: 0.3269 - wine_quality_loss: 0.3028 - wine_type_loss: 0.0240 - wine_quality_root_mean_squared_error: 0.5503 - wine_type_accuracy: 0.9960 - val_loss: 0.3394 - val_wine_quality_loss: 0.3102 - val_wine_type_loss: 0.0292 - val_wine_quality_root_mean_squared_error: 0.5570 - val_wine_type_accuracy: 0.9949\n",
            "Epoch 70/180\n",
            "99/99 [==============================] - 0s 4ms/step - loss: 0.3257 - wine_quality_loss: 0.2936 - wine_type_loss: 0.0321 - wine_quality_root_mean_squared_error: 0.5417 - wine_type_accuracy: 0.9955 - val_loss: 0.3387 - val_wine_quality_loss: 0.3096 - val_wine_type_loss: 0.0291 - val_wine_quality_root_mean_squared_error: 0.5564 - val_wine_type_accuracy: 0.9949\n",
            "Epoch 71/180\n",
            "99/99 [==============================] - 0s 4ms/step - loss: 0.3240 - wine_quality_loss: 0.3045 - wine_type_loss: 0.0195 - wine_quality_root_mean_squared_error: 0.5518 - wine_type_accuracy: 0.9936 - val_loss: 0.3352 - val_wine_quality_loss: 0.3064 - val_wine_type_loss: 0.0288 - val_wine_quality_root_mean_squared_error: 0.5535 - val_wine_type_accuracy: 0.9949\n",
            "Epoch 72/180\n",
            "99/99 [==============================] - 0s 4ms/step - loss: 0.3171 - wine_quality_loss: 0.2977 - wine_type_loss: 0.0194 - wine_quality_root_mean_squared_error: 0.5455 - wine_type_accuracy: 0.9956 - val_loss: 0.3591 - val_wine_quality_loss: 0.3302 - val_wine_type_loss: 0.0289 - val_wine_quality_root_mean_squared_error: 0.5747 - val_wine_type_accuracy: 0.9949\n",
            "Epoch 73/180\n",
            "99/99 [==============================] - 0s 4ms/step - loss: 0.3134 - wine_quality_loss: 0.2973 - wine_type_loss: 0.0160 - wine_quality_root_mean_squared_error: 0.5452 - wine_type_accuracy: 0.9964 - val_loss: 0.3362 - val_wine_quality_loss: 0.3075 - val_wine_type_loss: 0.0288 - val_wine_quality_root_mean_squared_error: 0.5545 - val_wine_type_accuracy: 0.9949\n",
            "Epoch 74/180\n",
            "99/99 [==============================] - 0s 4ms/step - loss: 0.3175 - wine_quality_loss: 0.2965 - wine_type_loss: 0.0210 - wine_quality_root_mean_squared_error: 0.5444 - wine_type_accuracy: 0.9957 - val_loss: 0.3402 - val_wine_quality_loss: 0.3116 - val_wine_type_loss: 0.0286 - val_wine_quality_root_mean_squared_error: 0.5582 - val_wine_type_accuracy: 0.9949\n",
            "Epoch 75/180\n",
            "99/99 [==============================] - 0s 4ms/step - loss: 0.3227 - wine_quality_loss: 0.2970 - wine_type_loss: 0.0258 - wine_quality_root_mean_squared_error: 0.5449 - wine_type_accuracy: 0.9947 - val_loss: 0.3366 - val_wine_quality_loss: 0.3080 - val_wine_type_loss: 0.0286 - val_wine_quality_root_mean_squared_error: 0.5550 - val_wine_type_accuracy: 0.9949\n",
            "Epoch 76/180\n",
            "99/99 [==============================] - 0s 5ms/step - loss: 0.3251 - wine_quality_loss: 0.3074 - wine_type_loss: 0.0177 - wine_quality_root_mean_squared_error: 0.5543 - wine_type_accuracy: 0.9955 - val_loss: 0.3346 - val_wine_quality_loss: 0.3061 - val_wine_type_loss: 0.0285 - val_wine_quality_root_mean_squared_error: 0.5533 - val_wine_type_accuracy: 0.9949\n",
            "Epoch 77/180\n",
            "99/99 [==============================] - 0s 4ms/step - loss: 0.3236 - wine_quality_loss: 0.3016 - wine_type_loss: 0.0220 - wine_quality_root_mean_squared_error: 0.5491 - wine_type_accuracy: 0.9953 - val_loss: 0.3340 - val_wine_quality_loss: 0.3056 - val_wine_type_loss: 0.0284 - val_wine_quality_root_mean_squared_error: 0.5528 - val_wine_type_accuracy: 0.9949\n",
            "Epoch 78/180\n",
            "99/99 [==============================] - 0s 4ms/step - loss: 0.3206 - wine_quality_loss: 0.3044 - wine_type_loss: 0.0161 - wine_quality_root_mean_squared_error: 0.5515 - wine_type_accuracy: 0.9974 - val_loss: 0.3340 - val_wine_quality_loss: 0.3057 - val_wine_type_loss: 0.0283 - val_wine_quality_root_mean_squared_error: 0.5529 - val_wine_type_accuracy: 0.9949\n",
            "Epoch 79/180\n",
            "99/99 [==============================] - 0s 4ms/step - loss: 0.3239 - wine_quality_loss: 0.2938 - wine_type_loss: 0.0302 - wine_quality_root_mean_squared_error: 0.5419 - wine_type_accuracy: 0.9943 - val_loss: 0.3313 - val_wine_quality_loss: 0.3029 - val_wine_type_loss: 0.0283 - val_wine_quality_root_mean_squared_error: 0.5504 - val_wine_type_accuracy: 0.9949\n",
            "Epoch 80/180\n",
            "99/99 [==============================] - 0s 4ms/step - loss: 0.3235 - wine_quality_loss: 0.2949 - wine_type_loss: 0.0286 - wine_quality_root_mean_squared_error: 0.5430 - wine_type_accuracy: 0.9950 - val_loss: 0.3423 - val_wine_quality_loss: 0.3139 - val_wine_type_loss: 0.0284 - val_wine_quality_root_mean_squared_error: 0.5603 - val_wine_type_accuracy: 0.9949\n",
            "Epoch 81/180\n",
            "99/99 [==============================] - 0s 5ms/step - loss: 0.3293 - wine_quality_loss: 0.3092 - wine_type_loss: 0.0201 - wine_quality_root_mean_squared_error: 0.5558 - wine_type_accuracy: 0.9949 - val_loss: 0.3320 - val_wine_quality_loss: 0.3038 - val_wine_type_loss: 0.0282 - val_wine_quality_root_mean_squared_error: 0.5512 - val_wine_type_accuracy: 0.9949\n",
            "Epoch 82/180\n",
            "99/99 [==============================] - 0s 4ms/step - loss: 0.3168 - wine_quality_loss: 0.3002 - wine_type_loss: 0.0166 - wine_quality_root_mean_squared_error: 0.5478 - wine_type_accuracy: 0.9962 - val_loss: 0.3370 - val_wine_quality_loss: 0.3089 - val_wine_type_loss: 0.0281 - val_wine_quality_root_mean_squared_error: 0.5558 - val_wine_type_accuracy: 0.9949\n",
            "Epoch 83/180\n",
            "99/99 [==============================] - 0s 4ms/step - loss: 0.3209 - wine_quality_loss: 0.2942 - wine_type_loss: 0.0267 - wine_quality_root_mean_squared_error: 0.5423 - wine_type_accuracy: 0.9944 - val_loss: 0.3330 - val_wine_quality_loss: 0.3050 - val_wine_type_loss: 0.0280 - val_wine_quality_root_mean_squared_error: 0.5522 - val_wine_type_accuracy: 0.9949\n",
            "Epoch 84/180\n",
            "99/99 [==============================] - 0s 4ms/step - loss: 0.3115 - wine_quality_loss: 0.2885 - wine_type_loss: 0.0230 - wine_quality_root_mean_squared_error: 0.5370 - wine_type_accuracy: 0.9956 - val_loss: 0.3339 - val_wine_quality_loss: 0.3058 - val_wine_type_loss: 0.0280 - val_wine_quality_root_mean_squared_error: 0.5530 - val_wine_type_accuracy: 0.9949\n",
            "Epoch 85/180\n",
            "99/99 [==============================] - 0s 5ms/step - loss: 0.3168 - wine_quality_loss: 0.2962 - wine_type_loss: 0.0206 - wine_quality_root_mean_squared_error: 0.5442 - wine_type_accuracy: 0.9960 - val_loss: 0.3317 - val_wine_quality_loss: 0.3038 - val_wine_type_loss: 0.0279 - val_wine_quality_root_mean_squared_error: 0.5512 - val_wine_type_accuracy: 0.9949\n",
            "Epoch 86/180\n",
            "99/99 [==============================] - 0s 4ms/step - loss: 0.3105 - wine_quality_loss: 0.2910 - wine_type_loss: 0.0195 - wine_quality_root_mean_squared_error: 0.5394 - wine_type_accuracy: 0.9952 - val_loss: 0.3407 - val_wine_quality_loss: 0.3128 - val_wine_type_loss: 0.0278 - val_wine_quality_root_mean_squared_error: 0.5593 - val_wine_type_accuracy: 0.9949\n",
            "Epoch 87/180\n",
            "99/99 [==============================] - 0s 4ms/step - loss: 0.3109 - wine_quality_loss: 0.2955 - wine_type_loss: 0.0154 - wine_quality_root_mean_squared_error: 0.5435 - wine_type_accuracy: 0.9964 - val_loss: 0.3304 - val_wine_quality_loss: 0.3027 - val_wine_type_loss: 0.0277 - val_wine_quality_root_mean_squared_error: 0.5502 - val_wine_type_accuracy: 0.9949\n",
            "Epoch 88/180\n",
            "99/99 [==============================] - 0s 5ms/step - loss: 0.3321 - wine_quality_loss: 0.3007 - wine_type_loss: 0.0314 - wine_quality_root_mean_squared_error: 0.5483 - wine_type_accuracy: 0.9939 - val_loss: 0.3318 - val_wine_quality_loss: 0.3040 - val_wine_type_loss: 0.0278 - val_wine_quality_root_mean_squared_error: 0.5514 - val_wine_type_accuracy: 0.9949\n",
            "Epoch 89/180\n",
            "99/99 [==============================] - 0s 4ms/step - loss: 0.3051 - wine_quality_loss: 0.2878 - wine_type_loss: 0.0173 - wine_quality_root_mean_squared_error: 0.5363 - wine_type_accuracy: 0.9951 - val_loss: 0.3309 - val_wine_quality_loss: 0.3031 - val_wine_type_loss: 0.0278 - val_wine_quality_root_mean_squared_error: 0.5505 - val_wine_type_accuracy: 0.9949\n",
            "Epoch 90/180\n",
            "99/99 [==============================] - 0s 4ms/step - loss: 0.3203 - wine_quality_loss: 0.2979 - wine_type_loss: 0.0224 - wine_quality_root_mean_squared_error: 0.5457 - wine_type_accuracy: 0.9954 - val_loss: 0.3350 - val_wine_quality_loss: 0.3073 - val_wine_type_loss: 0.0276 - val_wine_quality_root_mean_squared_error: 0.5544 - val_wine_type_accuracy: 0.9949\n",
            "Epoch 91/180\n",
            "99/99 [==============================] - 0s 4ms/step - loss: 0.3217 - wine_quality_loss: 0.2949 - wine_type_loss: 0.0269 - wine_quality_root_mean_squared_error: 0.5429 - wine_type_accuracy: 0.9950 - val_loss: 0.3289 - val_wine_quality_loss: 0.3014 - val_wine_type_loss: 0.0275 - val_wine_quality_root_mean_squared_error: 0.5490 - val_wine_type_accuracy: 0.9949\n",
            "Epoch 92/180\n",
            "99/99 [==============================] - 0s 5ms/step - loss: 0.3171 - wine_quality_loss: 0.2991 - wine_type_loss: 0.0181 - wine_quality_root_mean_squared_error: 0.5467 - wine_type_accuracy: 0.9955 - val_loss: 0.3368 - val_wine_quality_loss: 0.3094 - val_wine_type_loss: 0.0274 - val_wine_quality_root_mean_squared_error: 0.5563 - val_wine_type_accuracy: 0.9949\n",
            "Epoch 93/180\n",
            "99/99 [==============================] - 0s 5ms/step - loss: 0.3126 - wine_quality_loss: 0.2868 - wine_type_loss: 0.0258 - wine_quality_root_mean_squared_error: 0.5354 - wine_type_accuracy: 0.9971 - val_loss: 0.3332 - val_wine_quality_loss: 0.3057 - val_wine_type_loss: 0.0275 - val_wine_quality_root_mean_squared_error: 0.5529 - val_wine_type_accuracy: 0.9949\n",
            "Epoch 94/180\n",
            "99/99 [==============================] - 0s 5ms/step - loss: 0.3132 - wine_quality_loss: 0.2893 - wine_type_loss: 0.0239 - wine_quality_root_mean_squared_error: 0.5378 - wine_type_accuracy: 0.9950 - val_loss: 0.3378 - val_wine_quality_loss: 0.3105 - val_wine_type_loss: 0.0274 - val_wine_quality_root_mean_squared_error: 0.5572 - val_wine_type_accuracy: 0.9949\n",
            "Epoch 95/180\n",
            "99/99 [==============================] - 0s 4ms/step - loss: 0.3140 - wine_quality_loss: 0.2930 - wine_type_loss: 0.0210 - wine_quality_root_mean_squared_error: 0.5412 - wine_type_accuracy: 0.9959 - val_loss: 0.3368 - val_wine_quality_loss: 0.3093 - val_wine_type_loss: 0.0274 - val_wine_quality_root_mean_squared_error: 0.5562 - val_wine_type_accuracy: 0.9949\n",
            "Epoch 96/180\n",
            "99/99 [==============================] - 0s 4ms/step - loss: 0.3073 - wine_quality_loss: 0.2902 - wine_type_loss: 0.0171 - wine_quality_root_mean_squared_error: 0.5387 - wine_type_accuracy: 0.9968 - val_loss: 0.3316 - val_wine_quality_loss: 0.3043 - val_wine_type_loss: 0.0273 - val_wine_quality_root_mean_squared_error: 0.5516 - val_wine_type_accuracy: 0.9949\n",
            "Epoch 97/180\n",
            "99/99 [==============================] - 0s 5ms/step - loss: 0.2981 - wine_quality_loss: 0.2806 - wine_type_loss: 0.0174 - wine_quality_root_mean_squared_error: 0.5296 - wine_type_accuracy: 0.9968 - val_loss: 0.3385 - val_wine_quality_loss: 0.3112 - val_wine_type_loss: 0.0273 - val_wine_quality_root_mean_squared_error: 0.5579 - val_wine_type_accuracy: 0.9949\n",
            "Epoch 98/180\n",
            "99/99 [==============================] - 0s 5ms/step - loss: 0.3068 - wine_quality_loss: 0.2850 - wine_type_loss: 0.0218 - wine_quality_root_mean_squared_error: 0.5338 - wine_type_accuracy: 0.9959 - val_loss: 0.3376 - val_wine_quality_loss: 0.3104 - val_wine_type_loss: 0.0273 - val_wine_quality_root_mean_squared_error: 0.5571 - val_wine_type_accuracy: 0.9949\n",
            "Epoch 99/180\n",
            "99/99 [==============================] - 0s 4ms/step - loss: 0.3109 - wine_quality_loss: 0.2870 - wine_type_loss: 0.0239 - wine_quality_root_mean_squared_error: 0.5356 - wine_type_accuracy: 0.9965 - val_loss: 0.3264 - val_wine_quality_loss: 0.2993 - val_wine_type_loss: 0.0271 - val_wine_quality_root_mean_squared_error: 0.5471 - val_wine_type_accuracy: 0.9949\n",
            "Epoch 100/180\n",
            "99/99 [==============================] - 0s 5ms/step - loss: 0.3141 - wine_quality_loss: 0.2967 - wine_type_loss: 0.0174 - wine_quality_root_mean_squared_error: 0.5446 - wine_type_accuracy: 0.9974 - val_loss: 0.3314 - val_wine_quality_loss: 0.3042 - val_wine_type_loss: 0.0272 - val_wine_quality_root_mean_squared_error: 0.5516 - val_wine_type_accuracy: 0.9949\n",
            "Epoch 101/180\n",
            "99/99 [==============================] - 0s 5ms/step - loss: 0.3045 - wine_quality_loss: 0.2814 - wine_type_loss: 0.0231 - wine_quality_root_mean_squared_error: 0.5304 - wine_type_accuracy: 0.9952 - val_loss: 0.3308 - val_wine_quality_loss: 0.3037 - val_wine_type_loss: 0.0270 - val_wine_quality_root_mean_squared_error: 0.5511 - val_wine_type_accuracy: 0.9949\n",
            "Epoch 102/180\n",
            "99/99 [==============================] - 0s 5ms/step - loss: 0.3108 - wine_quality_loss: 0.2873 - wine_type_loss: 0.0235 - wine_quality_root_mean_squared_error: 0.5359 - wine_type_accuracy: 0.9951 - val_loss: 0.3295 - val_wine_quality_loss: 0.3024 - val_wine_type_loss: 0.0270 - val_wine_quality_root_mean_squared_error: 0.5499 - val_wine_type_accuracy: 0.9949\n",
            "Epoch 103/180\n",
            "99/99 [==============================] - 0s 4ms/step - loss: 0.3026 - wine_quality_loss: 0.2831 - wine_type_loss: 0.0195 - wine_quality_root_mean_squared_error: 0.5319 - wine_type_accuracy: 0.9965 - val_loss: 0.3354 - val_wine_quality_loss: 0.3085 - val_wine_type_loss: 0.0269 - val_wine_quality_root_mean_squared_error: 0.5555 - val_wine_type_accuracy: 0.9949\n",
            "Epoch 104/180\n",
            "99/99 [==============================] - 0s 5ms/step - loss: 0.3063 - wine_quality_loss: 0.2849 - wine_type_loss: 0.0213 - wine_quality_root_mean_squared_error: 0.5337 - wine_type_accuracy: 0.9971 - val_loss: 0.3331 - val_wine_quality_loss: 0.3062 - val_wine_type_loss: 0.0269 - val_wine_quality_root_mean_squared_error: 0.5534 - val_wine_type_accuracy: 0.9949\n",
            "Epoch 105/180\n",
            "99/99 [==============================] - 0s 5ms/step - loss: 0.3015 - wine_quality_loss: 0.2853 - wine_type_loss: 0.0163 - wine_quality_root_mean_squared_error: 0.5341 - wine_type_accuracy: 0.9977 - val_loss: 0.3365 - val_wine_quality_loss: 0.3095 - val_wine_type_loss: 0.0270 - val_wine_quality_root_mean_squared_error: 0.5563 - val_wine_type_accuracy: 0.9949\n",
            "Epoch 106/180\n",
            "99/99 [==============================] - 0s 5ms/step - loss: 0.3003 - wine_quality_loss: 0.2716 - wine_type_loss: 0.0287 - wine_quality_root_mean_squared_error: 0.5210 - wine_type_accuracy: 0.9947 - val_loss: 0.3275 - val_wine_quality_loss: 0.3005 - val_wine_type_loss: 0.0269 - val_wine_quality_root_mean_squared_error: 0.5482 - val_wine_type_accuracy: 0.9949\n",
            "Epoch 107/180\n",
            "99/99 [==============================] - 0s 5ms/step - loss: 0.3149 - wine_quality_loss: 0.2896 - wine_type_loss: 0.0252 - wine_quality_root_mean_squared_error: 0.5381 - wine_type_accuracy: 0.9958 - val_loss: 0.3365 - val_wine_quality_loss: 0.3095 - val_wine_type_loss: 0.0270 - val_wine_quality_root_mean_squared_error: 0.5563 - val_wine_type_accuracy: 0.9949\n",
            "Epoch 108/180\n",
            "99/99 [==============================] - 0s 4ms/step - loss: 0.2909 - wine_quality_loss: 0.2758 - wine_type_loss: 0.0150 - wine_quality_root_mean_squared_error: 0.5251 - wine_type_accuracy: 0.9979 - val_loss: 0.3279 - val_wine_quality_loss: 0.3010 - val_wine_type_loss: 0.0269 - val_wine_quality_root_mean_squared_error: 0.5486 - val_wine_type_accuracy: 0.9949\n",
            "Epoch 109/180\n",
            "99/99 [==============================] - 0s 4ms/step - loss: 0.2915 - wine_quality_loss: 0.2705 - wine_type_loss: 0.0210 - wine_quality_root_mean_squared_error: 0.5200 - wine_type_accuracy: 0.9968 - val_loss: 0.3311 - val_wine_quality_loss: 0.3042 - val_wine_type_loss: 0.0269 - val_wine_quality_root_mean_squared_error: 0.5515 - val_wine_type_accuracy: 0.9949\n",
            "Epoch 110/180\n",
            "99/99 [==============================] - 0s 5ms/step - loss: 0.2935 - wine_quality_loss: 0.2739 - wine_type_loss: 0.0197 - wine_quality_root_mean_squared_error: 0.5232 - wine_type_accuracy: 0.9960 - val_loss: 0.3334 - val_wine_quality_loss: 0.3064 - val_wine_type_loss: 0.0269 - val_wine_quality_root_mean_squared_error: 0.5536 - val_wine_type_accuracy: 0.9949\n",
            "Epoch 111/180\n",
            "99/99 [==============================] - 0s 5ms/step - loss: 0.2917 - wine_quality_loss: 0.2737 - wine_type_loss: 0.0180 - wine_quality_root_mean_squared_error: 0.5231 - wine_type_accuracy: 0.9968 - val_loss: 0.3349 - val_wine_quality_loss: 0.3081 - val_wine_type_loss: 0.0268 - val_wine_quality_root_mean_squared_error: 0.5551 - val_wine_type_accuracy: 0.9949\n",
            "Epoch 112/180\n",
            "99/99 [==============================] - 0s 5ms/step - loss: 0.2894 - wine_quality_loss: 0.2779 - wine_type_loss: 0.0115 - wine_quality_root_mean_squared_error: 0.5270 - wine_type_accuracy: 0.9974 - val_loss: 0.3402 - val_wine_quality_loss: 0.3135 - val_wine_type_loss: 0.0267 - val_wine_quality_root_mean_squared_error: 0.5599 - val_wine_type_accuracy: 0.9949\n",
            "Epoch 113/180\n",
            "99/99 [==============================] - 0s 4ms/step - loss: 0.3061 - wine_quality_loss: 0.2869 - wine_type_loss: 0.0192 - wine_quality_root_mean_squared_error: 0.5356 - wine_type_accuracy: 0.9965 - val_loss: 0.3393 - val_wine_quality_loss: 0.3127 - val_wine_type_loss: 0.0266 - val_wine_quality_root_mean_squared_error: 0.5592 - val_wine_type_accuracy: 0.9949\n",
            "Epoch 114/180\n",
            "99/99 [==============================] - 0s 5ms/step - loss: 0.3033 - wine_quality_loss: 0.2807 - wine_type_loss: 0.0226 - wine_quality_root_mean_squared_error: 0.5297 - wine_type_accuracy: 0.9960 - val_loss: 0.3294 - val_wine_quality_loss: 0.3028 - val_wine_type_loss: 0.0266 - val_wine_quality_root_mean_squared_error: 0.5503 - val_wine_type_accuracy: 0.9949\n",
            "Epoch 115/180\n",
            "99/99 [==============================] - 0s 4ms/step - loss: 0.2896 - wine_quality_loss: 0.2792 - wine_type_loss: 0.0103 - wine_quality_root_mean_squared_error: 0.5284 - wine_type_accuracy: 0.9988 - val_loss: 0.3328 - val_wine_quality_loss: 0.3063 - val_wine_type_loss: 0.0265 - val_wine_quality_root_mean_squared_error: 0.5534 - val_wine_type_accuracy: 0.9949\n",
            "Epoch 116/180\n",
            "99/99 [==============================] - 0s 5ms/step - loss: 0.2977 - wine_quality_loss: 0.2812 - wine_type_loss: 0.0165 - wine_quality_root_mean_squared_error: 0.5302 - wine_type_accuracy: 0.9972 - val_loss: 0.3362 - val_wine_quality_loss: 0.3097 - val_wine_type_loss: 0.0265 - val_wine_quality_root_mean_squared_error: 0.5565 - val_wine_type_accuracy: 0.9949\n",
            "Epoch 117/180\n",
            "99/99 [==============================] - 0s 5ms/step - loss: 0.2948 - wine_quality_loss: 0.2762 - wine_type_loss: 0.0185 - wine_quality_root_mean_squared_error: 0.5255 - wine_type_accuracy: 0.9971 - val_loss: 0.3403 - val_wine_quality_loss: 0.3137 - val_wine_type_loss: 0.0265 - val_wine_quality_root_mean_squared_error: 0.5601 - val_wine_type_accuracy: 0.9949\n",
            "Epoch 118/180\n",
            "99/99 [==============================] - 0s 5ms/step - loss: 0.2971 - wine_quality_loss: 0.2790 - wine_type_loss: 0.0181 - wine_quality_root_mean_squared_error: 0.5282 - wine_type_accuracy: 0.9964 - val_loss: 0.3383 - val_wine_quality_loss: 0.3118 - val_wine_type_loss: 0.0265 - val_wine_quality_root_mean_squared_error: 0.5584 - val_wine_type_accuracy: 0.9949\n",
            "Epoch 119/180\n",
            "99/99 [==============================] - 0s 5ms/step - loss: 0.2972 - wine_quality_loss: 0.2792 - wine_type_loss: 0.0180 - wine_quality_root_mean_squared_error: 0.5283 - wine_type_accuracy: 0.9962 - val_loss: 0.3275 - val_wine_quality_loss: 0.3011 - val_wine_type_loss: 0.0263 - val_wine_quality_root_mean_squared_error: 0.5487 - val_wine_type_accuracy: 0.9949\n",
            "Epoch 120/180\n",
            "99/99 [==============================] - 0s 5ms/step - loss: 0.2994 - wine_quality_loss: 0.2777 - wine_type_loss: 0.0217 - wine_quality_root_mean_squared_error: 0.5268 - wine_type_accuracy: 0.9959 - val_loss: 0.3312 - val_wine_quality_loss: 0.3048 - val_wine_type_loss: 0.0264 - val_wine_quality_root_mean_squared_error: 0.5521 - val_wine_type_accuracy: 0.9949\n",
            "Epoch 121/180\n",
            "99/99 [==============================] - 0s 4ms/step - loss: 0.2994 - wine_quality_loss: 0.2773 - wine_type_loss: 0.0222 - wine_quality_root_mean_squared_error: 0.5265 - wine_type_accuracy: 0.9964 - val_loss: 0.3304 - val_wine_quality_loss: 0.3038 - val_wine_type_loss: 0.0266 - val_wine_quality_root_mean_squared_error: 0.5512 - val_wine_type_accuracy: 0.9949\n",
            "Epoch 122/180\n",
            "99/99 [==============================] - 0s 5ms/step - loss: 0.2973 - wine_quality_loss: 0.2830 - wine_type_loss: 0.0143 - wine_quality_root_mean_squared_error: 0.5319 - wine_type_accuracy: 0.9975 - val_loss: 0.3301 - val_wine_quality_loss: 0.3036 - val_wine_type_loss: 0.0265 - val_wine_quality_root_mean_squared_error: 0.5510 - val_wine_type_accuracy: 0.9949\n",
            "Epoch 123/180\n",
            "99/99 [==============================] - 0s 4ms/step - loss: 0.3042 - wine_quality_loss: 0.2744 - wine_type_loss: 0.0297 - wine_quality_root_mean_squared_error: 0.5238 - wine_type_accuracy: 0.9942 - val_loss: 0.3321 - val_wine_quality_loss: 0.3055 - val_wine_type_loss: 0.0265 - val_wine_quality_root_mean_squared_error: 0.5528 - val_wine_type_accuracy: 0.9949\n",
            "Epoch 124/180\n",
            "99/99 [==============================] - 0s 5ms/step - loss: 0.2872 - wine_quality_loss: 0.2744 - wine_type_loss: 0.0127 - wine_quality_root_mean_squared_error: 0.5237 - wine_type_accuracy: 0.9973 - val_loss: 0.3277 - val_wine_quality_loss: 0.3012 - val_wine_type_loss: 0.0265 - val_wine_quality_root_mean_squared_error: 0.5489 - val_wine_type_accuracy: 0.9949\n",
            "Epoch 125/180\n",
            "99/99 [==============================] - 0s 5ms/step - loss: 0.2844 - wine_quality_loss: 0.2699 - wine_type_loss: 0.0145 - wine_quality_root_mean_squared_error: 0.5195 - wine_type_accuracy: 0.9972 - val_loss: 0.3437 - val_wine_quality_loss: 0.3172 - val_wine_type_loss: 0.0265 - val_wine_quality_root_mean_squared_error: 0.5632 - val_wine_type_accuracy: 0.9949\n",
            "Epoch 126/180\n",
            "99/99 [==============================] - 0s 5ms/step - loss: 0.3006 - wine_quality_loss: 0.2720 - wine_type_loss: 0.0285 - wine_quality_root_mean_squared_error: 0.5215 - wine_type_accuracy: 0.9950 - val_loss: 0.3298 - val_wine_quality_loss: 0.3033 - val_wine_type_loss: 0.0265 - val_wine_quality_root_mean_squared_error: 0.5507 - val_wine_type_accuracy: 0.9949\n",
            "Epoch 127/180\n",
            "99/99 [==============================] - 0s 5ms/step - loss: 0.2996 - wine_quality_loss: 0.2713 - wine_type_loss: 0.0283 - wine_quality_root_mean_squared_error: 0.5208 - wine_type_accuracy: 0.9945 - val_loss: 0.3380 - val_wine_quality_loss: 0.3115 - val_wine_type_loss: 0.0265 - val_wine_quality_root_mean_squared_error: 0.5581 - val_wine_type_accuracy: 0.9949\n",
            "Epoch 128/180\n",
            "99/99 [==============================] - 0s 5ms/step - loss: 0.2714 - wine_quality_loss: 0.2574 - wine_type_loss: 0.0140 - wine_quality_root_mean_squared_error: 0.5072 - wine_type_accuracy: 0.9972 - val_loss: 0.3278 - val_wine_quality_loss: 0.3013 - val_wine_type_loss: 0.0265 - val_wine_quality_root_mean_squared_error: 0.5489 - val_wine_type_accuracy: 0.9949\n",
            "Epoch 129/180\n",
            "99/99 [==============================] - 0s 5ms/step - loss: 0.2804 - wine_quality_loss: 0.2674 - wine_type_loss: 0.0129 - wine_quality_root_mean_squared_error: 0.5171 - wine_type_accuracy: 0.9979 - val_loss: 0.3365 - val_wine_quality_loss: 0.3100 - val_wine_type_loss: 0.0264 - val_wine_quality_root_mean_squared_error: 0.5568 - val_wine_type_accuracy: 0.9949\n",
            "Epoch 130/180\n",
            "99/99 [==============================] - 0s 5ms/step - loss: 0.2949 - wine_quality_loss: 0.2767 - wine_type_loss: 0.0182 - wine_quality_root_mean_squared_error: 0.5260 - wine_type_accuracy: 0.9967 - val_loss: 0.3325 - val_wine_quality_loss: 0.3061 - val_wine_type_loss: 0.0264 - val_wine_quality_root_mean_squared_error: 0.5532 - val_wine_type_accuracy: 0.9949\n",
            "Epoch 131/180\n",
            "99/99 [==============================] - 0s 5ms/step - loss: 0.2958 - wine_quality_loss: 0.2726 - wine_type_loss: 0.0232 - wine_quality_root_mean_squared_error: 0.5221 - wine_type_accuracy: 0.9953 - val_loss: 0.3301 - val_wine_quality_loss: 0.3037 - val_wine_type_loss: 0.0264 - val_wine_quality_root_mean_squared_error: 0.5511 - val_wine_type_accuracy: 0.9949\n",
            "Epoch 132/180\n",
            "99/99 [==============================] - 0s 5ms/step - loss: 0.2874 - wine_quality_loss: 0.2726 - wine_type_loss: 0.0148 - wine_quality_root_mean_squared_error: 0.5220 - wine_type_accuracy: 0.9975 - val_loss: 0.3334 - val_wine_quality_loss: 0.3070 - val_wine_type_loss: 0.0264 - val_wine_quality_root_mean_squared_error: 0.5541 - val_wine_type_accuracy: 0.9949\n",
            "Epoch 133/180\n",
            "99/99 [==============================] - 0s 5ms/step - loss: 0.2977 - wine_quality_loss: 0.2810 - wine_type_loss: 0.0167 - wine_quality_root_mean_squared_error: 0.5300 - wine_type_accuracy: 0.9972 - val_loss: 0.3303 - val_wine_quality_loss: 0.3039 - val_wine_type_loss: 0.0264 - val_wine_quality_root_mean_squared_error: 0.5512 - val_wine_type_accuracy: 0.9949\n",
            "Epoch 134/180\n",
            "99/99 [==============================] - 0s 4ms/step - loss: 0.2940 - wine_quality_loss: 0.2719 - wine_type_loss: 0.0221 - wine_quality_root_mean_squared_error: 0.5214 - wine_type_accuracy: 0.9952 - val_loss: 0.3337 - val_wine_quality_loss: 0.3073 - val_wine_type_loss: 0.0264 - val_wine_quality_root_mean_squared_error: 0.5543 - val_wine_type_accuracy: 0.9949\n",
            "Epoch 135/180\n",
            "99/99 [==============================] - 0s 5ms/step - loss: 0.2863 - wine_quality_loss: 0.2708 - wine_type_loss: 0.0154 - wine_quality_root_mean_squared_error: 0.5203 - wine_type_accuracy: 0.9971 - val_loss: 0.3327 - val_wine_quality_loss: 0.3065 - val_wine_type_loss: 0.0263 - val_wine_quality_root_mean_squared_error: 0.5536 - val_wine_type_accuracy: 0.9949\n",
            "Epoch 136/180\n",
            "99/99 [==============================] - 0s 5ms/step - loss: 0.2778 - wine_quality_loss: 0.2645 - wine_type_loss: 0.0133 - wine_quality_root_mean_squared_error: 0.5143 - wine_type_accuracy: 0.9976 - val_loss: 0.3333 - val_wine_quality_loss: 0.3069 - val_wine_type_loss: 0.0264 - val_wine_quality_root_mean_squared_error: 0.5540 - val_wine_type_accuracy: 0.9949\n",
            "Epoch 137/180\n",
            "99/99 [==============================] - 0s 5ms/step - loss: 0.2848 - wine_quality_loss: 0.2721 - wine_type_loss: 0.0126 - wine_quality_root_mean_squared_error: 0.5216 - wine_type_accuracy: 0.9969 - val_loss: 0.3342 - val_wine_quality_loss: 0.3078 - val_wine_type_loss: 0.0264 - val_wine_quality_root_mean_squared_error: 0.5548 - val_wine_type_accuracy: 0.9949\n",
            "Epoch 138/180\n",
            "99/99 [==============================] - 0s 5ms/step - loss: 0.2978 - wine_quality_loss: 0.2752 - wine_type_loss: 0.0226 - wine_quality_root_mean_squared_error: 0.5244 - wine_type_accuracy: 0.9964 - val_loss: 0.3304 - val_wine_quality_loss: 0.3042 - val_wine_type_loss: 0.0263 - val_wine_quality_root_mean_squared_error: 0.5515 - val_wine_type_accuracy: 0.9949\n",
            "Epoch 139/180\n",
            "99/99 [==============================] - 0s 5ms/step - loss: 0.2837 - wine_quality_loss: 0.2612 - wine_type_loss: 0.0224 - wine_quality_root_mean_squared_error: 0.5110 - wine_type_accuracy: 0.9958 - val_loss: 0.3286 - val_wine_quality_loss: 0.3024 - val_wine_type_loss: 0.0263 - val_wine_quality_root_mean_squared_error: 0.5499 - val_wine_type_accuracy: 0.9949\n",
            "Epoch 140/180\n",
            "99/99 [==============================] - 0s 5ms/step - loss: 0.2649 - wine_quality_loss: 0.2525 - wine_type_loss: 0.0124 - wine_quality_root_mean_squared_error: 0.5023 - wine_type_accuracy: 0.9976 - val_loss: 0.3320 - val_wine_quality_loss: 0.3057 - val_wine_type_loss: 0.0263 - val_wine_quality_root_mean_squared_error: 0.5529 - val_wine_type_accuracy: 0.9949\n",
            "Epoch 141/180\n",
            "99/99 [==============================] - 0s 5ms/step - loss: 0.2859 - wine_quality_loss: 0.2675 - wine_type_loss: 0.0184 - wine_quality_root_mean_squared_error: 0.5172 - wine_type_accuracy: 0.9966 - val_loss: 0.3276 - val_wine_quality_loss: 0.3013 - val_wine_type_loss: 0.0263 - val_wine_quality_root_mean_squared_error: 0.5489 - val_wine_type_accuracy: 0.9949\n",
            "Epoch 142/180\n",
            "99/99 [==============================] - 0s 5ms/step - loss: 0.2806 - wine_quality_loss: 0.2654 - wine_type_loss: 0.0153 - wine_quality_root_mean_squared_error: 0.5150 - wine_type_accuracy: 0.9971 - val_loss: 0.3396 - val_wine_quality_loss: 0.3132 - val_wine_type_loss: 0.0264 - val_wine_quality_root_mean_squared_error: 0.5596 - val_wine_type_accuracy: 0.9949\n",
            "Epoch 143/180\n",
            "99/99 [==============================] - 0s 5ms/step - loss: 0.2862 - wine_quality_loss: 0.2686 - wine_type_loss: 0.0176 - wine_quality_root_mean_squared_error: 0.5181 - wine_type_accuracy: 0.9967 - val_loss: 0.3400 - val_wine_quality_loss: 0.3138 - val_wine_type_loss: 0.0263 - val_wine_quality_root_mean_squared_error: 0.5602 - val_wine_type_accuracy: 0.9949\n",
            "Epoch 144/180\n",
            "99/99 [==============================] - 0s 5ms/step - loss: 0.2829 - wine_quality_loss: 0.2703 - wine_type_loss: 0.0126 - wine_quality_root_mean_squared_error: 0.5198 - wine_type_accuracy: 0.9976 - val_loss: 0.3322 - val_wine_quality_loss: 0.3060 - val_wine_type_loss: 0.0263 - val_wine_quality_root_mean_squared_error: 0.5531 - val_wine_type_accuracy: 0.9949\n",
            "Epoch 145/180\n",
            "99/99 [==============================] - 0s 5ms/step - loss: 0.2762 - wine_quality_loss: 0.2623 - wine_type_loss: 0.0138 - wine_quality_root_mean_squared_error: 0.5121 - wine_type_accuracy: 0.9974 - val_loss: 0.3342 - val_wine_quality_loss: 0.3081 - val_wine_type_loss: 0.0262 - val_wine_quality_root_mean_squared_error: 0.5550 - val_wine_type_accuracy: 0.9949\n",
            "Epoch 146/180\n",
            "99/99 [==============================] - 0s 5ms/step - loss: 0.2881 - wine_quality_loss: 0.2674 - wine_type_loss: 0.0207 - wine_quality_root_mean_squared_error: 0.5171 - wine_type_accuracy: 0.9952 - val_loss: 0.3404 - val_wine_quality_loss: 0.3141 - val_wine_type_loss: 0.0262 - val_wine_quality_root_mean_squared_error: 0.5605 - val_wine_type_accuracy: 0.9949\n",
            "Epoch 147/180\n",
            "99/99 [==============================] - 0s 5ms/step - loss: 0.2836 - wine_quality_loss: 0.2686 - wine_type_loss: 0.0150 - wine_quality_root_mean_squared_error: 0.5182 - wine_type_accuracy: 0.9963 - val_loss: 0.3321 - val_wine_quality_loss: 0.3059 - val_wine_type_loss: 0.0262 - val_wine_quality_root_mean_squared_error: 0.5530 - val_wine_type_accuracy: 0.9949\n",
            "Epoch 148/180\n",
            "99/99 [==============================] - 0s 5ms/step - loss: 0.2797 - wine_quality_loss: 0.2676 - wine_type_loss: 0.0121 - wine_quality_root_mean_squared_error: 0.5173 - wine_type_accuracy: 0.9970 - val_loss: 0.3295 - val_wine_quality_loss: 0.3033 - val_wine_type_loss: 0.0262 - val_wine_quality_root_mean_squared_error: 0.5507 - val_wine_type_accuracy: 0.9949\n",
            "Epoch 149/180\n",
            "99/99 [==============================] - 0s 5ms/step - loss: 0.2839 - wine_quality_loss: 0.2561 - wine_type_loss: 0.0278 - wine_quality_root_mean_squared_error: 0.5059 - wine_type_accuracy: 0.9937 - val_loss: 0.3340 - val_wine_quality_loss: 0.3077 - val_wine_type_loss: 0.0263 - val_wine_quality_root_mean_squared_error: 0.5547 - val_wine_type_accuracy: 0.9949\n",
            "Epoch 150/180\n",
            "99/99 [==============================] - 0s 5ms/step - loss: 0.2743 - wine_quality_loss: 0.2575 - wine_type_loss: 0.0169 - wine_quality_root_mean_squared_error: 0.5073 - wine_type_accuracy: 0.9968 - val_loss: 0.3288 - val_wine_quality_loss: 0.3025 - val_wine_type_loss: 0.0262 - val_wine_quality_root_mean_squared_error: 0.5500 - val_wine_type_accuracy: 0.9949\n",
            "Epoch 151/180\n",
            "99/99 [==============================] - 0s 5ms/step - loss: 0.2760 - wine_quality_loss: 0.2622 - wine_type_loss: 0.0138 - wine_quality_root_mean_squared_error: 0.5119 - wine_type_accuracy: 0.9967 - val_loss: 0.3329 - val_wine_quality_loss: 0.3067 - val_wine_type_loss: 0.0261 - val_wine_quality_root_mean_squared_error: 0.5538 - val_wine_type_accuracy: 0.9949\n",
            "Epoch 152/180\n",
            "99/99 [==============================] - 0s 5ms/step - loss: 0.2916 - wine_quality_loss: 0.2697 - wine_type_loss: 0.0220 - wine_quality_root_mean_squared_error: 0.5192 - wine_type_accuracy: 0.9953 - val_loss: 0.3329 - val_wine_quality_loss: 0.3066 - val_wine_type_loss: 0.0262 - val_wine_quality_root_mean_squared_error: 0.5537 - val_wine_type_accuracy: 0.9949\n",
            "Epoch 153/180\n",
            "99/99 [==============================] - 0s 5ms/step - loss: 0.2719 - wine_quality_loss: 0.2558 - wine_type_loss: 0.0161 - wine_quality_root_mean_squared_error: 0.5056 - wine_type_accuracy: 0.9959 - val_loss: 0.3349 - val_wine_quality_loss: 0.3088 - val_wine_type_loss: 0.0262 - val_wine_quality_root_mean_squared_error: 0.5557 - val_wine_type_accuracy: 0.9949\n",
            "Epoch 154/180\n",
            "99/99 [==============================] - 0s 5ms/step - loss: 0.2794 - wine_quality_loss: 0.2645 - wine_type_loss: 0.0148 - wine_quality_root_mean_squared_error: 0.5143 - wine_type_accuracy: 0.9970 - val_loss: 0.3278 - val_wine_quality_loss: 0.3017 - val_wine_type_loss: 0.0261 - val_wine_quality_root_mean_squared_error: 0.5493 - val_wine_type_accuracy: 0.9949\n",
            "Epoch 155/180\n",
            "99/99 [==============================] - 0s 5ms/step - loss: 0.2827 - wine_quality_loss: 0.2663 - wine_type_loss: 0.0164 - wine_quality_root_mean_squared_error: 0.5160 - wine_type_accuracy: 0.9974 - val_loss: 0.3323 - val_wine_quality_loss: 0.3062 - val_wine_type_loss: 0.0261 - val_wine_quality_root_mean_squared_error: 0.5533 - val_wine_type_accuracy: 0.9949\n",
            "Epoch 156/180\n",
            "99/99 [==============================] - 0s 5ms/step - loss: 0.2937 - wine_quality_loss: 0.2744 - wine_type_loss: 0.0193 - wine_quality_root_mean_squared_error: 0.5236 - wine_type_accuracy: 0.9963 - val_loss: 0.3392 - val_wine_quality_loss: 0.3131 - val_wine_type_loss: 0.0261 - val_wine_quality_root_mean_squared_error: 0.5596 - val_wine_type_accuracy: 0.9949\n",
            "Epoch 157/180\n",
            "99/99 [==============================] - 0s 5ms/step - loss: 0.2821 - wine_quality_loss: 0.2695 - wine_type_loss: 0.0125 - wine_quality_root_mean_squared_error: 0.5191 - wine_type_accuracy: 0.9977 - val_loss: 0.3307 - val_wine_quality_loss: 0.3046 - val_wine_type_loss: 0.0260 - val_wine_quality_root_mean_squared_error: 0.5519 - val_wine_type_accuracy: 0.9949\n",
            "Epoch 158/180\n",
            "99/99 [==============================] - 0s 5ms/step - loss: 0.2724 - wine_quality_loss: 0.2633 - wine_type_loss: 0.0091 - wine_quality_root_mean_squared_error: 0.5130 - wine_type_accuracy: 0.9970 - val_loss: 0.3353 - val_wine_quality_loss: 0.3092 - val_wine_type_loss: 0.0261 - val_wine_quality_root_mean_squared_error: 0.5560 - val_wine_type_accuracy: 0.9949\n",
            "Epoch 159/180\n",
            "99/99 [==============================] - 0s 5ms/step - loss: 0.2696 - wine_quality_loss: 0.2516 - wine_type_loss: 0.0180 - wine_quality_root_mean_squared_error: 0.5012 - wine_type_accuracy: 0.9960 - val_loss: 0.3330 - val_wine_quality_loss: 0.3069 - val_wine_type_loss: 0.0261 - val_wine_quality_root_mean_squared_error: 0.5540 - val_wine_type_accuracy: 0.9949\n",
            "Epoch 160/180\n",
            "99/99 [==============================] - 0s 5ms/step - loss: 0.2893 - wine_quality_loss: 0.2731 - wine_type_loss: 0.0162 - wine_quality_root_mean_squared_error: 0.5224 - wine_type_accuracy: 0.9966 - val_loss: 0.3304 - val_wine_quality_loss: 0.3041 - val_wine_type_loss: 0.0262 - val_wine_quality_root_mean_squared_error: 0.5515 - val_wine_type_accuracy: 0.9949\n",
            "Epoch 161/180\n",
            "99/99 [==============================] - 0s 5ms/step - loss: 0.2734 - wine_quality_loss: 0.2597 - wine_type_loss: 0.0137 - wine_quality_root_mean_squared_error: 0.5094 - wine_type_accuracy: 0.9976 - val_loss: 0.3338 - val_wine_quality_loss: 0.3076 - val_wine_type_loss: 0.0262 - val_wine_quality_root_mean_squared_error: 0.5546 - val_wine_type_accuracy: 0.9949\n",
            "Epoch 162/180\n",
            "99/99 [==============================] - 0s 5ms/step - loss: 0.2854 - wine_quality_loss: 0.2672 - wine_type_loss: 0.0181 - wine_quality_root_mean_squared_error: 0.5169 - wine_type_accuracy: 0.9964 - val_loss: 0.3365 - val_wine_quality_loss: 0.3104 - val_wine_type_loss: 0.0262 - val_wine_quality_root_mean_squared_error: 0.5571 - val_wine_type_accuracy: 0.9949\n",
            "Epoch 163/180\n",
            "99/99 [==============================] - 0s 5ms/step - loss: 0.2770 - wine_quality_loss: 0.2584 - wine_type_loss: 0.0186 - wine_quality_root_mean_squared_error: 0.5082 - wine_type_accuracy: 0.9949 - val_loss: 0.3316 - val_wine_quality_loss: 0.3055 - val_wine_type_loss: 0.0261 - val_wine_quality_root_mean_squared_error: 0.5527 - val_wine_type_accuracy: 0.9949\n",
            "Epoch 164/180\n",
            "99/99 [==============================] - 0s 5ms/step - loss: 0.2733 - wine_quality_loss: 0.2633 - wine_type_loss: 0.0100 - wine_quality_root_mean_squared_error: 0.5130 - wine_type_accuracy: 0.9980 - val_loss: 0.3323 - val_wine_quality_loss: 0.3063 - val_wine_type_loss: 0.0260 - val_wine_quality_root_mean_squared_error: 0.5534 - val_wine_type_accuracy: 0.9949\n",
            "Epoch 165/180\n",
            "99/99 [==============================] - 0s 5ms/step - loss: 0.2697 - wine_quality_loss: 0.2563 - wine_type_loss: 0.0134 - wine_quality_root_mean_squared_error: 0.5062 - wine_type_accuracy: 0.9966 - val_loss: 0.3324 - val_wine_quality_loss: 0.3063 - val_wine_type_loss: 0.0261 - val_wine_quality_root_mean_squared_error: 0.5534 - val_wine_type_accuracy: 0.9949\n",
            "Epoch 166/180\n",
            "99/99 [==============================] - 0s 5ms/step - loss: 0.2797 - wine_quality_loss: 0.2627 - wine_type_loss: 0.0170 - wine_quality_root_mean_squared_error: 0.5123 - wine_type_accuracy: 0.9963 - val_loss: 0.3331 - val_wine_quality_loss: 0.3070 - val_wine_type_loss: 0.0260 - val_wine_quality_root_mean_squared_error: 0.5541 - val_wine_type_accuracy: 0.9949\n",
            "Epoch 167/180\n",
            "99/99 [==============================] - 0s 5ms/step - loss: 0.2883 - wine_quality_loss: 0.2653 - wine_type_loss: 0.0230 - wine_quality_root_mean_squared_error: 0.5149 - wine_type_accuracy: 0.9961 - val_loss: 0.3321 - val_wine_quality_loss: 0.3062 - val_wine_type_loss: 0.0259 - val_wine_quality_root_mean_squared_error: 0.5534 - val_wine_type_accuracy: 0.9949\n",
            "Epoch 168/180\n",
            "99/99 [==============================] - 0s 5ms/step - loss: 0.2717 - wine_quality_loss: 0.2505 - wine_type_loss: 0.0213 - wine_quality_root_mean_squared_error: 0.5003 - wine_type_accuracy: 0.9961 - val_loss: 0.3330 - val_wine_quality_loss: 0.3069 - val_wine_type_loss: 0.0260 - val_wine_quality_root_mean_squared_error: 0.5540 - val_wine_type_accuracy: 0.9949\n",
            "Epoch 169/180\n",
            "99/99 [==============================] - 0s 5ms/step - loss: 0.2762 - wine_quality_loss: 0.2603 - wine_type_loss: 0.0159 - wine_quality_root_mean_squared_error: 0.5102 - wine_type_accuracy: 0.9972 - val_loss: 0.3314 - val_wine_quality_loss: 0.3053 - val_wine_type_loss: 0.0260 - val_wine_quality_root_mean_squared_error: 0.5526 - val_wine_type_accuracy: 0.9949\n",
            "Epoch 170/180\n",
            "99/99 [==============================] - 0s 5ms/step - loss: 0.2612 - wine_quality_loss: 0.2492 - wine_type_loss: 0.0120 - wine_quality_root_mean_squared_error: 0.4990 - wine_type_accuracy: 0.9974 - val_loss: 0.3300 - val_wine_quality_loss: 0.3040 - val_wine_type_loss: 0.0260 - val_wine_quality_root_mean_squared_error: 0.5513 - val_wine_type_accuracy: 0.9949\n",
            "Epoch 171/180\n",
            "99/99 [==============================] - 0s 5ms/step - loss: 0.2667 - wine_quality_loss: 0.2526 - wine_type_loss: 0.0141 - wine_quality_root_mean_squared_error: 0.5021 - wine_type_accuracy: 0.9973 - val_loss: 0.3327 - val_wine_quality_loss: 0.3068 - val_wine_type_loss: 0.0259 - val_wine_quality_root_mean_squared_error: 0.5539 - val_wine_type_accuracy: 0.9949\n",
            "Epoch 172/180\n",
            "99/99 [==============================] - 0s 5ms/step - loss: 0.2689 - wine_quality_loss: 0.2552 - wine_type_loss: 0.0137 - wine_quality_root_mean_squared_error: 0.5051 - wine_type_accuracy: 0.9969 - val_loss: 0.3313 - val_wine_quality_loss: 0.3053 - val_wine_type_loss: 0.0260 - val_wine_quality_root_mean_squared_error: 0.5525 - val_wine_type_accuracy: 0.9949\n",
            "Epoch 173/180\n",
            "99/99 [==============================] - 0s 5ms/step - loss: 0.2698 - wine_quality_loss: 0.2586 - wine_type_loss: 0.0112 - wine_quality_root_mean_squared_error: 0.5083 - wine_type_accuracy: 0.9973 - val_loss: 0.3378 - val_wine_quality_loss: 0.3117 - val_wine_type_loss: 0.0261 - val_wine_quality_root_mean_squared_error: 0.5583 - val_wine_type_accuracy: 0.9949\n",
            "Epoch 174/180\n",
            "99/99 [==============================] - 0s 5ms/step - loss: 0.2654 - wine_quality_loss: 0.2500 - wine_type_loss: 0.0154 - wine_quality_root_mean_squared_error: 0.4997 - wine_type_accuracy: 0.9963 - val_loss: 0.3346 - val_wine_quality_loss: 0.3086 - val_wine_type_loss: 0.0260 - val_wine_quality_root_mean_squared_error: 0.5555 - val_wine_type_accuracy: 0.9949\n",
            "Epoch 175/180\n",
            "99/99 [==============================] - 0s 5ms/step - loss: 0.2821 - wine_quality_loss: 0.2678 - wine_type_loss: 0.0143 - wine_quality_root_mean_squared_error: 0.5174 - wine_type_accuracy: 0.9963 - val_loss: 0.3329 - val_wine_quality_loss: 0.3068 - val_wine_type_loss: 0.0261 - val_wine_quality_root_mean_squared_error: 0.5539 - val_wine_type_accuracy: 0.9949\n",
            "Epoch 176/180\n",
            "99/99 [==============================] - 0s 5ms/step - loss: 0.2722 - wine_quality_loss: 0.2531 - wine_type_loss: 0.0190 - wine_quality_root_mean_squared_error: 0.5031 - wine_type_accuracy: 0.9962 - val_loss: 0.3539 - val_wine_quality_loss: 0.3277 - val_wine_type_loss: 0.0262 - val_wine_quality_root_mean_squared_error: 0.5725 - val_wine_type_accuracy: 0.9949\n",
            "Epoch 177/180\n",
            "99/99 [==============================] - 0s 5ms/step - loss: 0.2663 - wine_quality_loss: 0.2509 - wine_type_loss: 0.0154 - wine_quality_root_mean_squared_error: 0.5008 - wine_type_accuracy: 0.9970 - val_loss: 0.3322 - val_wine_quality_loss: 0.3062 - val_wine_type_loss: 0.0261 - val_wine_quality_root_mean_squared_error: 0.5533 - val_wine_type_accuracy: 0.9949\n",
            "Epoch 178/180\n",
            "99/99 [==============================] - 0s 5ms/step - loss: 0.2726 - wine_quality_loss: 0.2616 - wine_type_loss: 0.0110 - wine_quality_root_mean_squared_error: 0.5114 - wine_type_accuracy: 0.9975 - val_loss: 0.3409 - val_wine_quality_loss: 0.3148 - val_wine_type_loss: 0.0262 - val_wine_quality_root_mean_squared_error: 0.5610 - val_wine_type_accuracy: 0.9949\n",
            "Epoch 179/180\n",
            "99/99 [==============================] - 0s 5ms/step - loss: 0.2819 - wine_quality_loss: 0.2627 - wine_type_loss: 0.0192 - wine_quality_root_mean_squared_error: 0.5124 - wine_type_accuracy: 0.9954 - val_loss: 0.3351 - val_wine_quality_loss: 0.3090 - val_wine_type_loss: 0.0261 - val_wine_quality_root_mean_squared_error: 0.5559 - val_wine_type_accuracy: 0.9949\n",
            "Epoch 180/180\n",
            "99/99 [==============================] - 0s 5ms/step - loss: 0.2833 - wine_quality_loss: 0.2684 - wine_type_loss: 0.0149 - wine_quality_root_mean_squared_error: 0.5178 - wine_type_accuracy: 0.9960 - val_loss: 0.3357 - val_wine_quality_loss: 0.3095 - val_wine_type_loss: 0.0262 - val_wine_quality_root_mean_squared_error: 0.5563 - val_wine_type_accuracy: 0.9949\n"
          ],
          "name": "stdout"
        }
      ]
    },
    {
      "cell_type": "code",
      "metadata": {
        "deletable": false,
        "editable": false,
        "nbgrader": {
          "cell_type": "code",
          "checksum": "fadad8896eda9c8c2115970724b15508",
          "grade": true,
          "grade_id": "cell-eb4d5b41bef8f0ab",
          "locked": true,
          "points": 1,
          "schema_version": 3,
          "solution": false,
          "task": false
        },
        "id": "7TNMJlpUrYGZ"
      },
      "source": [
        "utils.test_history(history)"
      ],
      "execution_count": null,
      "outputs": []
    },
    {
      "cell_type": "code",
      "metadata": {
        "id": "CubF2J2gSf6q",
        "colab": {
          "base_uri": "https://localhost:8080/"
        },
        "outputId": "86792073-dacb-46a4-83f3-3c4b57babccc"
      },
      "source": [
        "# Gather the training metrics\n",
        "loss, wine_quality_loss, wine_type_loss, wine_quality_rmse, wine_type_accuracy = model.evaluate(x=norm_val_X, y=val_Y)\n",
        "\n",
        "print()\n",
        "print(f'loss: {loss}')\n",
        "print(f'wine_quality_loss: {wine_quality_loss}')\n",
        "print(f'wine_type_loss: {wine_type_loss}')\n",
        "print(f'wine_quality_rmse: {wine_quality_rmse}')\n",
        "print(f'wine_type_accuracy: {wine_type_accuracy}')\n",
        "\n",
        "# EXPECTED VALUES\n",
        "# ~ 0.30 - 0.38\n",
        "# ~ 0.30 - 0.38\n",
        "# ~ 0.018 - 0.030\n",
        "# ~ 0.50 - 0.62\n",
        "# ~ 0.97 - 1.0\n",
        "\n",
        "# Example:\n",
        "#0.3657050132751465\n",
        "#0.3463745415210724\n",
        "#0.019330406561493874\n",
        "#0.5885359048843384\n",
        "#0.9974651336669922"
      ],
      "execution_count": null,
      "outputs": [
        {
          "output_type": "stream",
          "text": [
            "25/25 [==============================] - 0s 2ms/step - loss: 0.3357 - wine_quality_loss: 0.3095 - wine_type_loss: 0.0262 - wine_quality_root_mean_squared_error: 0.5563 - wine_type_accuracy: 0.9949\n",
            "\n",
            "loss: 0.3356677293777466\n",
            "wine_quality_loss: 0.3094549775123596\n",
            "wine_type_loss: 0.026212725788354874\n",
            "wine_quality_rmse: 0.5562867522239685\n",
            "wine_type_accuracy: 0.9949302673339844\n"
          ],
          "name": "stdout"
        }
      ]
    },
    {
      "cell_type": "markdown",
      "metadata": {
        "id": "gPtTGAP4usnm"
      },
      "source": [
        "## Analyze the Model Performance\n",
        "\n",
        "Note that the model has two outputs. The output at index 0 is quality and index 1 is wine type\n",
        "\n",
        "So, round the quality predictions to the nearest integer."
      ]
    },
    {
      "cell_type": "code",
      "metadata": {
        "id": "tBq9PEeAaW-Y"
      },
      "source": [
        "predictions = model.predict(norm_test_X)\n",
        "quality_pred = predictions[0]\n",
        "type_pred = predictions[1]"
      ],
      "execution_count": null,
      "outputs": []
    },
    {
      "cell_type": "code",
      "metadata": {
        "id": "YLhgTR4xTIxj",
        "colab": {
          "base_uri": "https://localhost:8080/"
        },
        "outputId": "b987077d-7846-40cf-e551-742e4b0bcecc"
      },
      "source": [
        "print(quality_pred[0])\n",
        "\n",
        "# EXPECTED OUTPUT\n",
        "# 5.6 - 6.0"
      ],
      "execution_count": null,
      "outputs": [
        {
          "output_type": "stream",
          "text": [
            "[5.605703]\n"
          ],
          "name": "stdout"
        }
      ]
    },
    {
      "cell_type": "code",
      "metadata": {
        "id": "MPi-eYfGTUXi",
        "colab": {
          "base_uri": "https://localhost:8080/"
        },
        "outputId": "c7dc6cb5-c3e5-4da5-f4a8-ba5787ea92c7"
      },
      "source": [
        "print(type_pred[0])\n",
        "print(type_pred[944])\n",
        "\n",
        "# EXPECTED OUTPUT\n",
        "# A number close to zero\n",
        "# A number close to or equal to 1"
      ],
      "execution_count": null,
      "outputs": [
        {
          "output_type": "stream",
          "text": [
            "[0.00015635]\n",
            "[0.99999917]\n"
          ],
          "name": "stdout"
        }
      ]
    },
    {
      "cell_type": "markdown",
      "metadata": {
        "id": "Kohk-9C6vt_s"
      },
      "source": [
        "### Plot Utilities\n",
        "\n",
        "We define a few utilities to visualize the model performance."
      ]
    },
    {
      "cell_type": "code",
      "metadata": {
        "id": "62gEOFUhn6aQ"
      },
      "source": [
        "def plot_metrics(metric_name, title, ylim=5):\n",
        "    plt.title(title)\n",
        "    plt.ylim(0,ylim)\n",
        "    plt.plot(history.history[metric_name],color='blue',label=metric_name)\n",
        "    plt.plot(history.history['val_' + metric_name],color='green',label='val_' + metric_name)\n"
      ],
      "execution_count": null,
      "outputs": []
    },
    {
      "cell_type": "code",
      "metadata": {
        "id": "6rfgSx7uz5dj"
      },
      "source": [
        "def plot_confusion_matrix(y_true, y_pred, title='', labels=[0,1]):\n",
        "    cm = confusion_matrix(y_true, y_pred)\n",
        "    fig = plt.figure()\n",
        "    ax = fig.add_subplot(111)\n",
        "    cax = ax.matshow(cm)\n",
        "    plt.title('Confusion matrix of the classifier')\n",
        "    fig.colorbar(cax)\n",
        "    ax.set_xticklabels([''] + labels)\n",
        "    ax.set_yticklabels([''] + labels)\n",
        "    plt.xlabel('Predicted')\n",
        "    plt.ylabel('True')\n",
        "    fmt = 'd'\n",
        "    thresh = cm.max() / 2.\n",
        "    for i, j in itertools.product(range(cm.shape[0]), range(cm.shape[1])):\n",
        "          plt.text(j, i, format(cm[i, j], fmt),\n",
        "                  horizontalalignment=\"center\",\n",
        "                  color=\"black\" if cm[i, j] > thresh else \"white\")\n",
        "    plt.show()"
      ],
      "execution_count": null,
      "outputs": []
    },
    {
      "cell_type": "code",
      "metadata": {
        "id": "dfVLIqi017Vf"
      },
      "source": [
        "def plot_diff(y_true, y_pred, title = '' ):\n",
        "    plt.scatter(y_true, y_pred)\n",
        "    plt.title(title)\n",
        "    plt.xlabel('True Values')\n",
        "    plt.ylabel('Predictions')\n",
        "    plt.axis('equal')\n",
        "    plt.axis('square')\n",
        "    plt.plot([-100, 100], [-100, 100])\n",
        "    return plt"
      ],
      "execution_count": null,
      "outputs": []
    },
    {
      "cell_type": "markdown",
      "metadata": {
        "id": "8sd1jdFbwE0I"
      },
      "source": [
        "### Plots for Metrics"
      ]
    },
    {
      "cell_type": "code",
      "metadata": {
        "id": "f3MwZ5J1pOfj",
        "colab": {
          "base_uri": "https://localhost:8080/",
          "height": 281
        },
        "outputId": "0cd38e18-a4e1-4b6e-fa95-e5c8dc3b5802"
      },
      "source": [
        "plot_metrics('wine_quality_root_mean_squared_error', 'RMSE', ylim=2)"
      ],
      "execution_count": null,
      "outputs": [
        {
          "output_type": "display_data",
          "data": {
            "image/png": "[encoded data removed]",
            "text/plain": [
              "<Figure size 432x288 with 1 Axes>"
            ]
          },
          "metadata": {
            "tags": [],
            "needs_background": "light"
          }
        }
      ]
    },
    {
      "cell_type": "code",
      "metadata": {
        "id": "QIAxEezCppnd",
        "colab": {
          "base_uri": "https://localhost:8080/",
          "height": 281
        },
        "outputId": "a1ccfa4a-5727-453c-c6c6-c29b01bb1516"
      },
      "source": [
        "plot_metrics('wine_type_loss', 'Wine Type Loss', ylim=0.2)"
      ],
      "execution_count": null,
      "outputs": [
        {
          "output_type": "display_data",
          "data": {
            "image/png": "[encoded data removed]",
            "text/plain": [
              "<Figure size 432x288 with 1 Axes>"
            ]
          },
          "metadata": {
            "tags": [],
            "needs_background": "light"
          }
        }
      ]
    },
    {
      "cell_type": "markdown",
      "metadata": {
        "id": "uYV9AOAMwI9p"
      },
      "source": [
        "### Plots for Confusion Matrix\n",
        "\n",
        "Plot the confusion matrices for wine type. You can see that the model performs well for prediction of wine type from the confusion matrix and the loss metrics."
      ]
    },
    {
      "cell_type": "code",
      "metadata": {
        "id": "C3hvTYxIaf3n",
        "colab": {
          "base_uri": "https://localhost:8080/",
          "height": 289
        },
        "outputId": "5e84cb7a-b09a-4ed5-9b3c-093e27dae5a2"
      },
      "source": [
        "plot_confusion_matrix(test_Y[1], np.round(type_pred), title='Wine Type', labels = [0, 1])"
      ],
      "execution_count": null,
      "outputs": [
        {
          "output_type": "display_data",
          "data": {
            "image/png": "[encoded data removed]",
            "text/plain": [
              "<Figure size 432x288 with 2 Axes>"
            ]
          },
          "metadata": {
            "tags": [],
            "needs_background": "light"
          }
        }
      ]
    },
    {
      "cell_type": "code",
      "metadata": {
        "id": "GW91ym8P2I5y",
        "colab": {
          "base_uri": "https://localhost:8080/",
          "height": 295
        },
        "outputId": "893a9041-886d-4788-a87e-e9d15366e568"
      },
      "source": [
        "scatter_plot = plot_diff(test_Y[0], quality_pred, title='Type')"
      ],
      "execution_count": null,
      "outputs": [
        {
          "output_type": "display_data",
          "data": {
            "image/png": "[encoded data removed]",
            "text/plain": [
              "<Figure size 432x288 with 1 Axes>"
            ]
          },
          "metadata": {
            "tags": [],
            "needs_background": "light"
          }
        }
      ]
    }
  ]
}